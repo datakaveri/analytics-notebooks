{
 "cells": [
  {
   "cell_type": "markdown",
   "id": "a6e77d69",
   "metadata": {},
   "source": [
    "## Import Packages"
   ]
  },
  {
   "cell_type": "code",
   "execution_count": 1,
   "id": "83528f25",
   "metadata": {},
   "outputs": [
    {
     "name": "stderr",
     "output_type": "stream",
     "text": [
      "/Users/chetan/opt/anaconda3/envs/KrigingGCN/lib/python3.10/site-packages/tqdm/auto.py:22: TqdmWarning: IProgress not found. Please update jupyter and ipywidgets. See https://ipywidgets.readthedocs.io/en/stable/user_install.html\n",
      "  from .autonotebook import tqdm as notebook_tqdm\n"
     ]
    }
   ],
   "source": [
    "from __future__ import division\n",
    "import math\n",
    "import torch\n",
    "from torch import nn\n",
    "import numpy as np\n",
    "import torch.optim as optim\n",
    "import matplotlib.pyplot as plt\n",
    "from utils import load_metr_la_rdata, get_normalized_adj, get_Laplace, calculate_random_walk_matrix,test_error\n",
    "import random\n",
    "import pandas as pd\n",
    "from basic_structure import D_GCN, C_GCN, K_GCN,IGNNK\n",
    "from sklearn.model_selection import train_test_split\n",
    "from sklearn.preprocessing import StandardScaler\n",
    "from sklearn.metrics import mean_absolute_error as mae\n",
    "import geopandas as gp\n",
    "import matplotlib as mlt\n",
    "from numpy import genfromtxt\n",
    "import scipy\n",
    "import scipy.sparse as sp\n",
    "import seaborn as sns\n",
    "import heapq\n",
    "import joblib\n",
    "from geopy.distance import distance as geodist\n",
    "from sklearn.neighbors import NearestNeighbors\n",
    "plt.rcParams['figure.figsize'] = (20, 10)"
   ]
  },
  {
   "cell_type": "markdown",
   "id": "e9cac90d",
   "metadata": {},
   "source": [
    "## Import Data\n",
    "\n",
    "Air Quality Data from Pune City in India: Contains air quality data and composition of various pollutants at different locations.\n",
    "<br>\n",
    "Sensor locations data: Contains Latitude, Longitude information, sensor ID, and sensor address.\n",
    "<br>\n",
    "Import air quality index time series data (15 min interval data): obtained by performing regression on Pune dataset.\n",
    "<br>\n",
    "Boundary map of the city pune."
   ]
  },
  {
   "cell_type": "code",
   "execution_count": 165,
   "id": "53fca7ef",
   "metadata": {},
   "outputs": [],
   "source": [
    "Aqm_Pune = pd.read_csv('pune-aqm.csv')              # Load Raw AQM Data\n",
    "Sensor_Location = pd.read_csv('pune_sensor.csv')    # Load Sensor Location Data\n",
    "#time_series_data = genfromtxt('pune_aqm_2020Oct_2022July_TimeSynched.csv', delimiter=',', skip_header = 1) # Load Time Synchronized AQM Data\n",
    "time_series_data = genfromtxt('GRIN_Imputed_Pune_Data.csv', delimiter=',', skip_header = 1) # Load GRIN Imputed Data\n",
    "map_ms=gp.read_file('maharashtra_administrative/maharashtra_administrative.shp',encoding=\"utf-8\")\n",
    "map_pune = map_ms[map_ms['NAME'] == 'Pune']"
   ]
  },
  {
   "cell_type": "markdown",
   "id": "77c2f443",
   "metadata": {},
   "source": [
    "### Data Selection"
   ]
  },
  {
   "cell_type": "code",
   "execution_count": 166,
   "id": "b8f300bd",
   "metadata": {},
   "outputs": [
    {
     "data": {
      "text/plain": [
       "array([[ 4.25    ,  4.25    ,  4.25    , ..., 13.      , 14.      ,\n",
       "        14.5     ],\n",
       "       [22.716587, 22.716587, 22.716587, ...,  9.408189,  9.408189,\n",
       "         9.408189],\n",
       "       [ 6.727941,  6.727941,  6.727941, ...,  3.      ,  2.      ,\n",
       "         3.      ],\n",
       "       ...,\n",
       "       [18.684256, 18.684256, 18.684256, ...,  4.375   ,  4.375   ,\n",
       "         0.      ],\n",
       "       [22.382853, 22.382853, 22.382853, ...,  3.      ,  4.      ,\n",
       "         3.      ],\n",
       "       [13.      , 13.      , 13.      , ...,  9.      ,  9.      ,\n",
       "         9.      ]])"
      ]
     },
     "execution_count": 166,
     "metadata": {},
     "output_type": "execute_result"
    }
   ],
   "source": [
    "#time_series_data = np.nan_to_num(time_series_data[:,1:])  # Replace NaN with 0's in Time Synchronized Data\n",
    "time_series_data = time_series_data[2:,1:].T               # Discard Unwanted rows and Columns from the Data\n",
    "time_series_data"
   ]
  },
  {
   "cell_type": "markdown",
   "id": "4e05850b",
   "metadata": {},
   "source": [
    "### Order Latitude and Longitude according to the Data"
   ]
  },
  {
   "cell_type": "code",
   "execution_count": 167,
   "id": "3bf91b36",
   "metadata": {},
   "outputs": [],
   "source": [
    "dum = Aqm_Pune.id.unique()    # Get all the sensor ID's\n",
    "known_latlon = pd.DataFrame(columns = ['latitude', 'longitude'])       # Create an empty DataFrame to store 'known' latitude and longitude\n",
    "\n",
    "for i in range(len(Sensor_Location)-1):           # Loop over all the sensor loations in the data\n",
    "    single_sensor_location = Sensor_Location[Sensor_Location['id'] == dum[i]].reset_index(drop=True,inplace=False)   # Get information of a single sensor\n",
    "    known_latlon.loc[len(known_latlon.index)] = [(single_sensor_location['latitude'].values)[0], (single_sensor_location['longitude'].values)[0]]    # Append dummy data frame to the ordered data frame \n",
    "#known_latlon"
   ]
  },
  {
   "cell_type": "markdown",
   "id": "ce6de8a9",
   "metadata": {},
   "source": [
    "###### Create a grid of Latitude and Longitudes around existing sensor locations"
   ]
  },
  {
   "cell_type": "code",
   "execution_count": 168,
   "id": "1d6c8fba",
   "metadata": {},
   "outputs": [],
   "source": [
    "lat_min = min(known_latlon['latitude']) # Minimum latitude value\n",
    "lat_max = max(known_latlon['latitude']) # Maximum latitude value\n",
    "lng_min = min(known_latlon['longitude']) # Minimum longitude value\n",
    "lng_max = max(known_latlon['longitude']) # Maximum longitude value\n",
    "ext = 0.01 # Value of extension to the grid\n",
    "grid_length = 10\n",
    "xx = np.linspace(lng_min-ext, lng_max+ext, grid_length) # Get 100 longitude values between maximum and minimum longitude values\n",
    "yy = np.linspace(lat_min-ext, lat_max+ext, grid_length) # Get 100 latitude values between maximum and minimum latitudes values\n",
    "\n",
    "unknown_set = np.meshgrid(xx, yy) # Get grid with arrays xx and yy\n",
    "gridx = np.reshape(unknown_set[0], (1, grid_length*grid_length)) # Array of all longitude values in the grid\n",
    "gridy = np.reshape(unknown_set[1], (1, grid_length*grid_length)) # Array of all latitude values in the grid\n",
    "\n",
    "gridyx = np.concatenate((gridy.T, gridx.T), axis=1) # Concatenate latitude and longitude arrays\n",
    "\n",
    "unknown_latlon = pd.DataFrame(columns = ['latitude', 'longitude']) # Define an empty DataFrame for unknown latitude and longitude values\n",
    "unknown_latlon[['latitude', 'longitude']] = gridyx # Assign Concatenated latitude and longitude array to unknown latitude longitude DataFrame\n",
    "\n",
    "latlon = pd.concat([known_latlon, unknown_latlon], ignore_index = True) # Concatenate both known and Unknown lat lon DataFrame with new index\n",
    "#latlon"
   ]
  },
  {
   "cell_type": "markdown",
   "id": "5f7f6701",
   "metadata": {},
   "source": [
    "### Initializations\n",
    "\n",
    "n_sample $(n_o + n_m)$: is the sampling space dimension for random graph sampling for model traning\n",
    "<br>\n",
    "Time Dimension ($h$): is the sampled time dimension or the chosen sliding window lenght for the model learning\n",
    "<br>\n",
    "Hiddenn Dimension ($z$): is the number hidden layers for graph convolution (Graph Neural Network)\n",
    "<br>\n",
    "order ($K$): Odrder of diffusion convolution, the actual convolution step is $K+1$\n",
    "<br>\n",
    "Masked nodes ($n_m$): Number of masked nodes during training\n",
    "<br>\n",
    "Target Locations ($N_u$): Locations that will be deleted from training data\n",
    "<br>\n",
    "Maximum Episode: Maximum training ietrations (more the iterations better the training model will be)\n",
    "<br>\n",
    "learning_rate: the learning rate of the Adam optimizer for weights optimation in GNN\n",
    "<br>\n",
    "E_maxvalue: Maximum values from learning experience\n",
    "<br>\n",
    "Batch Size (batch_size): Batch size used for model training"
   ]
  },
  {
   "cell_type": "code",
   "execution_count": 169,
   "id": "493d9da8",
   "metadata": {},
   "outputs": [],
   "source": [
    "n_sample = 39            # sampled space dimension\n",
    "\n",
    "time_dimension = 8       # h - sampled time dimension (one day data with one sample every 15min)\n",
    "\n",
    "hidden_dimension = 100   # z - hidden dimension for graph convolution\n",
    "\n",
    "order = 2                # k - If using diffusion convolution, the actual diffusion convolution step is K+1\n",
    "\n",
    "n_m = 17                 # number of mask node during training\n",
    "\n",
    "N_u = 17                 # target locations, N_u locations will be deleted from the training data\n",
    "\n",
    "Max_episode = 100        # max training episode\n",
    "\n",
    "learning_rate = 0.0001   # the learning_rate for Adam optimizer\n",
    "\n",
    "E_maxvalue = 1           # the max value from experience\n",
    "\n",
    "batch_size = 4"
   ]
  },
  {
   "cell_type": "markdown",
   "id": "8956ad52",
   "metadata": {},
   "source": [
    "### Building the IGNNK Model"
   ]
  },
  {
   "cell_type": "code",
   "execution_count": 170,
   "id": "3128ca28",
   "metadata": {},
   "outputs": [],
   "source": [
    "IGNNKmodel = IGNNK(time_dimension, hidden_dimension, order)  # The graph neural networks"
   ]
  },
  {
   "cell_type": "markdown",
   "id": "c8dcfd94",
   "metadata": {},
   "source": [
    "### Building Gaussian Adjacency Matrix\n",
    "\n",
    "$Step\\ 1:$ Compute pairwise distacne between the sensor locations\n",
    "<br>\n",
    "$Step\\ 2:$ Build Gaussian adjacency mactrix $W_{ij}$ using equation:\n",
    "<br>\n",
    "$$\n",
    "W_{ij} = \\exp\\Big(-\\frac{dist(s_i-s_j)^2}{2\\sigma^2}\\Big)\n",
    "$$\n",
    "<br>\n",
    "where $dist(s_i-s_j)$ is the distance between the geographic loactions $s_i$ and $s_j$."
   ]
  },
  {
   "cell_type": "code",
   "execution_count": 171,
   "id": "2818b326",
   "metadata": {},
   "outputs": [],
   "source": [
    "# Compute pairwise distances between all the sensor locations\n",
    "pairwise_distance = scipy.spatial.distance.cdist(known_latlon.to_numpy(), known_latlon.to_numpy(), lambda u, v: geodist(u, v).km)\n",
    "# known_pairwise_distance = scipy.spatial.distance.cdist(known_latlon.to_numpy(), known_latlon.to_numpy(), lambda u, v: geodist(u, v).km)\n",
    "           \n",
    "\n",
    "# Choose sigma (standard Deviation of the pairwise distances)\n",
    "#sigma = np.std(pairwise_distance)\n",
    "#print(sigma)\n",
    "sigma = 2 # From above sigma computation (Commented to save running time)\n",
    "\n",
    "# Compute Adjacency matrix\n",
    "Wij = np.exp(-0.5*(pairwise_distance**2/sigma**2))\n",
    "#sigma = np.mean(pairwise_distance)"
   ]
  },
  {
   "cell_type": "markdown",
   "id": "570489b1",
   "metadata": {},
   "source": [
    "### Building Gaussian Adjacency Matrix using k-Nearest Neighbours\n",
    "\n",
    "Consider only k-Nearest Neighbors in the Adjacency Matrix.\n",
    "<br>\n",
    "Suppose $\\mathcal{N}_i$ represents the k-Nearest Neighborhood to the location $i$. Then, build Gaussian adjacency mactrix $W_{ij}$ using equation:\n",
    "<br>\n",
    "$$\n",
    "W_{ij} = \n",
    "\\begin{cases}\n",
    "    \\exp\\Big(-\\frac{dist(s_i-s_j)^2}{2\\sigma^2}\\Big),& \\text{if } s_j \\in \\mathcal{N}_i\\\\\n",
    "    0,& \\text{otherwise}\n",
    "\\end{cases}\n",
    "$$"
   ]
  },
  {
   "cell_type": "code",
   "execution_count": 172,
   "id": "71ebd312",
   "metadata": {},
   "outputs": [],
   "source": [
    "Wij_k = np.zeros(pairwise_distance.shape)\n",
    "k = 5   # Number of neighbors considered\n",
    "\n",
    "for i in range(pairwise_distance.shape[0]):\n",
    "    arr = pairwise_distance[i]        # Get i'th row in the distance matrix\n",
    "    indices = np.argsort(arr)[1:k]    # Indices of the k-Nearest Neighbors\n",
    "    Wij_k[i, indices] = np.exp(-0.5*(arr[indices]/sigma)**2)  # Compute Gaussian Kernel for k-Nearest Neighbors"
   ]
  },
  {
   "cell_type": "markdown",
   "id": "54215e59",
   "metadata": {},
   "source": [
    "###### Assign and arrange Time Series data and Adjacency Matrix"
   ]
  },
  {
   "cell_type": "code",
   "execution_count": 173,
   "id": "8c110660",
   "metadata": {},
   "outputs": [],
   "source": [
    "#A = Wij \n",
    "A = Wij_k  # For k-Nearest Neighbor based kernel\n",
    "X = time_series_data\n",
    "X = X[:-1,:]   # Discard last sensor and discard last row in the time series data\n",
    "#data_scaler = StandardScaler()\n",
    "#data_scaler.fit(X)\n",
    "#X = data_scaler.transform(X)"
   ]
  },
  {
   "cell_type": "markdown",
   "id": "4012404a",
   "metadata": {},
   "source": [
    "###### Divide known and unknown locations, Get training data and corresponding Adjacency Matrix"
   ]
  },
  {
   "cell_type": "code",
   "execution_count": 174,
   "id": "1a672d8e",
   "metadata": {},
   "outputs": [],
   "source": [
    "X_train, X_test, y_train, y_test, indices_train, indices_test = train_test_split(known_latlon.to_numpy(), X, np.arange(X.shape[0]), test_size=0.2, random_state=0)"
   ]
  },
  {
   "cell_type": "code",
   "execution_count": 175,
   "id": "e3f90dd9",
   "metadata": {},
   "outputs": [],
   "source": [
    "split = int(X.shape[1] * 0.7)\n",
    "training_set = X[:, :split].T #[:, :split]\n",
    "test_set = X[:, split:].T                    # split the training and test period\n",
    "known_set = set(indices_train)                          # Get indices of unknown locations\n",
    "unknown_set = set(indices_test)                         # Get indices of known locations\n",
    "training_data = training_set[:,list(known_set)]                                     # Get training data (Available data in this case)\n",
    "A_known = A[:, list(known_set)][list(known_set), :]     # Get adjacency matrix for known locations from full adjacency matrix"
   ]
  },
  {
   "cell_type": "markdown",
   "id": "f6236c8f",
   "metadata": {},
   "source": [
    "### Train IGNNK Model"
   ]
  },
  {
   "cell_type": "code",
   "execution_count": 176,
   "id": "c1afcbc0",
   "metadata": {},
   "outputs": [
    {
     "name": "stderr",
     "output_type": "stream",
     "text": [
      "/Users/chetan/opt/anaconda3/envs/KrigingGCN/utils.py:270: RuntimeWarning: divide by zero encountered in power\n",
      "  d_inv = np.power(d, -1).flatten()\n"
     ]
    },
    {
     "name": "stdout",
     "output_type": "stream",
     "text": [
      "0 25.800519755675783 50.69048460179254 0.12184512767356115\n",
      "10 25.802892746382703 50.11324299327876 0.14173135727483333\n",
      "20 25.21709486613752 49.421476806515365 0.16526299519803356\n",
      "30 25.18615101050083 49.320893335344714 0.16865728090837462\n",
      "40 24.902079649967554 49.2603549407144 0.17069687357701413\n",
      "50 24.578122449953813 48.81207517287142 0.1857218674698442\n",
      "60 24.80743420396647 49.28568659176163 0.16984373238807593\n",
      "70 24.082865826479612 48.193306348430916 0.20623549575169065\n",
      "80 24.090435317090456 47.86450400325602 0.21702958036676312\n",
      "90 24.00041698565532 48.352455992540875 0.20098431319149446\n",
      "Best model result: [23.82855713] [47.80819346] [0.21887076]\n"
     ]
    }
   ],
   "source": [
    "criterion = nn.MSELoss()\n",
    "optimizer = optim.Adam(IGNNKmodel.parameters(), lr=learning_rate)\n",
    "RMSE_list = []\n",
    "MAE_list = []\n",
    "MAPE_list = []\n",
    "ignnk_predict_list = []\n",
    "for epoch in range(100):\n",
    "    for i in range(training_data.shape[0]//(time_dimension * batch_size)):  #using time_length as reference to record test_error\n",
    "        random_time_index = np.random.randint(0, high=(training_data.shape[0] - time_dimension), size=batch_size, dtype='l')\n",
    "        known_mask = set(random.sample(range(0,training_data.shape[1]),n_sample)) #sample n_o + n_m nodes\n",
    "        feed_batch = []\n",
    "        for j in range(batch_size):\n",
    "            feed_batch.append(training_data[random_time_index[j]: random_time_index[j] + time_dimension, :][:, list(known_mask)]) #generate 8 time batches\n",
    "        \n",
    "        inputs = np.array(feed_batch)\n",
    "        inputs_omask = np.ones(np.shape(inputs))\n",
    "        inputs_omask[inputs == 0] = 0           # We found that there are irregular 0 values for METR-LA, so we treat those 0 values as missing data,\n",
    "                                                # For other datasets, it is not necessary to mask 0 values\n",
    "        missing_index = np.ones((inputs.shape))\n",
    "        for j in range(batch_size):\n",
    "            missing_mask = random.sample(range(0,n_sample),n_m) #Masked locations\n",
    "            missing_index[j, :, missing_mask] = 0\n",
    "        Mf_inputs = inputs * inputs_omask * missing_index / E_maxvalue #normalize the value according to experience\n",
    "        Mf_inputs = torch.from_numpy(Mf_inputs.astype('float32'))\n",
    "        mask = torch.from_numpy(inputs_omask.astype('float32'))   #The reconstruction errors on irregular 0s are not used for training\n",
    "        \n",
    "        A_dynamic = A_known[list(known_mask), :][:, list(known_mask)]   #Obtain the dynamic adjacent matrix\n",
    "        A_q = torch.from_numpy((calculate_random_walk_matrix(A_dynamic).T).astype('float32'))\n",
    "        A_h = torch.from_numpy((calculate_random_walk_matrix(A_dynamic.T).T).astype('float32'))\n",
    "        \n",
    "        outputs = torch.from_numpy(inputs.astype('float32')/E_maxvalue) #The label\n",
    "        \n",
    "        optimizer.zero_grad()\n",
    "        X_res = IGNNKmodel(Mf_inputs, A_q, A_h)  #Obtain the reconstruction\n",
    "        loss = criterion(X_res*mask, outputs*mask)\n",
    "        loss.backward()\n",
    "        optimizer.step()        #Errors backward\n",
    "        \n",
    "    \n",
    "    \n",
    "    #estimated_data = np.zeros([training_data.shape[0], len(unknown_set)])\n",
    "    #training_estimated_data = np.concatenate((training_data, estimated_data), axis = 1)\n",
    "\n",
    "    #print(training_estimated_data.shape)\n",
    "    #print(training_data.shape)\n",
    "    #print(estimated_data.shape)\n",
    "    MAE_t, RMSE_t, MAPE_t, ignnk_predict  = test_error(IGNNKmodel, unknown_set, test_set, A,E_maxvalue, True)\n",
    "    RMSE_list.append(RMSE_t)\n",
    "    MAE_list.append(MAE_t)\n",
    "    MAPE_list.append(MAPE_t)\n",
    "    ignnk_predict_list.append(ignnk_predict)\n",
    "    if epoch%10 == 0:\n",
    "        print(epoch, MAE_t, RMSE_t, MAPE_t)\n",
    "idx = MAE_list == min(MAE_list)\n",
    "print('Best model result:',np.array(MAE_list)[idx],np.array(RMSE_list)[idx],np.array(MAPE_list)[idx])\n",
    "ignnk_predict_opt = ignnk_predict_list[int(np.where(idx)[0])]"
   ]
  },
  {
   "cell_type": "markdown",
   "id": "63367eb4",
   "metadata": {},
   "source": [
    "### Interpolate PM2.5 at Masked locations"
   ]
  },
  {
   "cell_type": "code",
   "execution_count": 178,
   "id": "8a8dcedb",
   "metadata": {},
   "outputs": [],
   "source": [
    "estimated_data = np.zeros([time_series_data.shape[1], len(unknown_set)])\n",
    "training_estimated_data = np.concatenate((X[list(known_set),:].T, estimated_data), axis = 1)\n",
    "MAE_t, RMSE_t, MAPE_t, ignnk_predict  = test_error(IGNNKmodel, unknown_set, training_estimated_data, A,E_maxvalue, True)"
   ]
  },
  {
   "cell_type": "markdown",
   "id": "638e7741",
   "metadata": {},
   "source": [
    "### Plot RMSE on training set"
   ]
  },
  {
   "cell_type": "code",
   "execution_count": 138,
   "id": "b0eb05fb",
   "metadata": {},
   "outputs": [
    {
     "data": {
      "image/png": "[encoded data removed]",
      "text/plain": [
       "<Figure size 432x288 with 1 Axes>"
      ]
     },
     "metadata": {
      "needs_background": "light"
     },
     "output_type": "display_data"
    }
   ],
   "source": [
    "fig,ax = plt.subplots()\n",
    "ax.plot(RMSE_list,label='RMSE_on_test_set',linewidth=3.5)\n",
    "ax.set_xlabel('Training Batch (x249)',fontsize=20)\n",
    "ax.set_ylabel('RMSE',fontsize=20)\n",
    "ax.tick_params(axis=\"x\", labelsize=14)\n",
    "ax.tick_params(axis=\"y\", labelsize=14)\n",
    "ax.legend(fontsize=16)\n",
    "plt.grid(True)\n",
    "plt.tight_layout()"
   ]
  },
  {
   "cell_type": "markdown",
   "id": "1e6bdac4",
   "metadata": {},
   "source": [
    "### Initialize variables to get Date-Time object for Sensor Measurements for every 15 min interval"
   ]
  },
  {
   "cell_type": "code",
   "execution_count": 136,
   "id": "67f55569",
   "metadata": {},
   "outputs": [],
   "source": [
    "from datetime import datetime, timedelta, timezone\n",
    "start_date = '2020-10-16 05:30:00'     # Starting date-time for data\n",
    "#date_format_str = '%Y-%m-%d %H:%M:%S%z'\n",
    "date_format_str = '%Y-%m-%d %H:%M:%S'  # Date-time format\n",
    "end_date = '2022-07-20 05:30:00'       # Ending date-time for data\n",
    "d0 = datetime.strptime(start_date, date_format_str) # Converting starting date-time string to datetime Object\n",
    "d1 = datetime.strptime(end_date, date_format_str)   # Converting ending date-time string to datetime Object\n",
    "diff = d1-d0      # Get difference between stating date-time object to ending date-time object\n",
    "sampling_frequency = 0.25       # Sampling frequency (0.25 = 15min, 0.5 = 30min, 1 = 1hr)\n",
    "end_slot = start_date           # Initiate ending time slot as the starting time\n",
    "start_slot = datetime.strptime(start_date, date_format_str) # Initiate starting time slot as the starting time\n",
    "                                                            # Initially start and end slots are the same (before iteration)"
   ]
  },
  {
   "cell_type": "markdown",
   "id": "1706fb66",
   "metadata": {},
   "source": [
    "### Get Date-Time object for Sensor Measurements for every 15 min interval"
   ]
  },
  {
   "cell_type": "code",
   "execution_count": 137,
   "id": "99fea88e",
   "metadata": {},
   "outputs": [],
   "source": [
    "DateTime = start_slot  # Variable to store date-time object data, Initiate DateTime with starting date-time object and store \n",
    "for j in range(int(diff.days*24*(1/sampling_frequency))):      # Loop to get date-time objects for sensor data\n",
    "    end_slot = start_slot+timedelta(hours = sampling_frequency) # Change end_slot for the loop by adding 15 mins to start_slot\n",
    "    start_slot = end_slot    # Change start_slot for the next loop by assiging end_slot to start_slot\n",
    "    DateTime = np.append(DateTime, start_slot)  # Append new start_slot (next date-time object) to DateTime variable"
   ]
  },
  {
   "cell_type": "markdown",
   "id": "d9092ff7",
   "metadata": {},
   "source": [
    "### Compare Interpolation results with real data using plots"
   ]
  },
  {
   "cell_type": "code",
   "execution_count": 210,
   "id": "608df4f9",
   "metadata": {},
   "outputs": [
    {
     "data": {
      "image/png": "[encoded data removed]",
      "text/plain": [
       "<Figure size 1152x576 with 1 Axes>"
      ]
     },
     "metadata": {
      "needs_background": "light"
     },
     "output_type": "display_data"
    }
   ],
   "source": [
    "fig,ax = plt.subplots(figsize = (16,8))\n",
    "station = list(unknown_set)[3]\n",
    "ax.plot(DateTime[:-1], X[station, :61632],label='True',linewidth=2)\n",
    "ax.plot(DateTime[:-1], ignnk_predict[:61632,station],label='IGNNK',linewidth = 2)\n",
    "ax.set_ylabel('pm2.5',fontsize=20)\n",
    "ax.set_xlabel('Date Time',fontsize=20)\n",
    "ax.tick_params(axis=\"x\", labelsize=14)\n",
    "ax.tick_params(axis=\"y\", labelsize=14)\n",
    "ax.legend(loc='best', fontsize=16)\n",
    "plt.tight_layout()\n",
    "#plt.savefig('fig/ignnk_pm2p5.pdf')\n",
    "plt.show()"
   ]
  },
  {
   "cell_type": "markdown",
   "id": "55adaade",
   "metadata": {},
   "source": [
    "### Overall Mean Absolute Error between actual and Interpolated Data"
   ]
  },
  {
   "cell_type": "code",
   "execution_count": 204,
   "id": "711dbefa",
   "metadata": {},
   "outputs": [
    {
     "name": "stdout",
     "output_type": "stream",
     "text": [
      "Overall Mean Absolute Error is: 20.630129876253182\n"
     ]
    }
   ],
   "source": [
    "print('Overall Mean Absolute Error is:', mae(ignnk_predict[:61632,:],X[:, :61632].T))"
   ]
  },
  {
   "cell_type": "markdown",
   "id": "818f2d28",
   "metadata": {},
   "source": [
    "### Mean Absolute Error Between Actual and Interpolated Data for Individual Sensors"
   ]
  },
  {
   "cell_type": "code",
   "execution_count": 205,
   "id": "41f26422",
   "metadata": {},
   "outputs": [
    {
     "name": "stdout",
     "output_type": "stream",
     "text": [
      "MEA for sensor 4 is 14.049481326512733\n",
      "MEA for sensor 7 is 16.900867925349257\n",
      "MEA for sensor 10 is 17.417030621831465\n",
      "MEA for sensor 26 is 24.381716452126597\n",
      "MEA for sensor 29 is 14.816187851827562\n",
      "MEA for sensor 30 is 26.31692167158343\n",
      "MEA for sensor 32 is 22.91585190025183\n",
      "MEA for sensor 34 is 9.661776141449419\n",
      "MEA for sensor 37 is 10.485911761260747\n",
      "MEA for sensor 40 is 50.40397326206729\n"
     ]
    }
   ],
   "source": [
    "List = np.sort(indices_test)\n",
    "MAEs = []\n",
    "for i in range(10):\n",
    "    print('MEA for sensor {} is {}'.format( List[i], mae(ignnk_predict[:,List[i]],X[List[i], :])))\n",
    "    MAEs.append(mae(ignnk_predict[:,List[i]],X[List[i], :]))"
   ]
  }
 ],
 "metadata": {
  "kernelspec": {
   "display_name": "KrigingGCN",
   "language": "python",
   "name": "kriginggcn"
  },
  "language_info": {
   "codemirror_mode": {
    "name": "ipython",
    "version": 3
   },
   "file_extension": ".py",
   "mimetype": "text/x-python",
   "name": "python",
   "nbconvert_exporter": "python",
   "pygments_lexer": "ipython3",
   "version": "3.10.5"
  }
 },
 "nbformat": 4,
 "nbformat_minor": 5
}
