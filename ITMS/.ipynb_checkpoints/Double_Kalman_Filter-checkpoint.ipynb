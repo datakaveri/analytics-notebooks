{
  "cells": [
    {
      "cell_type": "markdown",
      "id": "7ae6d837",
      "metadata": {
        "id": "7ae6d837"
      },
      "source": [
        "# Importing Libraries"
      ]
    },
    {
      "cell_type": "code",
      "source": [
        "!pip install spektral\n",
        "!pip install haversine\n",
        "!pip install rdp\n",
        "!pip install h3\n",
        "!pip install filterpy"
      ],
      "metadata": {
        "colab": {
          "base_uri": "https://localhost:8080/"
        },
        "id": "6Q9bQhFTbNaY",
        "outputId": "2dc43097-16ca-4ba2-e951-584986e5eb13"
      },
      "id": "6Q9bQhFTbNaY",
      "execution_count": 1,
      "outputs": [
        {
          "output_type": "stream",
          "name": "stdout",
          "text": [
            "Collecting spektral\n",
            "  Downloading spektral-1.3.0-py3-none-any.whl (140 kB)\n",
            "\u001b[2K     \u001b[90m━━━━━━━━━━━━━━━━━━━━━━━━━━━━━━━━━━━━━━━━\u001b[0m \u001b[32m140.1/140.1 kB\u001b[0m \u001b[31m2.1 MB/s\u001b[0m eta \u001b[36m0:00:00\u001b[0m\n",
            "\u001b[?25hRequirement already satisfied: joblib in /usr/local/lib/python3.10/dist-packages (from spektral) (1.3.2)\n",
            "Requirement already satisfied: lxml in /usr/local/lib/python3.10/dist-packages (from spektral) (4.9.3)\n",
            "Requirement already satisfied: networkx in /usr/local/lib/python3.10/dist-packages (from spektral) (3.2.1)\n",
            "Requirement already satisfied: numpy in /usr/local/lib/python3.10/dist-packages (from spektral) (1.23.5)\n",
            "Requirement already satisfied: pandas in /usr/local/lib/python3.10/dist-packages (from spektral) (1.5.3)\n",
            "Requirement already satisfied: requests in /usr/local/lib/python3.10/dist-packages (from spektral) (2.31.0)\n",
            "Requirement already satisfied: scikit-learn in /usr/local/lib/python3.10/dist-packages (from spektral) (1.2.2)\n",
            "Requirement already satisfied: scipy in /usr/local/lib/python3.10/dist-packages (from spektral) (1.11.4)\n",
            "Requirement already satisfied: tqdm in /usr/local/lib/python3.10/dist-packages (from spektral) (4.66.1)\n",
            "Requirement already satisfied: tensorflow>=2.2.0 in /usr/local/lib/python3.10/dist-packages (from spektral) (2.15.0)\n",
            "Requirement already satisfied: absl-py>=1.0.0 in /usr/local/lib/python3.10/dist-packages (from tensorflow>=2.2.0->spektral) (1.4.0)\n",
            "Requirement already satisfied: astunparse>=1.6.0 in /usr/local/lib/python3.10/dist-packages (from tensorflow>=2.2.0->spektral) (1.6.3)\n",
            "Requirement already satisfied: flatbuffers>=23.5.26 in /usr/local/lib/python3.10/dist-packages (from tensorflow>=2.2.0->spektral) (23.5.26)\n",
            "Requirement already satisfied: gast!=0.5.0,!=0.5.1,!=0.5.2,>=0.2.1 in /usr/local/lib/python3.10/dist-packages (from tensorflow>=2.2.0->spektral) (0.5.4)\n",
            "Requirement already satisfied: google-pasta>=0.1.1 in /usr/local/lib/python3.10/dist-packages (from tensorflow>=2.2.0->spektral) (0.2.0)\n",
            "Requirement already satisfied: h5py>=2.9.0 in /usr/local/lib/python3.10/dist-packages (from tensorflow>=2.2.0->spektral) (3.9.0)\n",
            "Requirement already satisfied: libclang>=13.0.0 in /usr/local/lib/python3.10/dist-packages (from tensorflow>=2.2.0->spektral) (16.0.6)\n",
            "Requirement already satisfied: ml-dtypes~=0.2.0 in /usr/local/lib/python3.10/dist-packages (from tensorflow>=2.2.0->spektral) (0.2.0)\n",
            "Requirement already satisfied: opt-einsum>=2.3.2 in /usr/local/lib/python3.10/dist-packages (from tensorflow>=2.2.0->spektral) (3.3.0)\n",
            "Requirement already satisfied: packaging in /usr/local/lib/python3.10/dist-packages (from tensorflow>=2.2.0->spektral) (23.2)\n",
            "Requirement already satisfied: protobuf!=4.21.0,!=4.21.1,!=4.21.2,!=4.21.3,!=4.21.4,!=4.21.5,<5.0.0dev,>=3.20.3 in /usr/local/lib/python3.10/dist-packages (from tensorflow>=2.2.0->spektral) (3.20.3)\n",
            "Requirement already satisfied: setuptools in /usr/local/lib/python3.10/dist-packages (from tensorflow>=2.2.0->spektral) (67.7.2)\n",
            "Requirement already satisfied: six>=1.12.0 in /usr/local/lib/python3.10/dist-packages (from tensorflow>=2.2.0->spektral) (1.16.0)\n",
            "Requirement already satisfied: termcolor>=1.1.0 in /usr/local/lib/python3.10/dist-packages (from tensorflow>=2.2.0->spektral) (2.4.0)\n",
            "Requirement already satisfied: typing-extensions>=3.6.6 in /usr/local/lib/python3.10/dist-packages (from tensorflow>=2.2.0->spektral) (4.5.0)\n",
            "Requirement already satisfied: wrapt<1.15,>=1.11.0 in /usr/local/lib/python3.10/dist-packages (from tensorflow>=2.2.0->spektral) (1.14.1)\n",
            "Requirement already satisfied: tensorflow-io-gcs-filesystem>=0.23.1 in /usr/local/lib/python3.10/dist-packages (from tensorflow>=2.2.0->spektral) (0.34.0)\n",
            "Requirement already satisfied: grpcio<2.0,>=1.24.3 in /usr/local/lib/python3.10/dist-packages (from tensorflow>=2.2.0->spektral) (1.60.0)\n",
            "Requirement already satisfied: tensorboard<2.16,>=2.15 in /usr/local/lib/python3.10/dist-packages (from tensorflow>=2.2.0->spektral) (2.15.1)\n",
            "Requirement already satisfied: tensorflow-estimator<2.16,>=2.15.0 in /usr/local/lib/python3.10/dist-packages (from tensorflow>=2.2.0->spektral) (2.15.0)\n",
            "Requirement already satisfied: keras<2.16,>=2.15.0 in /usr/local/lib/python3.10/dist-packages (from tensorflow>=2.2.0->spektral) (2.15.0)\n",
            "Requirement already satisfied: python-dateutil>=2.8.1 in /usr/local/lib/python3.10/dist-packages (from pandas->spektral) (2.8.2)\n",
            "Requirement already satisfied: pytz>=2020.1 in /usr/local/lib/python3.10/dist-packages (from pandas->spektral) (2023.3.post1)\n",
            "Requirement already satisfied: charset-normalizer<4,>=2 in /usr/local/lib/python3.10/dist-packages (from requests->spektral) (3.3.2)\n",
            "Requirement already satisfied: idna<4,>=2.5 in /usr/local/lib/python3.10/dist-packages (from requests->spektral) (3.6)\n",
            "Requirement already satisfied: urllib3<3,>=1.21.1 in /usr/local/lib/python3.10/dist-packages (from requests->spektral) (2.0.7)\n",
            "Requirement already satisfied: certifi>=2017.4.17 in /usr/local/lib/python3.10/dist-packages (from requests->spektral) (2023.11.17)\n",
            "Requirement already satisfied: threadpoolctl>=2.0.0 in /usr/local/lib/python3.10/dist-packages (from scikit-learn->spektral) (3.2.0)\n",
            "Requirement already satisfied: wheel<1.0,>=0.23.0 in /usr/local/lib/python3.10/dist-packages (from astunparse>=1.6.0->tensorflow>=2.2.0->spektral) (0.42.0)\n",
            "Requirement already satisfied: google-auth<3,>=1.6.3 in /usr/local/lib/python3.10/dist-packages (from tensorboard<2.16,>=2.15->tensorflow>=2.2.0->spektral) (2.17.3)\n",
            "Requirement already satisfied: google-auth-oauthlib<2,>=0.5 in /usr/local/lib/python3.10/dist-packages (from tensorboard<2.16,>=2.15->tensorflow>=2.2.0->spektral) (1.2.0)\n",
            "Requirement already satisfied: markdown>=2.6.8 in /usr/local/lib/python3.10/dist-packages (from tensorboard<2.16,>=2.15->tensorflow>=2.2.0->spektral) (3.5.1)\n",
            "Requirement already satisfied: tensorboard-data-server<0.8.0,>=0.7.0 in /usr/local/lib/python3.10/dist-packages (from tensorboard<2.16,>=2.15->tensorflow>=2.2.0->spektral) (0.7.2)\n",
            "Requirement already satisfied: werkzeug>=1.0.1 in /usr/local/lib/python3.10/dist-packages (from tensorboard<2.16,>=2.15->tensorflow>=2.2.0->spektral) (3.0.1)\n",
            "Requirement already satisfied: cachetools<6.0,>=2.0.0 in /usr/local/lib/python3.10/dist-packages (from google-auth<3,>=1.6.3->tensorboard<2.16,>=2.15->tensorflow>=2.2.0->spektral) (5.3.2)\n",
            "Requirement already satisfied: pyasn1-modules>=0.2.1 in /usr/local/lib/python3.10/dist-packages (from google-auth<3,>=1.6.3->tensorboard<2.16,>=2.15->tensorflow>=2.2.0->spektral) (0.3.0)\n",
            "Requirement already satisfied: rsa<5,>=3.1.4 in /usr/local/lib/python3.10/dist-packages (from google-auth<3,>=1.6.3->tensorboard<2.16,>=2.15->tensorflow>=2.2.0->spektral) (4.9)\n",
            "Requirement already satisfied: requests-oauthlib>=0.7.0 in /usr/local/lib/python3.10/dist-packages (from google-auth-oauthlib<2,>=0.5->tensorboard<2.16,>=2.15->tensorflow>=2.2.0->spektral) (1.3.1)\n",
            "Requirement already satisfied: MarkupSafe>=2.1.1 in /usr/local/lib/python3.10/dist-packages (from werkzeug>=1.0.1->tensorboard<2.16,>=2.15->tensorflow>=2.2.0->spektral) (2.1.3)\n",
            "Requirement already satisfied: pyasn1<0.6.0,>=0.4.6 in /usr/local/lib/python3.10/dist-packages (from pyasn1-modules>=0.2.1->google-auth<3,>=1.6.3->tensorboard<2.16,>=2.15->tensorflow>=2.2.0->spektral) (0.5.1)\n",
            "Requirement already satisfied: oauthlib>=3.0.0 in /usr/local/lib/python3.10/dist-packages (from requests-oauthlib>=0.7.0->google-auth-oauthlib<2,>=0.5->tensorboard<2.16,>=2.15->tensorflow>=2.2.0->spektral) (3.2.2)\n",
            "Installing collected packages: spektral\n",
            "Successfully installed spektral-1.3.0\n",
            "Collecting haversine\n",
            "  Downloading haversine-2.8.0-py2.py3-none-any.whl (7.7 kB)\n",
            "Installing collected packages: haversine\n",
            "Successfully installed haversine-2.8.0\n",
            "Collecting rdp\n",
            "  Downloading rdp-0.8.tar.gz (4.4 kB)\n",
            "  Preparing metadata (setup.py) ... \u001b[?25l\u001b[?25hdone\n",
            "Requirement already satisfied: numpy in /usr/local/lib/python3.10/dist-packages (from rdp) (1.23.5)\n",
            "Building wheels for collected packages: rdp\n",
            "  Building wheel for rdp (setup.py) ... \u001b[?25l\u001b[?25hdone\n",
            "  Created wheel for rdp: filename=rdp-0.8-py3-none-any.whl size=4587 sha256=424ee8bd8abef5e095e41b30779f119d00e51433678e6aacdcb91f945c6a8a0c\n",
            "  Stored in directory: /root/.cache/pip/wheels/5d/12/ec/0fc50553af000b9c3d2c74b9f77a01ae4bfe856e9917ac239c\n",
            "Successfully built rdp\n",
            "Installing collected packages: rdp\n",
            "Successfully installed rdp-0.8\n",
            "Collecting h3\n",
            "  Downloading h3-3.7.6-cp310-cp310-manylinux_2_17_x86_64.manylinux2014_x86_64.whl (1.1 MB)\n",
            "\u001b[2K     \u001b[90m━━━━━━━━━━━━━━━━━━━━━━━━━━━━━━━━━━━━━━━━\u001b[0m \u001b[32m1.1/1.1 MB\u001b[0m \u001b[31m6.9 MB/s\u001b[0m eta \u001b[36m0:00:00\u001b[0m\n",
            "\u001b[?25hInstalling collected packages: h3\n",
            "Successfully installed h3-3.7.6\n",
            "Collecting filterpy\n",
            "  Downloading filterpy-1.4.5.zip (177 kB)\n",
            "\u001b[2K     \u001b[90m━━━━━━━━━━━━━━━━━━━━━━━━━━━━━━━━━━━━━━━━\u001b[0m \u001b[32m178.0/178.0 kB\u001b[0m \u001b[31m3.2 MB/s\u001b[0m eta \u001b[36m0:00:00\u001b[0m\n",
            "\u001b[?25h  Preparing metadata (setup.py) ... \u001b[?25l\u001b[?25hdone\n",
            "Requirement already satisfied: numpy in /usr/local/lib/python3.10/dist-packages (from filterpy) (1.23.5)\n",
            "Requirement already satisfied: scipy in /usr/local/lib/python3.10/dist-packages (from filterpy) (1.11.4)\n",
            "Requirement already satisfied: matplotlib in /usr/local/lib/python3.10/dist-packages (from filterpy) (3.7.1)\n",
            "Requirement already satisfied: contourpy>=1.0.1 in /usr/local/lib/python3.10/dist-packages (from matplotlib->filterpy) (1.2.0)\n",
            "Requirement already satisfied: cycler>=0.10 in /usr/local/lib/python3.10/dist-packages (from matplotlib->filterpy) (0.12.1)\n",
            "Requirement already satisfied: fonttools>=4.22.0 in /usr/local/lib/python3.10/dist-packages (from matplotlib->filterpy) (4.46.0)\n",
            "Requirement already satisfied: kiwisolver>=1.0.1 in /usr/local/lib/python3.10/dist-packages (from matplotlib->filterpy) (1.4.5)\n",
            "Requirement already satisfied: packaging>=20.0 in /usr/local/lib/python3.10/dist-packages (from matplotlib->filterpy) (23.2)\n",
            "Requirement already satisfied: pillow>=6.2.0 in /usr/local/lib/python3.10/dist-packages (from matplotlib->filterpy) (9.4.0)\n",
            "Requirement already satisfied: pyparsing>=2.3.1 in /usr/local/lib/python3.10/dist-packages (from matplotlib->filterpy) (3.1.1)\n",
            "Requirement already satisfied: python-dateutil>=2.7 in /usr/local/lib/python3.10/dist-packages (from matplotlib->filterpy) (2.8.2)\n",
            "Requirement already satisfied: six>=1.5 in /usr/local/lib/python3.10/dist-packages (from python-dateutil>=2.7->matplotlib->filterpy) (1.16.0)\n",
            "Building wheels for collected packages: filterpy\n",
            "  Building wheel for filterpy (setup.py) ... \u001b[?25l\u001b[?25hdone\n",
            "  Created wheel for filterpy: filename=filterpy-1.4.5-py3-none-any.whl size=110458 sha256=64f53680c717133db1fc7bc69d1985bb6f31e11a1b64bea1b2e215d7b8baa71d\n",
            "  Stored in directory: /root/.cache/pip/wheels/0f/0c/ea/218f266af4ad626897562199fbbcba521b8497303200186102\n",
            "Successfully built filterpy\n",
            "Installing collected packages: filterpy\n",
            "Successfully installed filterpy-1.4.5\n"
          ]
        }
      ]
    },
    {
      "cell_type": "code",
      "execution_count": 2,
      "id": "6cada743",
      "metadata": {
        "id": "6cada743"
      },
      "outputs": [],
      "source": [
        "import pandas as pd\n",
        "from typing import Dict, Tuple, List\n",
        "import numpy as np\n",
        "from tqdm import tqdm\n",
        "from spektral.utils.convolution import gcn_filter\n",
        "import dask.dataframe as dd\n",
        "import dask\n",
        "import dask.delayed\n",
        "import dask.array as da\n",
        "import pickle\n",
        "import numpy as np\n",
        "import math\n",
        "import bisect"
      ]
    },
    {
      "cell_type": "code",
      "execution_count": 3,
      "id": "c3ae7015",
      "metadata": {
        "id": "c3ae7015"
      },
      "outputs": [],
      "source": [
        "import folium\n",
        "import geopy.distance\n",
        "import json\n",
        "from shapely.geometry import LineString, Point\n",
        "import matplotlib.pyplot as plt\n",
        "from shapely.ops import shared_paths\n",
        "import shapely\n",
        "import pickle as pkl\n",
        "import cvxpy as cvo\n",
        "# from pyproj import Geod\n",
        "from datetime import datetime,timedelta\n",
        "import h3\n",
        "# import geopandas\n",
        "import rdp\n",
        "import seaborn as sns\n",
        "from haversine import haversine, Unit\n",
        "import datetime\n",
        "import pytz\n",
        "from itertools import product\n",
        "import psycopg2"
      ]
    },
    {
      "cell_type": "code",
      "execution_count": 4,
      "id": "60b5b403",
      "metadata": {
        "id": "60b5b403"
      },
      "outputs": [],
      "source": [
        "from tensorflow.keras import Model\n",
        "from tensorflow.keras.layers import LSTM, Dense, Dropout, Input, Reshape\n",
        "from tensorflow.keras.optimizers import Adam\n",
        "from spektral.layers import GCNConv\n",
        "from spektral.utils.convolution import gcn_filter\n",
        "from sklearn.metrics import mean_squared_error, mean_absolute_error, r2_score"
      ]
    },
    {
      "cell_type": "code",
      "source": [
        "from itertools import accumulate\n",
        "from collections import namedtuple"
      ],
      "metadata": {
        "id": "wsC1-LZbhlmr"
      },
      "id": "wsC1-LZbhlmr",
      "execution_count": 5,
      "outputs": []
    },
    {
      "cell_type": "code",
      "execution_count": 6,
      "id": "887ab132",
      "metadata": {
        "id": "887ab132"
      },
      "outputs": [],
      "source": [
        "import warnings\n",
        "warnings.filterwarnings(\"ignore\")"
      ]
    },
    {
      "cell_type": "code",
      "execution_count": 7,
      "id": "93a8ede6",
      "metadata": {
        "id": "93a8ede6"
      },
      "outputs": [],
      "source": [
        "import random\n",
        "import tensorflow as tf"
      ]
    },
    {
      "cell_type": "code",
      "source": [
        "from google.colab import drive\n",
        "drive.mount('/content/drive')"
      ],
      "metadata": {
        "colab": {
          "base_uri": "https://localhost:8080/"
        },
        "id": "zwiTwOQfbvtD",
        "outputId": "2aa9621c-faaa-4d69-b791-5026c870209b"
      },
      "id": "zwiTwOQfbvtD",
      "execution_count": 8,
      "outputs": [
        {
          "output_type": "stream",
          "name": "stdout",
          "text": [
            "Mounted at /content/drive\n"
          ]
        }
      ]
    },
    {
      "cell_type": "code",
      "source": [
        "from filterpy.kalman import KalmanFilter\n",
        "from filterpy.kalman import ExtendedKalmanFilter"
      ],
      "metadata": {
        "id": "TDjj_JujMBD_"
      },
      "id": "TDjj_JujMBD_",
      "execution_count": 9,
      "outputs": []
    },
    {
      "cell_type": "code",
      "source": [
        "from filterpy.common import Q_discrete_white_noise\n",
        "from copy import deepcopy\n",
        "import types"
      ],
      "metadata": {
        "id": "AiMjjbcYMBuS"
      },
      "id": "AiMjjbcYMBuS",
      "execution_count": 10,
      "outputs": []
    },
    {
      "cell_type": "markdown",
      "source": [
        "# Utility Functions and Loading Dictionaries"
      ],
      "metadata": {
        "id": "6w3TeugcSVDu"
      },
      "id": "6w3TeugcSVDu"
    },
    {
      "cell_type": "code",
      "source": [
        "h3_to_seg = pd.read_pickle(\"/content/drive/MyDrive/segments/h3_to_seg.pkl\")"
      ],
      "metadata": {
        "id": "VEQnDEZYSZZe"
      },
      "id": "VEQnDEZYSZZe",
      "execution_count": 11,
      "outputs": []
    },
    {
      "cell_type": "code",
      "source": [
        "def geo_to_segment(latitude,longitude,h3_to_seg,new_segment_dict):\n",
        "    h3_resolution=11 # edge length approx. 25 meters\n",
        "    hid=h3.geo_to_h3(latitude,longitude,h3_resolution)\n",
        "    notfound=True\n",
        "    k=0\n",
        "    hex_seg=hid\n",
        "    while(notfound):\n",
        "        ring=h3.k_ring(hid,k)\n",
        "        for nh in ring:\n",
        "            if nh in list(h3_to_seg.keys()):\n",
        "                hex_seg=nh\n",
        "                notfound=False\n",
        "                break\n",
        "        k+=1\n",
        "        if k>5:\n",
        "            return -1\n",
        "    segment_ids=h3_to_seg[hex_seg]\n",
        "    if len(segment_ids)==1:\n",
        "        if segment_ids[0] in new_segment_dict:\n",
        "            return segment_ids[0]\n",
        "        else:\n",
        "            return\n",
        "    distances=[]\n",
        "    for i in range(len(segment_ids)):\n",
        "        sid=segment_ids[i]\n",
        "        if sid in new_segment_dict:\n",
        "            distances.append(min([(((c[0]-longitude)**2)+((c[1]-latitude)**2))**0.5 for c in new_segment_dict[sid]['coordinates']]))\n",
        "    if len(distances)==0:\n",
        "        return\n",
        "    return segment_ids[distances.index(min(distances))]"
      ],
      "metadata": {
        "id": "Ra1Veq1zSm6W"
      },
      "id": "Ra1Veq1zSm6W",
      "execution_count": 12,
      "outputs": []
    },
    {
      "cell_type": "code",
      "source": [
        "segment_details_dict = pd.read_pickle(\"/content/drive/MyDrive/segments/new_segment_dict.pkl\")"
      ],
      "metadata": {
        "id": "p_ExxrR8SpUg"
      },
      "id": "p_ExxrR8SpUg",
      "execution_count": 13,
      "outputs": []
    },
    {
      "cell_type": "code",
      "source": [
        "route_to_segments = pd.read_pickle(\"/content/drive/MyDrive/segments/route_to_segments_new.pkl\")"
      ],
      "metadata": {
        "id": "bIJi6WuaSrQt"
      },
      "id": "bIJi6WuaSrQt",
      "execution_count": 14,
      "outputs": []
    },
    {
      "cell_type": "code",
      "source": [
        "y_pred = pd.read_pickle(\"/content/drive/MyDrive/segments/predicted_traffic.pkl\")"
      ],
      "metadata": {
        "id": "BIZMBbNESt3J"
      },
      "id": "BIZMBbNESt3J",
      "execution_count": 15,
      "outputs": []
    },
    {
      "cell_type": "code",
      "source": [
        "segment_dict_full = {val:segment_details_dict[val]['segment'] for val in segment_details_dict}"
      ],
      "metadata": {
        "id": "BgxIdpPJSwrJ"
      },
      "id": "BgxIdpPJSwrJ",
      "execution_count": 16,
      "outputs": []
    },
    {
      "cell_type": "code",
      "source": [
        "def get_segment_dist(coords):\n",
        "    dist=0\n",
        "    for index in range(1,len(coords)):\n",
        "        dist += haversine(coords[index-1][::-1], coords[index][::-1])\n",
        "    return dist/2"
      ],
      "metadata": {
        "id": "d8VCQFHuSz3X"
      },
      "id": "d8VCQFHuSz3X",
      "execution_count": 17,
      "outputs": []
    },
    {
      "cell_type": "code",
      "source": [
        "segment_details_dict = {}\n",
        "for segid,segment in segment_dict_full.items():\n",
        "    segment_details_dict[segid]={\n",
        "        \"coordinates\":list(segment.exterior.coords),\n",
        "        \"length\": get_segment_dist(list(segment.exterior.coords)) * 1000,\n",
        "        \"polygon\": segment\n",
        "    }"
      ],
      "metadata": {
        "id": "M-tcy5hIS3bx"
      },
      "id": "M-tcy5hIS3bx",
      "execution_count": 18,
      "outputs": []
    },
    {
      "cell_type": "code",
      "source": [
        "def return_proportion(ext_pt, seg=None):\n",
        "  if not seg:\n",
        "    seg = geo_to_segment(ext_pt[0], ext_pt[1], h3_to_seg, segment_details_dict)\n",
        "  half_num_seg_pts = int(len(segment_details_dict[seg]['coordinates']) / 2)\n",
        "  return 1 - haversine(segment_details_dict[seg]['coordinates'][half_num_seg_pts][::-1],ext_pt) / segment_details_dict[seg]['length']"
      ],
      "metadata": {
        "id": "yW2SXXKkTFOc"
      },
      "id": "yW2SXXKkTFOc",
      "execution_count": 19,
      "outputs": []
    },
    {
      "cell_type": "code",
      "source": [
        "def create_process_segments(segments):\n",
        "  processed_segs = []\n",
        "  last_seg = \"\"\n",
        "  for seg in segments:\n",
        "    if seg == last_seg:\n",
        "      continue\n",
        "    processed_segs.append(seg)\n",
        "    last_seg = seg\n",
        "  return processed_segs"
      ],
      "metadata": {
        "id": "APR1Xwm5TveG"
      },
      "id": "APR1Xwm5TveG",
      "execution_count": 20,
      "outputs": []
    },
    {
      "cell_type": "code",
      "source": [
        "def is_valid_trip(trip_id, sub_df):\n",
        "  route_id = sub_df[\"route_id\"].to_list()[0]\n",
        "  if route_id not in route_to_segments.keys():\n",
        "    return False\n",
        "  if not set(sub_df[\"segment\"].to_list()).issubset(set(route_to_segments[route_id])):\n",
        "    return False\n",
        "  if len(sub_df[\"location.coordinates\"].unique())<len(sub_df):\n",
        "    return False\n",
        "  if len(sub_df)<5:\n",
        "    return False\n",
        "  if len(create_process_segments(sub_df[\"segment\"].to_list()))!=len(sub_df[\"segment\"].unique()):\n",
        "    return False\n",
        "  timestamps = group[\"observationDateTime\"].to_list()\n",
        "  start_hour, end_hour = timestamps[0].hour, timestamps[-1].hour\n",
        "  if start_hour < 8 or start_hour >= 20 or end_hour < 8 or end_hour >= 20:\n",
        "    return False\n",
        "  return True"
      ],
      "metadata": {
        "id": "SFfku1rOTfXR"
      },
      "id": "SFfku1rOTfXR",
      "execution_count": 21,
      "outputs": []
    },
    {
      "cell_type": "markdown",
      "source": [
        "# Double Kalman Filter"
      ],
      "metadata": {
        "id": "rieXzbi_qHW2"
      },
      "id": "rieXzbi_qHW2"
    },
    {
      "cell_type": "code",
      "source": [
        "df = pd.read_pickle(\"/content/drive/MyDrive/segments/filtering/df.pkl\")"
      ],
      "metadata": {
        "id": "rthT_fEwqLQf"
      },
      "id": "rthT_fEwqLQf",
      "execution_count": 22,
      "outputs": []
    },
    {
      "cell_type": "code",
      "source": [
        "valid_trips = []\n",
        "for trip_id, group in df.groupby(by=[\"trip_id\"]):\n",
        "  if is_valid_trip(trip_id, group):\n",
        "    valid_trips.append(trip_id)\n",
        "\n",
        "valid_trips"
      ],
      "metadata": {
        "colab": {
          "base_uri": "https://localhost:8080/"
        },
        "id": "3w43WLq9qOnA",
        "outputId": "776589cd-5f7b-4960-8384-83cfe2331c88"
      },
      "id": "3w43WLq9qOnA",
      "execution_count": 23,
      "outputs": [
        {
          "output_type": "execute_result",
          "data": {
            "text/plain": [
              "['20801108',\n",
              " '20801481',\n",
              " '20802351',\n",
              " '20806390',\n",
              " '20808449',\n",
              " '20827856',\n",
              " '20827857',\n",
              " '20829199',\n",
              " '20836962']"
            ]
          },
          "metadata": {},
          "execution_count": 23
        }
      ]
    },
    {
      "cell_type": "code",
      "source": [
        "i = 8\n",
        "selected_trip_id = valid_trips[i]\n",
        "selected_trip_id"
      ],
      "metadata": {
        "colab": {
          "base_uri": "https://localhost:8080/",
          "height": 36
        },
        "id": "xBp4Tg77qT70",
        "outputId": "d3e738c7-0fde-45c6-954d-e27d99085cdb"
      },
      "id": "xBp4Tg77qT70",
      "execution_count": 24,
      "outputs": [
        {
          "output_type": "execute_result",
          "data": {
            "text/plain": [
              "'20836962'"
            ],
            "application/vnd.google.colaboratory.intrinsic+json": {
              "type": "string"
            }
          },
          "metadata": {},
          "execution_count": 24
        }
      ]
    },
    {
      "cell_type": "code",
      "source": [
        "print(len(df[df[\"trip_id\"] == selected_trip_id]))\n",
        "trip_df = df[df[\"trip_id\"] == selected_trip_id].drop_duplicates().reset_index()\n",
        "trip_df = trip_df.sort_values(\"observationDateTime\")\n",
        "print(len(trip_df))"
      ],
      "metadata": {
        "colab": {
          "base_uri": "https://localhost:8080/"
        },
        "id": "ppSo9qndqVFT",
        "outputId": "c2b57a66-af07-4646-9b07-cb56ab8f4102"
      },
      "id": "ppSo9qndqVFT",
      "execution_count": 25,
      "outputs": [
        {
          "output_type": "stream",
          "name": "stdout",
          "text": [
            "83\n",
            "83\n"
          ]
        }
      ]
    },
    {
      "cell_type": "code",
      "source": [
        "route_id = trip_df[\"route_id\"].to_list()[0]\n",
        "route_id"
      ],
      "metadata": {
        "colab": {
          "base_uri": "https://localhost:8080/",
          "height": 36
        },
        "id": "jz36mh-PqYK3",
        "outputId": "00074188-209b-458c-91ed-77ac24d79f31"
      },
      "id": "jz36mh-PqYK3",
      "execution_count": 26,
      "outputs": [
        {
          "output_type": "execute_result",
          "data": {
            "text/plain": [
              "'118U'"
            ],
            "application/vnd.google.colaboratory.intrinsic+json": {
              "type": "string"
            }
          },
          "metadata": {},
          "execution_count": 26
        }
      ]
    },
    {
      "cell_type": "code",
      "source": [
        "#pos_var, dwell_time_var = 10, 95\n",
        "coordinates = trip_df[\"location.coordinates\"].to_list()\n",
        "segments = trip_df[\"segment\"].to_list()\n",
        "timestamps = trip_df[\"observationDateTime\"].to_list()\n",
        "final_timestamp = timestamps[-1]\n",
        "true_eta = [(final_timestamp - timestamp).seconds for timestamp in timestamps]\n",
        "time_diffs = [0] + [(t2 - t1).seconds for t1, t2 in zip(timestamps, timestamps[1:])]"
      ],
      "metadata": {
        "id": "dCnNvLJEqdof"
      },
      "id": "dCnNvLJEqdof",
      "execution_count": 27,
      "outputs": []
    },
    {
      "cell_type": "code",
      "source": [
        "start_seg_pos = route_to_segments[route_id].index(segments[0])\n",
        "end_seg_pos = route_to_segments[route_id].index(segments[-1])\n",
        "\n",
        "processed_segments = route_to_segments[route_id][start_seg_pos : end_seg_pos + 1]"
      ],
      "metadata": {
        "id": "4682LUusJZYL"
      },
      "id": "4682LUusJZYL",
      "execution_count": 28,
      "outputs": []
    },
    {
      "cell_type": "code",
      "source": [
        "from collections import Counter\n",
        "Counter(time_diffs)"
      ],
      "metadata": {
        "colab": {
          "base_uri": "https://localhost:8080/"
        },
        "id": "86-EhELuqhtW",
        "outputId": "9c5c6358-681d-4d8b-b2bd-5611601f53c2"
      },
      "id": "86-EhELuqhtW",
      "execution_count": 29,
      "outputs": [
        {
          "output_type": "execute_result",
          "data": {
            "text/plain": [
              "Counter({0: 1,\n",
              "         12: 25,\n",
              "         8: 17,\n",
              "         20: 8,\n",
              "         60: 1,\n",
              "         4: 17,\n",
              "         16: 6,\n",
              "         24: 4,\n",
              "         44: 1,\n",
              "         40: 1,\n",
              "         68: 1,\n",
              "         32: 1})"
            ]
          },
          "metadata": {},
          "execution_count": 29
        }
      ]
    },
    {
      "cell_type": "code",
      "source": [
        "PositionAlongRoute = namedtuple('PositionAlongRoute', ['position', 'segid', 'proportion'])"
      ],
      "metadata": {
        "id": "fWc4z20qqnfN"
      },
      "id": "fWc4z20qqnfN",
      "execution_count": 30,
      "outputs": []
    },
    {
      "cell_type": "code",
      "source": [
        "def get_seg_end_position(route_id):\n",
        "  return list(accumulate([segment_details_dict[segid][\"length\"] for segid in route_to_segments[route_id]]))"
      ],
      "metadata": {
        "id": "PstMnPloqv6a"
      },
      "id": "PstMnPloqv6a",
      "execution_count": 34,
      "outputs": []
    },
    {
      "cell_type": "code",
      "source": [
        "def get_position_along_route(route_id, lat, lon, segid, seg_end_positions):\n",
        "  proportion = return_proportion([lat, lon], segid)\n",
        "  i = route_to_segments[route_id].index(segid)\n",
        "  if i != 0:\n",
        "    return PositionAlongRoute(seg_end_positions[i - 1] + proportion * segment_details_dict[segid][\"length\"], segid, proportion)\n",
        "  return PositionAlongRoute(proportion * segment_details_dict[segid][\"length\"], segid, proportion)"
      ],
      "metadata": {
        "id": "zKK5yOVTqzfY"
      },
      "id": "zKK5yOVTqzfY",
      "execution_count": 35,
      "outputs": []
    },
    {
      "cell_type": "code",
      "source": [
        "seg_end_positions = get_seg_end_position(route_id)"
      ],
      "metadata": {
        "id": "w7g9bNJtq3I_"
      },
      "id": "w7g9bNJtq3I_",
      "execution_count": 36,
      "outputs": []
    },
    {
      "cell_type": "code",
      "source": [
        "measured_positions_along_route = []\n",
        "for i, coord in enumerate(coordinates):\n",
        "  pos_along_route = get_position_along_route(route_id, coord[1], coord[0], segments[i], seg_end_positions)\n",
        "  measured_positions_along_route.append(pos_along_route)\n",
        "  #print(pos_along_route.position)"
      ],
      "metadata": {
        "id": "tLAe9Hwtq37a"
      },
      "id": "tLAe9Hwtq37a",
      "execution_count": 37,
      "outputs": []
    },
    {
      "cell_type": "code",
      "source": [
        "dists = [0]\n",
        "for p1, p2 in zip(measured_positions_along_route, measured_positions_along_route[1:]):\n",
        "  dists.append(p2.position - p1.position)"
      ],
      "metadata": {
        "id": "GPafAnYBz8wD"
      },
      "id": "GPafAnYBz8wD",
      "execution_count": 38,
      "outputs": []
    },
    {
      "cell_type": "code",
      "source": [
        "start_position = measured_positions_along_route[0]\n",
        "final_position = measured_positions_along_route[-1]"
      ],
      "metadata": {
        "id": "qjQMYk0jrD7S"
      },
      "id": "qjQMYk0jrD7S",
      "execution_count": 39,
      "outputs": []
    },
    {
      "cell_type": "code",
      "source": [
        "start_speed = (segment_details_dict[start_position.segid][\"length\"]) / y_pred[timestamps[0].hour - 8][start_position.segid]\n",
        "start_speed"
      ],
      "metadata": {
        "colab": {
          "base_uri": "https://localhost:8080/"
        },
        "id": "BRZtYSbUrHf-",
        "outputId": "6e1e0fdf-b92e-47a0-e1bb-5712b926726c"
      },
      "id": "BRZtYSbUrHf-",
      "execution_count": 41,
      "outputs": [
        {
          "output_type": "execute_result",
          "data": {
            "text/plain": [
              "24.592027832613905"
            ]
          },
          "metadata": {},
          "execution_count": 41
        }
      ]
    },
    {
      "cell_type": "code",
      "source": [
        "measured_speeds = []\n",
        "for dist, time_diff in zip(dists, time_diffs):\n",
        "  if dist == 0:\n",
        "    measured_speeds.append(0)\n",
        "  else:\n",
        "    measured_speeds.append(abs(dist / time_diff))\n",
        "\n",
        "measured_speeds[0] = start_speed\n",
        "measured_speeds"
      ],
      "metadata": {
        "colab": {
          "base_uri": "https://localhost:8080/"
        },
        "id": "nMOgb0782o_9",
        "outputId": "0a1b11a8-0f94-418f-eb6b-ece98ba05d68"
      },
      "id": "nMOgb0782o_9",
      "execution_count": 42,
      "outputs": [
        {
          "output_type": "execute_result",
          "data": {
            "text/plain": [
              "[24.592027832613905,\n",
              " 0.003976943342574184,\n",
              " 20.5440612082798,\n",
              " 0.005267481073587987,\n",
              " 19.130531742039057,\n",
              " 13.060579211257147,\n",
              " 0.008490654341130721,\n",
              " 0.009949533046437864,\n",
              " 0.009768911281904972,\n",
              " 5.830124992257424,\n",
              " 0.006088948497563251,\n",
              " 25.320418787209746,\n",
              " 0.007253032127816065,\n",
              " 0.006428811230307474,\n",
              " 8.807457854432982,\n",
              " 2.0214588263672035,\n",
              " 36.2902224183631,\n",
              " 0.002654156253053467,\n",
              " 36.6203874698308,\n",
              " 0.011871015839460597,\n",
              " 6.0064216987784675,\n",
              " 32.995418794579415,\n",
              " 0.012965109668584773,\n",
              " 0.0024151418407048673,\n",
              " 0.014295222873442981,\n",
              " 11.807742768821981,\n",
              " 0.009136750643619962,\n",
              " 6.765000526941094,\n",
              " 8.130462785256276,\n",
              " 0.004970006419625861,\n",
              " 4.902339413884874,\n",
              " 43.3316724096901,\n",
              " 0.013105982188153575,\n",
              " 17.94378768845163,\n",
              " 0.010394408788063933,\n",
              " 0.013505666377341186,\n",
              " 15.490305306004302,\n",
              " 0.013719694558858464,\n",
              " 24.315238963791824,\n",
              " 3.1648566065141495,\n",
              " 19.1683187220389,\n",
              " 0.009448973086819024,\n",
              " 0.007244545239245781,\n",
              " 11.441016148953622,\n",
              " 5.5768062616216945,\n",
              " 10.615669859856826,\n",
              " 0.0046123029889713505,\n",
              " 3.163730707456125e-05,\n",
              " 34.65495048658886,\n",
              " 0.004000210791673453,\n",
              " 0.005892401840962218,\n",
              " 0.005694986990238249,\n",
              " 21.640225103969442,\n",
              " 0.00013350316112337168,\n",
              " 0.0014858503232062503,\n",
              " 0.0009414585977841247,\n",
              " 0.002731847731229209,\n",
              " 6.226379166589443,\n",
              " 0.002950423188849527,\n",
              " 0.0015915728075318232,\n",
              " 0.0008664229981150129,\n",
              " 0.0012142552277509822,\n",
              " 0.0027518517417775,\n",
              " 5.150512349945529,\n",
              " 0.002902309442288242,\n",
              " 0.005538396310839744,\n",
              " 5.801908543161517,\n",
              " 11.48027470533149,\n",
              " 0.0022212197527551325,\n",
              " 0.0013751982401117857,\n",
              " 0.0006001838492011302,\n",
              " 123.80030620327852,\n",
              " 0.005536061757993593,\n",
              " 0.00574670225068985,\n",
              " 0.0054550297354580835,\n",
              " 0.005152168680524483,\n",
              " 0.0059200106506978045,\n",
              " 0.004950668490891985,\n",
              " 0.0021903225090985265,\n",
              " 0.002573216828295699,\n",
              " 0.0057786560828390066,\n",
              " 0.005785327964986209,\n",
              " 0.004680033322680781]"
            ]
          },
          "metadata": {},
          "execution_count": 42
        }
      ]
    },
    {
      "cell_type": "code",
      "source": [
        "def get_position_along_route_from_pos(pos, route_id, seg_end_positions):\n",
        "  i = bisect.bisect(seg_end_positions, pos)\n",
        "  all_segments = route_to_segments[route_id]\n",
        "\n",
        "  # The point lies outside the route.\n",
        "  if i >= len(all_segments):\n",
        "    return PositionAlongRoute(seg_end_positions[-1], all_segments[-1], 1)\n",
        "\n",
        "  segid = all_segments[i]\n",
        "  if i > 0:\n",
        "    proportion = (pos - seg_end_positions[i - 1]) / segment_details_dict[segid][\"length\"]\n",
        "  else:\n",
        "    proportion = pos / segment_details_dict[segid][\"length\"]\n",
        "\n",
        "  return PositionAlongRoute(pos, segid, proportion)"
      ],
      "metadata": {
        "id": "H9BHG21vrhX8"
      },
      "id": "H9BHG21vrhX8",
      "execution_count": 45,
      "outputs": []
    },
    {
      "cell_type": "code",
      "source": [
        "# Time taken to reach the final position starting the start of the segment. The\n",
        "# first value of the output denotes the time taken to reach position from start\n",
        "# position.\n",
        "def get_cumulative_seg_eta(segments, timestamps, start_position, end_position, route_id):\n",
        "  seg_etas = []\n",
        "  start = route_to_segments[route_id].index(segments[0])\n",
        "  end = route_to_segments[route_id].index(segments[-1])\n",
        "  segments_to_consider = route_to_segments[route_id][start + 1: end]\n",
        "\n",
        "  if start != end:\n",
        "    timestamp = timestamps[0]\n",
        "    seg_etas.append(start_position.proportion * y_pred[timestamps[0].hour - 8][segments[0]])\n",
        "    for segid in segments_to_consider:\n",
        "      if segid in segments:\n",
        "        timestamp = timestamps[segments.index(segid)]\n",
        "      seg_etas.append(y_pred[timestamp.hour - 8][segid])\n",
        "\n",
        "    seg_etas.append(final_position.proportion * y_pred[timestamps[-1].hour - 8][segments[-1]])\n",
        "  else:\n",
        "    return [(end_position.proportion - start_position.proportion) * y_pred[timestamps[0].hour - 8][segments[0]]]\n",
        "\n",
        "  return list(accumulate(seg_etas[::-1]))[::-1]"
      ],
      "metadata": {
        "id": "5vKgaCbBa_R8"
      },
      "id": "5vKgaCbBa_R8",
      "execution_count": 46,
      "outputs": []
    },
    {
      "cell_type": "code",
      "source": [
        "def predict_new(self, u=0):\n",
        "  previous_state = self.x\n",
        "  self.predict(u)\n",
        "  if self.x[1][0] < 1:\n",
        "    self.x = previous_state"
      ],
      "metadata": {
        "id": "kTy4r3J5Tb-f"
      },
      "id": "kTy4r3J5Tb-f",
      "execution_count": 47,
      "outputs": []
    },
    {
      "cell_type": "code",
      "source": [
        "def initialise_tracking_filter(start_position, start_speed):\n",
        "  KalmanFilter.predict_new = predict_new\n",
        "  filter = KalmanFilter(dim_x=2, dim_z=2, dim_u=2)\n",
        "  filter.x = np.array([[start_position.position],  # position\n",
        "                                   [start_speed]])  # velocity\n",
        "  filter.F = np.array([[1., 1.],         # state transition matrix\n",
        "                       [0., 0]])\n",
        "\n",
        "  filter.B = np.array([[0, 0],           # control transition matrix\n",
        "                       [0, 1]])\n",
        "\n",
        "  filter.H = np.array([[1., 0.],\n",
        "                       [0., 1.]])             # measurement function\n",
        "\n",
        "  filter.P = np.array([[250.,    0.],    # uncertainty covariance\n",
        "                      [   0.,   50.]])\n",
        "\n",
        "  filter.R = np.array([[5,   0],          # measurement uncertainty\n",
        "                       [0, 15]])\n",
        "\n",
        "  filter.Q = np.array([[100.,  25.],     # process uncertainty\n",
        "                       [ 25., 100.]])\n",
        "\n",
        "  filter.Q = Q_discrete_white_noise(dim=2, dt=1.0, var=300)\n",
        "\n",
        "  return filter"
      ],
      "metadata": {
        "id": "ZKF5gtcEyYhP"
      },
      "id": "ZKF5gtcEyYhP",
      "execution_count": 48,
      "outputs": []
    },
    {
      "cell_type": "code",
      "source": [
        "cumulative_seg_eta = get_cumulative_seg_eta(segments, timestamps, start_position, final_position, route_id)"
      ],
      "metadata": {
        "id": "P2QKLJkmrgG_"
      },
      "id": "P2QKLJkmrgG_",
      "execution_count": 49,
      "outputs": []
    },
    {
      "cell_type": "code",
      "source": [
        "len(cumulative_seg_eta)"
      ],
      "metadata": {
        "colab": {
          "base_uri": "https://localhost:8080/"
        },
        "id": "7GE3-ZHO4urx",
        "outputId": "82883415-72e2-424b-c007-69bf76a42904"
      },
      "id": "7GE3-ZHO4urx",
      "execution_count": 50,
      "outputs": [
        {
          "output_type": "execute_result",
          "data": {
            "text/plain": [
              "55"
            ]
          },
          "metadata": {},
          "execution_count": 50
        }
      ]
    },
    {
      "cell_type": "code",
      "source": [
        "class ETAFilter(ExtendedKalmanFilter):\n",
        "\n",
        "  def __init__(self, t, v):\n",
        "    super().__init__(dim_x=2, dim_z=2)\n",
        "    self.x = np.array([[t],\n",
        "                       [v]])\n",
        "    self.H = np.array([[0, 0],\n",
        "                       [0, 1]])\n",
        "    \"\"\"self.P = np.array([[60, 0],\n",
        "                       [0, 25]])\"\"\"\n",
        "    self.P = np.array([[5.53954597e+04, 9.55856570e+02],\n",
        "                      [9.55856570e+02, 4.93239728e+01]])\n",
        "    self.R = np.array([[75,   0],\n",
        "                       [0,   50]])\n",
        "    self.Q = np.array([[250,  50],\n",
        "                       [50, 100]])\n",
        "\n",
        "  def compute_F(self, d, v):\n",
        "    pos = get_position_along_route_from_pos(d, route_id, seg_end_positions)\n",
        "    dist_left_on_seg = (1 - pos.proportion) * segment_details_dict[pos.segid][\"length\"]\n",
        "\n",
        "    seg_pos_in_segment_list = processed_segments.index(pos.segid)\n",
        "    if seg_pos_in_segment_list < len(processed_segments) - 1:\n",
        "      sum_dwell_times = cumulative_seg_eta[seg_pos_in_segment_list + 1]\n",
        "    else:\n",
        "      sum_dwell_times = 0\n",
        "\n",
        "    F = np.array([[0, -dist_left_on_seg / v ** 2 + sum_dwell_times / v], [0, 1]])\n",
        "    return F\n",
        "\n",
        "  def predict_x(self, u):\n",
        "    d, v = u[0][0], u[1][0]\n",
        "    self.F = self.compute_F(d, v)\n",
        "    previous_state = self.x\n",
        "    self.x = np.dot(self.F, self.x)\n",
        "    if self.x[0][0] < 0:\n",
        "      self.x = np.array([[0], [previous_state[1][0]]])\n",
        "\n",
        "  def update(self, measured_v, R=None):\n",
        "    if R is None:                    # state uncertainty\n",
        "      R = self.R\n",
        "    elif np.isscalar(R):\n",
        "      R = np.eye(self.dim_z) * R\n",
        "\n",
        "    PHT = np.dot(self.P, self.H.T)    # P is uncertainty covariance\n",
        "    self.S = np.dot(self.H, PHT) + R    # system uncertainty\n",
        "    self.SI = np.linalg.inv(self.S)\n",
        "    self.K = PHT.dot(self.SI)\n",
        "\n",
        "    self.x[1][0] = measured_v\n",
        "\n",
        "    # P = (I-KH)P(I-KH)' + KRK' is more numerically stable\n",
        "    # and works for non-optimal K vs the equation\n",
        "    # P = (I-KH)P usually seen in the literature.\n",
        "    I_KH = self._I - np.dot(self.K, self.H)\n",
        "    self.P = np.dot(I_KH, self.P).dot(I_KH.T) + np.dot(self.K, R).dot(self.K.T)\n",
        "\n",
        "    # set to None to force recompute\n",
        "    self._log_likelihood = None\n",
        "    self._likelihood = None\n",
        "    self._mahalanobis = None\n",
        "\n",
        "    # save measurement and posterior state\n",
        "    self.z = deepcopy(measured_v)\n",
        "    self.x_post = self.x.copy()\n",
        "    self.P_post = self.P.copy()"
      ],
      "metadata": {
        "id": "cBQYOg6JqDxF"
      },
      "id": "cBQYOg6JqDxF",
      "execution_count": 53,
      "outputs": []
    },
    {
      "cell_type": "code",
      "source": [
        "predicted_positions = []\n",
        "all_predicted_positions = []\n",
        "all_measured_positions = []\n",
        "eta_preds = []\n",
        "true_eta_recorded = []\n",
        "eta_filter_ps = []\n",
        "tracking_filter_ps = []\n",
        "\n",
        "true_positions = []\n",
        "predicted_positions = []\n",
        "\n",
        "start_timestamp = timestamps[0]\n",
        "last_segid = start_position.segid\n",
        "dt = 1\n",
        "\n",
        "i = 0\n",
        "timestamp = start_timestamp\n",
        "\n",
        "tracking_filter = initialise_tracking_filter(start_position, start_speed)\n",
        "eta_filter = ETAFilter(t=cumulative_seg_eta[0], v=start_speed)\n",
        "#start_eta = (final_timestamp - timestamps[0]).seconds\n",
        "#eta_filter = ETAFilter(t=start_eta, v=start_speed)\n",
        "\n",
        "#eta_preds.append(eta_filter.x[0][0])\n",
        "#true_eta_recorded.append((final_timestamp - timestamps[0]).seconds)\n",
        "\n",
        "speed_threshold = 1.\n",
        "\n",
        "while timestamp <= final_timestamp:\n",
        "  #tracking_filter.x[1][0] = max(tracking_filter.x[1][0], 1.)\n",
        "  #print(eta_filter.x)\n",
        "  eta_filter.predict(u=tracking_filter.x)\n",
        "  tracking_filter.predict_new()\n",
        "  if tracking_filter.x[0][0] > final_position.position:\n",
        "    tracking_filter.x[0][0] = final_position.position\n",
        "\n",
        "  if timestamps[i] == timestamp:\n",
        "    measured_position = measured_positions_along_route[i].position\n",
        "    measured_speed = measured_speeds[i]\n",
        "    if measured_speed > speed_threshold:\n",
        "      predicted_positions.append(tracking_filter.x[0][0])\n",
        "      #position_on_route = get_position_along_route_from_pos(f.x[0][0], route_id, seg_end_positions)\n",
        "      #print(\"Position on route: \", position_on_route)\n",
        "      #eta_preds.append(predict_eta(position_on_route, start_position, final_position, cumulative_seg_eta, route_id))\n",
        "      predicted_positions.append(tracking_filter.x[0][0])\n",
        "      tracking_filter.update(np.array([[measured_position], [measured_speed]]))\n",
        "      eta_filter.update(measured_speed)\n",
        "      eta_preds.append(eta_filter.x[0][0])\n",
        "      print(eta_filter.x)\n",
        "      print(\"-----------------------\")\n",
        "      true_eta_recorded.append((final_timestamp - timestamps[i]).seconds)\n",
        "      eta_filter_ps.append(eta_filter.P)\n",
        "      tracking_filter_ps.append(tracking_filter.P)\n",
        "      true_positions.append(measured_position)\n",
        "\n",
        "    i += 1\n",
        "\n",
        "\n",
        "  \"\"\"position_on_route = get_position_along_route_from_pos(f.x[0][0], route_id, seg_end_positions)\n",
        "  if position_on_route.segid != last_segid:\n",
        "    if position_on_route.segid not in segment_speeds:\n",
        "      f.x[1][0] = y_pred[timestamp.hour - 8][position_on_route.segid]\n",
        "      last_segid = position_on_route.segid\n",
        "    else:\n",
        "      f.x[1][0] = segment_speeds[position_on_route.segid]\n",
        "\n",
        "  segment_speeds[position_on_route.segid] = f.x[1][0]\"\"\"\n",
        "\n",
        "  timestamp += pd.Timedelta(seconds=dt)"
      ],
      "metadata": {
        "id": "4GlIwo3NsB67",
        "colab": {
          "base_uri": "https://localhost:8080/"
        },
        "outputId": "5c1752fd-ba2d-494f-ce1f-db2779e5a6d7"
      },
      "id": "4GlIwo3NsB67",
      "execution_count": 54,
      "outputs": [
        {
          "output_type": "stream",
          "name": "stdout",
          "text": [
            "[[1513.53454025]\n",
            " [  24.59202783]]\n",
            "-----------------------\n",
            "[[1513.53454025]\n",
            " [  20.54406121]]\n",
            "-----------------------\n",
            "[[1476.0636894 ]\n",
            " [  19.13053174]]\n",
            "-----------------------\n",
            "[[1466.53844253]\n",
            " [  13.06057921]]\n",
            "-----------------------\n",
            "[[1356.96913447]\n",
            " [   5.83012499]]\n",
            "-----------------------\n",
            "[[1302.11026958]\n",
            " [  25.32041879]]\n",
            "-----------------------\n",
            "[[1384.39446205]\n",
            " [   8.80745785]]\n",
            "-----------------------\n",
            "[[1183.72441568]\n",
            " [   2.02145883]]\n",
            "-----------------------\n",
            "[[1069.57124936]\n",
            " [  36.29022242]]\n",
            "-----------------------\n",
            "[[1300.76032231]\n",
            " [  36.62038747]]\n",
            "-----------------------\n",
            "[[1225.36285594]\n",
            " [   6.0064217 ]]\n",
            "-----------------------\n",
            "[[932.5464726 ]\n",
            " [ 32.99541879]]\n",
            "-----------------------\n",
            "[[874.05562569]\n",
            " [ 11.80774277]]\n",
            "-----------------------\n",
            "[[762.9685895 ]\n",
            " [  6.76500053]]\n",
            "-----------------------\n",
            "[[777.61391721]\n",
            " [  8.13046279]]\n",
            "-----------------------\n",
            "[[732.24472171]\n",
            " [  4.90233941]]\n",
            "-----------------------\n",
            "[[686.46478031]\n",
            " [ 43.33167241]]\n",
            "-----------------------\n",
            "[[695.40973597]\n",
            " [ 17.94378769]]\n",
            "-----------------------\n",
            "[[542.11961488]\n",
            " [ 15.49030531]]\n",
            "-----------------------\n",
            "[[554.66847845]\n",
            " [ 24.31523896]]\n",
            "-----------------------\n",
            "[[566.87428388]\n",
            " [  3.16485661]]\n",
            "-----------------------\n",
            "[[414.94718654]\n",
            " [ 19.16831872]]\n",
            "-----------------------\n",
            "[[526.21472601]\n",
            " [ 11.44101615]]\n",
            "-----------------------\n",
            "[[412.859763  ]\n",
            " [  5.57680626]]\n",
            "-----------------------\n",
            "[[353.91298686]\n",
            " [ 10.61566986]]\n",
            "-----------------------\n",
            "[[345.86142352]\n",
            " [ 34.65495049]]\n",
            "-----------------------\n",
            "[[320.92970128]\n",
            " [ 21.6402251 ]]\n",
            "-----------------------\n",
            "[[288.11983949]\n",
            " [  6.22637917]]\n",
            "-----------------------\n",
            "[[250.483244  ]\n",
            " [  5.15051235]]\n",
            "-----------------------\n",
            "[[275.5980227 ]\n",
            " [  5.80190854]]\n",
            "-----------------------\n",
            "[[272.54151907]\n",
            " [ 11.48027471]]\n",
            "-----------------------\n",
            "[[228.58654382]\n",
            " [123.8003062 ]]\n",
            "-----------------------\n"
          ]
        }
      ]
    },
    {
      "cell_type": "code",
      "source": [
        "len(cumulative_seg_eta)"
      ],
      "metadata": {
        "colab": {
          "base_uri": "https://localhost:8080/"
        },
        "id": "lSiw0_j24Icf",
        "outputId": "00f4ed7e-7bcf-47fd-fbff-99be4eb639b7"
      },
      "id": "lSiw0_j24Icf",
      "execution_count": 55,
      "outputs": [
        {
          "output_type": "execute_result",
          "data": {
            "text/plain": [
              "55"
            ]
          },
          "metadata": {},
          "execution_count": 55
        }
      ]
    },
    {
      "cell_type": "code",
      "source": [
        "len(processed_segments)"
      ],
      "metadata": {
        "colab": {
          "base_uri": "https://localhost:8080/"
        },
        "id": "wIbtGvjq4LvB",
        "outputId": "748fb16f-9451-4e41-bb9f-dca61ab7204c"
      },
      "id": "wIbtGvjq4LvB",
      "execution_count": 56,
      "outputs": [
        {
          "output_type": "execute_result",
          "data": {
            "text/plain": [
              "55"
            ]
          },
          "metadata": {},
          "execution_count": 56
        }
      ]
    },
    {
      "cell_type": "code",
      "source": [
        "plt.plot(true_eta_recorded, color=\"g\", label=\"True ETA\")\n",
        "plt.plot(eta_preds, color=\"r\", label=\"Predicted ETA\")\n",
        "plt.legend()\n",
        "plt.title(f\"Trip ID: {selected_trip_id}\")\n",
        "plt.ylabel(\"Time in sec\")"
      ],
      "metadata": {
        "colab": {
          "base_uri": "https://localhost:8080/",
          "height": 470
        },
        "id": "Xoa3Y4ZLOBbq",
        "outputId": "63a214b5-c19c-4654-8f4d-810610c255c6"
      },
      "id": "Xoa3Y4ZLOBbq",
      "execution_count": 57,
      "outputs": [
        {
          "output_type": "execute_result",
          "data": {
            "text/plain": [
              "Text(0, 0.5, 'Time in sec')"
            ]
          },
          "metadata": {},
          "execution_count": 57
        },
        {
          "output_type": "display_data",
          "data": {
            "text/plain": [
              "<Figure size 640x480 with 1 Axes>"
            ],
            "image/png": "[encoded data removed]"
          },
          "metadata": {}
        }
      ]
    },
    {
      "cell_type": "code",
      "source": [
        "plt.bar([i for i in range(len(eta_preds))], [abs(true_eta - eta_pred) for true_eta, eta_pred in zip(eta_preds, true_eta_recorded)])\n",
        "plt.title(f\"Error between the predicted ETA and true ETA in seconds for trip ID: {selected_trip_id}\")\n",
        "plt.ylabel(\"Time in sec\")"
      ],
      "metadata": {
        "colab": {
          "base_uri": "https://localhost:8080/",
          "height": 470
        },
        "id": "SQ5_M0-s2OCm",
        "outputId": "1f80e01f-41f4-4c03-c25a-0d17b8813a84"
      },
      "id": "SQ5_M0-s2OCm",
      "execution_count": 58,
      "outputs": [
        {
          "output_type": "execute_result",
          "data": {
            "text/plain": [
              "Text(0, 0.5, 'Time in sec')"
            ]
          },
          "metadata": {},
          "execution_count": 58
        },
        {
          "output_type": "display_data",
          "data": {
            "text/plain": [
              "<Figure size 640x480 with 1 Axes>"
            ],
            "image/png": "[encoded data removed]"
          },
          "metadata": {}
        }
      ]
    },
    {
      "cell_type": "code",
      "source": [
        "plt.bar([i for i in range(len(eta_filter_ps))], [eta_filter_p[0][0] for eta_filter_p in eta_filter_ps])\n",
        "plt.title(f\"P value of ETA Filter for trip ID: {selected_trip_id}\")"
      ],
      "metadata": {
        "colab": {
          "base_uri": "https://localhost:8080/",
          "height": 470
        },
        "id": "p9HBW2N18aep",
        "outputId": "e44acff2-13fa-4d1c-da64-9eb8e20ceedf"
      },
      "id": "p9HBW2N18aep",
      "execution_count": 59,
      "outputs": [
        {
          "output_type": "execute_result",
          "data": {
            "text/plain": [
              "Text(0.5, 1.0, 'P value of ETA Filter for trip ID: 20836962')"
            ]
          },
          "metadata": {},
          "execution_count": 59
        },
        {
          "output_type": "display_data",
          "data": {
            "text/plain": [
              "<Figure size 640x480 with 1 Axes>"
            ],
            "image/png": "[encoded data removed]"
          },
          "metadata": {}
        }
      ]
    },
    {
      "cell_type": "code",
      "source": [
        "for eta_pred, true_eta, tracking_filter_P, eta_filter_P in zip(eta_preds, true_eta_recorded, tracking_filter_ps, eta_filter_ps):\n",
        "  print(f\"True ETA: {true_eta}\")\n",
        "  print(f\"Predicted ETA: {eta_pred}\")\n",
        "  print(f\"Difference between true and predicted ETA: {abs(true_eta - eta_pred)}\")\n",
        "  print(f\"P of tracking filter: \\n{tracking_filter_P}\")\n",
        "  print(f\"P of ETA filter: \\n{eta_filter_P}\")\n",
        "  print(\"------------------------------------------------------\")"
      ],
      "metadata": {
        "colab": {
          "base_uri": "https://localhost:8080/"
        },
        "id": "a5waoxMSL-c-",
        "outputId": "db7fa577-920a-41d8-f67c-1a02890a3946"
      },
      "id": "a5waoxMSL-c-",
      "execution_count": 60,
      "outputs": [
        {
          "output_type": "stream",
          "name": "stdout",
          "text": [
            "True ETA: 1100\n",
            "Predicted ETA: 1513.5345402469095\n",
            "Difference between true and predicted ETA: 413.5345402469095\n",
            "P of tracking filter: \n",
            "[[ 4.91898148  0.11574074]\n",
            " [ 0.11574074 14.12037037]]\n",
            "P of ETA filter: \n",
            "[[1.39314613e+05 7.74036444e+02]\n",
            " [7.74036444e+02 3.74576050e+01]]\n",
            "------------------------------------------------------\n",
            "True ETA: 1080\n",
            "Predicted ETA: 1513.5345402469095\n",
            "Difference between true and predicted ETA: 433.5345402469095\n",
            "P of tracking filter: \n",
            "[[4.99805490e+00 2.77870723e-03]\n",
            " [2.77870723e-03 1.42817447e+01]]\n",
            "P of ETA filter: \n",
            "[[5.21889934e+05 2.85735770e+03]\n",
            " [2.85735770e+03 4.88023709e+01]]\n",
            "------------------------------------------------------\n",
            "True ETA: 1052\n",
            "Predicted ETA: 1476.0636894046359\n",
            "Difference between true and predicted ETA: 424.06368940463585\n",
            "P of tracking filter: \n",
            "[[4.99863035e+00 1.95664088e-03]\n",
            " [1.95664088e-03 1.42829191e+01]]\n",
            "P of ETA filter: \n",
            "[[7.27702633e+05 3.40740413e+03]\n",
            " [3.40740413e+03 4.91375749e+01]]\n",
            "------------------------------------------------------\n",
            "True ETA: 992\n",
            "Predicted ETA: 1466.5384425261398\n",
            "Difference between true and predicted ETA: 474.53844252613976\n",
            "P of tracking filter: \n",
            "[[4.99937269e+00 8.96153714e-04]\n",
            " [8.96153714e-04 1.42844341e+01]]\n",
            "P of ETA filter: \n",
            "[[8.52596361e+05 3.73912177e+03]\n",
            " [3.73912177e+03 4.95901060e+01]]\n",
            "------------------------------------------------------\n",
            "True ETA: 948\n",
            "Predicted ETA: 1356.9691344725095\n",
            "Difference between true and predicted ETA: 408.9691344725095\n",
            "P of tracking filter: \n",
            "[[4.99913950e+00 1.22928653e-03]\n",
            " [1.22928653e-03 1.42839582e+01]]\n",
            "P of ETA filter: \n",
            "[[1.55544875e+06 5.02228048e+03]\n",
            " [5.02228048e+03 4.94443938e+01]]\n",
            "------------------------------------------------------\n",
            "True ETA: 932\n",
            "Predicted ETA: 1302.1102695783586\n",
            "Difference between true and predicted ETA: 370.1102695783586\n",
            "P of tracking filter: \n",
            "[[4.99753764e+00 3.51765870e-03]\n",
            " [3.51765870e-03 1.42806891e+01]]\n",
            "P of ETA filter: \n",
            "[[6.80170309e+06 1.01829048e+04]\n",
            " [1.01829048e+04 4.85289310e+01]]\n",
            "------------------------------------------------------\n",
            "True ETA: 900\n",
            "Predicted ETA: 1384.3944620531865\n",
            "Difference between true and predicted ETA: 484.39446205318654\n",
            "P of tracking filter: \n",
            "[[4.99880685e+00 1.70450675e-03]\n",
            " [1.70450675e-03 1.42832793e+01]]\n",
            "P of ETA filter: \n",
            "[[4.23043006e+05 2.61019220e+03]\n",
            " [2.61019220e+03 4.92420864e+01]]\n",
            "------------------------------------------------------\n",
            "True ETA: 888\n",
            "Predicted ETA: 1183.7244156799702\n",
            "Difference between true and predicted ETA: 295.7244156799702\n",
            "P of tracking filter: \n",
            "[[4.99664558e+00 4.79202621e-03]\n",
            " [4.79202621e-03 1.42788685e+01]]\n",
            "P of ETA filter: \n",
            "[[2.38505470e+06 5.94609771e+03]\n",
            " [5.94609771e+03 4.80758012e+01]]\n",
            "------------------------------------------------------\n",
            "True ETA: 884\n",
            "Predicted ETA: 1069.5712493618198\n",
            "Difference between true and predicted ETA: 185.5712493618198\n",
            "P of tracking filter: \n",
            "[[ 4.98782185  0.01739736]\n",
            " [ 0.01739736 14.26086091]]\n",
            "P of ETA filter: \n",
            "[[2.93099698e+07 1.84931590e+04]\n",
            " [1.84931590e+04 4.49806837e+01]]\n",
            "------------------------------------------------------\n",
            "True ETA: 864\n",
            "Predicted ETA: 1300.760322306827\n",
            "Difference between true and predicted ETA: 436.760322306827\n",
            "P of tracking filter: \n",
            "[[4.99805491e+00 2.77870450e-03]\n",
            " [2.77870450e-03 1.42817447e+01]]\n",
            "P of ETA filter: \n",
            "[[1.75834088e+05 1.66503855e+03]\n",
            " [1.66503855e+03 4.88066716e+01]]\n",
            "------------------------------------------------------\n",
            "True ETA: 836\n",
            "Predicted ETA: 1225.362855937008\n",
            "Difference between true and predicted ETA: 389.3628559370079\n",
            "P of tracking filter: \n",
            "[[4.99863035e+00 1.95664088e-03]\n",
            " [1.95664088e-03 1.42829191e+01]]\n",
            "P of ETA filter: \n",
            "[[1.56333611e+05 1.58735018e+03]\n",
            " [1.58735018e+03 4.91375762e+01]]\n",
            "------------------------------------------------------\n",
            "True ETA: 812\n",
            "Predicted ETA: 932.5464726042178\n",
            "Difference between true and predicted ETA: 120.5464726042178\n",
            "P of tracking filter: \n",
            "[[4.99839258e+00 2.29631675e-03]\n",
            " [2.29631675e-03 1.42824338e+01]]\n",
            "P of ETA filter: \n",
            "[[3.38440233e+06 7.29797698e+03]\n",
            " [7.29797698e+03 4.89996549e+01]]\n",
            "------------------------------------------------------\n",
            "True ETA: 764\n",
            "Predicted ETA: 874.0556256896515\n",
            "Difference between true and predicted ETA: 110.05562568965149\n",
            "P of tracking filter: \n",
            "[[4.99921267e+00 1.12475819e-03]\n",
            " [1.12475819e-03 1.42841075e+01]]\n",
            "P of ETA filter: \n",
            "[[9.97183806e+04 1.28446637e+03]\n",
            " [1.28446637e+03 4.94896917e+01]]\n",
            "------------------------------------------------------\n",
            "True ETA: 752\n",
            "Predicted ETA: 762.9685895030195\n",
            "Difference between true and predicted ETA: 10.96858950301953\n",
            "P of tracking filter: \n",
            "[[4.99664558e+00 4.79202616e-03]\n",
            " [4.79202616e-03 1.42788685e+01]]\n",
            "P of ETA filter: \n",
            "[[5.48523779e+05 2.85979089e+03]\n",
            " [2.85979089e+03 4.80761679e+01]]\n",
            "------------------------------------------------------\n",
            "True ETA: 708\n",
            "Predicted ETA: 777.6139172066897\n",
            "Difference between true and predicted ETA: 69.61391720668973\n",
            "P of tracking filter: \n",
            "[[4.99913950e+00 1.22928655e-03]\n",
            " [1.22928655e-03 1.42839582e+01]]\n",
            "P of ETA filter: \n",
            "[[1.90495490e+06 5.55622696e+03]\n",
            " [5.55622696e+03 4.94442068e+01]]\n",
            "------------------------------------------------------\n",
            "True ETA: 692\n",
            "Predicted ETA: 732.2447217071453\n",
            "Difference between true and predicted ETA: 40.244721707145345\n",
            "P of tracking filter: \n",
            "[[4.99753764e+00 3.51765870e-03]\n",
            " [3.51765870e-03 1.42806891e+01]]\n",
            "P of ETA filter: \n",
            "[[1.10132001e+06 4.10710307e+03]\n",
            " [4.10710307e+03 4.85289308e+01]]\n",
            "------------------------------------------------------\n",
            "True ETA: 684\n",
            "Predicted ETA: 686.4647803072867\n",
            "Difference between true and predicted ETA: 2.4647803072866736\n",
            "P of tracking filter: \n",
            "[[4.99474001e+00 7.51427784e-03]\n",
            " [7.51427784e-03 1.42749796e+01]]\n",
            "P of ETA filter: \n",
            "[[2.43875957e+06 5.83537185e+03]\n",
            " [5.83537185e+03 4.72176745e+01]]\n",
            "------------------------------------------------------\n",
            "True ETA: 644\n",
            "Predicted ETA: 695.4097359693859\n",
            "Difference between true and predicted ETA: 51.409735969385906\n",
            "P of tracking filter: \n",
            "[[4.99905134e+00 1.35523396e-03]\n",
            " [1.35523396e-03 1.42837782e+01]]\n",
            "P of ETA filter: \n",
            "[[35922.2245538    773.65976894]\n",
            " [  773.65976894    49.38982983]]\n",
            "------------------------------------------------------\n",
            "True ETA: 600\n",
            "Predicted ETA: 542.1196148843287\n",
            "Difference between true and predicted ETA: 57.88038511567129\n",
            "P of tracking filter: \n",
            "[[4.99913950e+00 1.22928653e-03]\n",
            " [1.22928653e-03 1.42839582e+01]]\n",
            "P of ETA filter: \n",
            "[[1.29680181e+05 1.46080059e+03]\n",
            " [1.46080059e+03 4.94443691e+01]]\n",
            "------------------------------------------------------\n",
            "True ETA: 584\n",
            "Predicted ETA: 554.6684784455883\n",
            "Difference between true and predicted ETA: 29.331521554411665\n",
            "P of tracking filter: \n",
            "[[4.99753764e+00 3.51765870e-03]\n",
            " [3.51765870e-03 1.42806891e+01]]\n",
            "P of ETA filter: \n",
            "[[1.72334457e+05 1.63381830e+03]\n",
            " [1.63381830e+03 4.85289310e+01]]\n",
            "------------------------------------------------------\n",
            "True ETA: 572\n",
            "Predicted ETA: 566.8742838770071\n",
            "Difference between true and predicted ETA: 5.1257161229929125\n",
            "P of tracking filter: \n",
            "[[4.99664558e+00 4.79202636e-03]\n",
            " [4.79202636e-03 1.42788685e+01]]\n",
            "P of ETA filter: \n",
            "[[7.02964431e+04 1.03294867e+03]\n",
            " [1.03294867e+03 4.80747445e+01]]\n",
            "------------------------------------------------------\n",
            "True ETA: 560\n",
            "Predicted ETA: 414.9471865352018\n",
            "Difference between true and predicted ETA: 145.0528134647982\n",
            "P of tracking filter: \n",
            "[[4.99664558e+00 4.79202646e-03]\n",
            " [4.79202646e-03 1.42788685e+01]]\n",
            "P of ETA filter: \n",
            "[[2.26920045e+06 5.79993985e+03]\n",
            " [5.79993985e+03 4.80740708e+01]]\n",
            "------------------------------------------------------\n",
            "True ETA: 508\n",
            "Predicted ETA: 526.2147260132967\n",
            "Difference between true and predicted ETA: 18.21472601329674\n",
            "P of tracking filter: \n",
            "[[4.99927437e+00 1.03661320e-03]\n",
            " [1.03661320e-03 1.42842334e+01]]\n",
            "P of ETA filter: \n",
            "[[1.07425927e+05 1.33422589e+03]\n",
            " [1.33422589e+03 4.95281304e+01]]\n",
            "------------------------------------------------------\n",
            "True ETA: 440\n",
            "Predicted ETA: 412.8597629990974\n",
            "Difference between true and predicted ETA: 27.140237000902573\n",
            "P of tracking filter: \n",
            "[[4.99944755e+00 7.89216153e-04]\n",
            " [7.89216153e-04 1.42845868e+01]]\n",
            "P of ETA filter: \n",
            "[[1.87802124e+05 1.76543256e+03]\n",
            " [1.76543256e+03 4.96376564e+01]]\n",
            "------------------------------------------------------\n",
            "True ETA: 420\n",
            "Predicted ETA: 353.91298686217516\n",
            "Difference between true and predicted ETA: 66.08701313782484\n",
            "P of tracking filter: \n",
            "[[4.99805491e+00 2.77870403e-03]\n",
            " [2.77870403e-03 1.42817447e+01]]\n",
            "P of ETA filter: \n",
            "[[5.55304143e+05 2.94758249e+03]\n",
            " [2.94758249e+03 4.88093184e+01]]\n",
            "------------------------------------------------------\n",
            "True ETA: 384\n",
            "Predicted ETA: 345.8614235181664\n",
            "Difference between true and predicted ETA: 38.13857648183358\n",
            "P of tracking filter: \n",
            "[[4.99894305e+00 1.50993540e-03]\n",
            " [1.50993540e-03 1.42835572e+01]]\n",
            "P of ETA filter: \n",
            "[[1.49887563e+05 1.56362720e+03]\n",
            " [1.56362720e+03 4.93241068e+01]]\n",
            "------------------------------------------------------\n",
            "True ETA: 332\n",
            "Predicted ETA: 320.92970127816716\n",
            "Difference between true and predicted ETA: 11.070298721832842\n",
            "P of tracking filter: \n",
            "[[4.99927437e+00 1.03661318e-03]\n",
            " [1.03661318e-03 1.42842334e+01]]\n",
            "P of ETA filter: \n",
            "[[11849.67663757   450.40116571]\n",
            " [  450.40116571    49.52824172]]\n",
            "------------------------------------------------------\n",
            "True ETA: 268\n",
            "Predicted ETA: 288.11983948567337\n",
            "Difference between true and predicted ETA: 20.119839485673367\n",
            "P of tracking filter: \n",
            "[[4.99941250e+00 8.39292311e-04]\n",
            " [8.39292311e-04 1.42845153e+01]]\n",
            "P of ETA filter: \n",
            "[[24925.01670499   650.72546961]\n",
            " [  650.72546961    49.6153567 ]]\n",
            "------------------------------------------------------\n",
            "True ETA: 200\n",
            "Predicted ETA: 250.48324399753162\n",
            "Difference between true and predicted ETA: 50.483243997531616\n",
            "P of tracking filter: \n",
            "[[4.99944755e+00 7.89216152e-04]\n",
            " [7.89216152e-04 1.42845868e+01]]\n",
            "P of ETA filter: \n",
            "[[2.33796673e+05 1.96810030e+03]\n",
            " [1.96810030e+03 4.96376610e+01]]\n",
            "------------------------------------------------------\n",
            "True ETA: 160\n",
            "Predicted ETA: 275.5980227031216\n",
            "Difference between true and predicted ETA: 115.59802270312161\n",
            "P of tracking filter: \n",
            "[[4.99905134e+00 1.35523392e-03]\n",
            " [1.35523392e-03 1.42837782e+01]]\n",
            "P of ETA filter: \n",
            "[[4.08859875e+05 2.57816190e+03]\n",
            " [2.57816190e+03 4.93901900e+01]]\n",
            "------------------------------------------------------\n",
            "True ETA: 148\n",
            "Predicted ETA: 272.54151906789207\n",
            "Difference between true and predicted ETA: 124.54151906789207\n",
            "P of tracking filter: \n",
            "[[4.99664558e+00 4.79202618e-03]\n",
            " [4.79202618e-03 1.42788685e+01]]\n",
            "P of ETA filter: \n",
            "[[2.88873802e+05 2.07951328e+03]\n",
            " [2.07951328e+03 4.80760206e+01]]\n",
            "------------------------------------------------------\n",
            "True ETA: 112\n",
            "Predicted ETA: 228.58654381992795\n",
            "Difference between true and predicted ETA: 116.58654381992795\n",
            "P of tracking filter: \n",
            "[[4.99894305e+00 1.50993541e-03]\n",
            " [1.50993541e-03 1.42835572e+01]]\n",
            "P of ETA filter: \n",
            "[[5.53954597e+04 9.55856570e+02]\n",
            " [9.55856570e+02 4.93239728e+01]]\n",
            "------------------------------------------------------\n"
          ]
        }
      ]
    }
  ],
  "metadata": {
    "kernelspec": {
      "display_name": "itms-trip-delay-model",
      "language": "python",
      "name": "itms-trip-delay-model"
    },
    "language_info": {
      "codemirror_mode": {
        "name": "ipython",
        "version": 3
      },
      "file_extension": ".py",
      "mimetype": "text/x-python",
      "name": "python",
      "nbconvert_exporter": "python",
      "pygments_lexer": "ipython3",
      "version": "3.8.17"
    },
    "colab": {
      "provenance": [],
      "toc_visible": true
    }
  },
  "nbformat": 4,
  "nbformat_minor": 5
}