{
 "cells": [
  {
   "cell_type": "markdown",
   "id": "de74a627-d50d-478d-8050-cb1a23f71819",
   "metadata": {
    "tags": []
   },
   "source": [
    "# Importing Libraries"
   ]
  },
  {
   "cell_type": "code",
   "execution_count": 1,
   "id": "ef0dbe4b-4d72-4c78-939b-1571045acf70",
   "metadata": {
    "tags": []
   },
   "outputs": [
    {
     "name": "stdout",
     "output_type": "stream",
     "text": [
      "Requirement already satisfied: spektral in /opt/conda/lib/python3.11/site-packages (1.3.0)\n",
      "Requirement already satisfied: dask in /opt/conda/lib/python3.11/site-packages (2023.12.1)\n",
      "Requirement already satisfied: rdp in /opt/conda/lib/python3.11/site-packages (0.8)\n",
      "Requirement already satisfied: h3 in /opt/conda/lib/python3.11/site-packages (3.7.6)\n",
      "Requirement already satisfied: haversine in /opt/conda/lib/python3.11/site-packages (2.8.0)\n",
      "Requirement already satisfied: tqdm in /opt/conda/lib/python3.11/site-packages (4.66.1)\n",
      "Requirement already satisfied: joblib in /opt/conda/lib/python3.11/site-packages (from spektral) (1.3.2)\n",
      "Requirement already satisfied: lxml in /opt/conda/lib/python3.11/site-packages (from spektral) (4.9.4)\n",
      "Requirement already satisfied: networkx in /opt/conda/lib/python3.11/site-packages (from spektral) (3.2.1)\n",
      "Requirement already satisfied: numpy in /opt/conda/lib/python3.11/site-packages (from spektral) (1.24.4)\n",
      "Requirement already satisfied: pandas in /opt/conda/lib/python3.11/site-packages (from spektral) (2.1.1)\n",
      "Requirement already satisfied: requests in /opt/conda/lib/python3.11/site-packages (from spektral) (2.31.0)\n",
      "Requirement already satisfied: scikit-learn in /opt/conda/lib/python3.11/site-packages (from spektral) (1.3.1)\n",
      "Requirement already satisfied: scipy in /opt/conda/lib/python3.11/site-packages (from spektral) (1.11.3)\n",
      "Requirement already satisfied: tensorflow>=2.2.0 in /opt/conda/lib/python3.11/site-packages (from spektral) (2.15.0.post1)\n",
      "Requirement already satisfied: click>=8.1 in /opt/conda/lib/python3.11/site-packages (from dask) (8.1.7)\n",
      "Requirement already satisfied: cloudpickle>=1.5.0 in /opt/conda/lib/python3.11/site-packages (from dask) (3.0.0)\n",
      "Requirement already satisfied: fsspec>=2021.09.0 in /opt/conda/lib/python3.11/site-packages (from dask) (2023.10.0)\n",
      "Requirement already satisfied: packaging>=20.0 in /opt/conda/lib/python3.11/site-packages (from dask) (23.2)\n",
      "Requirement already satisfied: partd>=1.2.0 in /opt/conda/lib/python3.11/site-packages (from dask) (1.4.1)\n",
      "Requirement already satisfied: pyyaml>=5.3.1 in /opt/conda/lib/python3.11/site-packages (from dask) (6.0.1)\n",
      "Requirement already satisfied: toolz>=0.10.0 in /opt/conda/lib/python3.11/site-packages (from dask) (0.12.0)\n",
      "Requirement already satisfied: importlib-metadata>=4.13.0 in /opt/conda/lib/python3.11/site-packages (from dask) (6.8.0)\n",
      "Requirement already satisfied: zipp>=0.5 in /opt/conda/lib/python3.11/site-packages (from importlib-metadata>=4.13.0->dask) (3.17.0)\n",
      "Requirement already satisfied: locket in /opt/conda/lib/python3.11/site-packages (from partd>=1.2.0->dask) (1.0.0)\n",
      "Requirement already satisfied: absl-py>=1.0.0 in /opt/conda/lib/python3.11/site-packages (from tensorflow>=2.2.0->spektral) (2.0.0)\n",
      "Requirement already satisfied: astunparse>=1.6.0 in /opt/conda/lib/python3.11/site-packages (from tensorflow>=2.2.0->spektral) (1.6.3)\n",
      "Requirement already satisfied: flatbuffers>=23.5.26 in /opt/conda/lib/python3.11/site-packages (from tensorflow>=2.2.0->spektral) (23.5.26)\n",
      "Requirement already satisfied: gast!=0.5.0,!=0.5.1,!=0.5.2,>=0.2.1 in /opt/conda/lib/python3.11/site-packages (from tensorflow>=2.2.0->spektral) (0.5.4)\n",
      "Requirement already satisfied: google-pasta>=0.1.1 in /opt/conda/lib/python3.11/site-packages (from tensorflow>=2.2.0->spektral) (0.2.0)\n",
      "Requirement already satisfied: h5py>=2.9.0 in /opt/conda/lib/python3.11/site-packages (from tensorflow>=2.2.0->spektral) (3.10.0)\n",
      "Requirement already satisfied: libclang>=13.0.0 in /opt/conda/lib/python3.11/site-packages (from tensorflow>=2.2.0->spektral) (16.0.6)\n",
      "Requirement already satisfied: ml-dtypes~=0.2.0 in /opt/conda/lib/python3.11/site-packages (from tensorflow>=2.2.0->spektral) (0.2.0)\n",
      "Requirement already satisfied: opt-einsum>=2.3.2 in /opt/conda/lib/python3.11/site-packages (from tensorflow>=2.2.0->spektral) (3.3.0)\n",
      "Requirement already satisfied: protobuf!=4.21.0,!=4.21.1,!=4.21.2,!=4.21.3,!=4.21.4,!=4.21.5,<5.0.0dev,>=3.20.3 in /opt/conda/lib/python3.11/site-packages (from tensorflow>=2.2.0->spektral) (3.20.3)\n",
      "Requirement already satisfied: setuptools in /opt/conda/lib/python3.11/site-packages (from tensorflow>=2.2.0->spektral) (68.2.2)\n",
      "Requirement already satisfied: six>=1.12.0 in /opt/conda/lib/python3.11/site-packages (from tensorflow>=2.2.0->spektral) (1.16.0)\n",
      "Requirement already satisfied: termcolor>=1.1.0 in /opt/conda/lib/python3.11/site-packages (from tensorflow>=2.2.0->spektral) (2.4.0)\n",
      "Requirement already satisfied: typing-extensions>=3.6.6 in /opt/conda/lib/python3.11/site-packages (from tensorflow>=2.2.0->spektral) (4.8.0)\n",
      "Requirement already satisfied: wrapt<1.15,>=1.11.0 in /opt/conda/lib/python3.11/site-packages (from tensorflow>=2.2.0->spektral) (1.14.1)\n",
      "Requirement already satisfied: tensorflow-io-gcs-filesystem>=0.23.1 in /opt/conda/lib/python3.11/site-packages (from tensorflow>=2.2.0->spektral) (0.35.0)\n",
      "Requirement already satisfied: grpcio<2.0,>=1.24.3 in /opt/conda/lib/python3.11/site-packages (from tensorflow>=2.2.0->spektral) (1.60.0)\n",
      "Requirement already satisfied: tensorboard<2.16,>=2.15 in /opt/conda/lib/python3.11/site-packages (from tensorflow>=2.2.0->spektral) (2.15.1)\n",
      "Requirement already satisfied: tensorflow-estimator<2.16,>=2.15.0 in /opt/conda/lib/python3.11/site-packages (from tensorflow>=2.2.0->spektral) (2.15.0)\n",
      "Requirement already satisfied: keras<2.16,>=2.15.0 in /opt/conda/lib/python3.11/site-packages (from tensorflow>=2.2.0->spektral) (2.15.0)\n",
      "Requirement already satisfied: python-dateutil>=2.8.2 in /opt/conda/lib/python3.11/site-packages (from pandas->spektral) (2.8.2)\n",
      "Requirement already satisfied: pytz>=2020.1 in /opt/conda/lib/python3.11/site-packages (from pandas->spektral) (2023.3.post1)\n",
      "Requirement already satisfied: tzdata>=2022.1 in /opt/conda/lib/python3.11/site-packages (from pandas->spektral) (2023.3)\n",
      "Requirement already satisfied: charset-normalizer<4,>=2 in /opt/conda/lib/python3.11/site-packages (from requests->spektral) (3.3.1)\n",
      "Requirement already satisfied: idna<4,>=2.5 in /opt/conda/lib/python3.11/site-packages (from requests->spektral) (3.4)\n",
      "Requirement already satisfied: urllib3<3,>=1.21.1 in /opt/conda/lib/python3.11/site-packages (from requests->spektral) (1.26.18)\n",
      "Requirement already satisfied: certifi>=2017.4.17 in /opt/conda/lib/python3.11/site-packages (from requests->spektral) (2023.7.22)\n",
      "Requirement already satisfied: threadpoolctl>=2.0.0 in /opt/conda/lib/python3.11/site-packages (from scikit-learn->spektral) (3.2.0)\n",
      "Requirement already satisfied: wheel<1.0,>=0.23.0 in /opt/conda/lib/python3.11/site-packages (from astunparse>=1.6.0->tensorflow>=2.2.0->spektral) (0.41.3)\n",
      "Requirement already satisfied: google-auth<3,>=1.6.3 in /opt/conda/lib/python3.11/site-packages (from tensorboard<2.16,>=2.15->tensorflow>=2.2.0->spektral) (2.23.4)\n",
      "Requirement already satisfied: google-auth-oauthlib<2,>=0.5 in /opt/conda/lib/python3.11/site-packages (from tensorboard<2.16,>=2.15->tensorflow>=2.2.0->spektral) (1.2.0)\n",
      "Requirement already satisfied: markdown>=2.6.8 in /opt/conda/lib/python3.11/site-packages (from tensorboard<2.16,>=2.15->tensorflow>=2.2.0->spektral) (3.5.1)\n",
      "Requirement already satisfied: tensorboard-data-server<0.8.0,>=0.7.0 in /opt/conda/lib/python3.11/site-packages (from tensorboard<2.16,>=2.15->tensorflow>=2.2.0->spektral) (0.7.2)\n",
      "Requirement already satisfied: werkzeug>=1.0.1 in /opt/conda/lib/python3.11/site-packages (from tensorboard<2.16,>=2.15->tensorflow>=2.2.0->spektral) (3.0.1)\n",
      "Requirement already satisfied: cachetools<6.0,>=2.0.0 in /opt/conda/lib/python3.11/site-packages (from google-auth<3,>=1.6.3->tensorboard<2.16,>=2.15->tensorflow>=2.2.0->spektral) (5.3.2)\n",
      "Requirement already satisfied: pyasn1-modules>=0.2.1 in /opt/conda/lib/python3.11/site-packages (from google-auth<3,>=1.6.3->tensorboard<2.16,>=2.15->tensorflow>=2.2.0->spektral) (0.3.0)\n",
      "Requirement already satisfied: rsa<5,>=3.1.4 in /opt/conda/lib/python3.11/site-packages (from google-auth<3,>=1.6.3->tensorboard<2.16,>=2.15->tensorflow>=2.2.0->spektral) (4.9)\n",
      "Requirement already satisfied: requests-oauthlib>=0.7.0 in /opt/conda/lib/python3.11/site-packages (from google-auth-oauthlib<2,>=0.5->tensorboard<2.16,>=2.15->tensorflow>=2.2.0->spektral) (1.3.1)\n",
      "Requirement already satisfied: MarkupSafe>=2.1.1 in /opt/conda/lib/python3.11/site-packages (from werkzeug>=1.0.1->tensorboard<2.16,>=2.15->tensorflow>=2.2.0->spektral) (2.1.3)\n",
      "Requirement already satisfied: pyasn1<0.6.0,>=0.4.6 in /opt/conda/lib/python3.11/site-packages (from pyasn1-modules>=0.2.1->google-auth<3,>=1.6.3->tensorboard<2.16,>=2.15->tensorflow>=2.2.0->spektral) (0.5.0)\n",
      "Requirement already satisfied: oauthlib>=3.0.0 in /opt/conda/lib/python3.11/site-packages (from requests-oauthlib>=0.7.0->google-auth-oauthlib<2,>=0.5->tensorboard<2.16,>=2.15->tensorflow>=2.2.0->spektral) (3.2.2)\n"
     ]
    }
   ],
   "source": [
    "!pip install spektral dask rdp h3 haversine tqdm"
   ]
  },
  {
   "cell_type": "code",
   "execution_count": 2,
   "id": "7ccb1538-f4ab-4b5a-bb6b-16efd8483d29",
   "metadata": {
    "tags": []
   },
   "outputs": [
    {
     "name": "stdout",
     "output_type": "stream",
     "text": [
      "Requirement already satisfied: ipycytoscape in /opt/conda/lib/python3.11/site-packages (1.3.3)\n",
      "Requirement already satisfied: ipywidgets>=7.6.0 in /opt/conda/lib/python3.11/site-packages (from ipycytoscape) (8.1.1)\n",
      "Requirement already satisfied: spectate>=1.0.0 in /opt/conda/lib/python3.11/site-packages (from ipycytoscape) (1.0.1)\n",
      "Requirement already satisfied: comm>=0.1.3 in /opt/conda/lib/python3.11/site-packages (from ipywidgets>=7.6.0->ipycytoscape) (0.1.4)\n",
      "Requirement already satisfied: ipython>=6.1.0 in /opt/conda/lib/python3.11/site-packages (from ipywidgets>=7.6.0->ipycytoscape) (8.16.1)\n",
      "Requirement already satisfied: traitlets>=4.3.1 in /opt/conda/lib/python3.11/site-packages (from ipywidgets>=7.6.0->ipycytoscape) (5.13.0)\n",
      "Requirement already satisfied: widgetsnbextension~=4.0.9 in /opt/conda/lib/python3.11/site-packages (from ipywidgets>=7.6.0->ipycytoscape) (4.0.9)\n",
      "Requirement already satisfied: jupyterlab-widgets~=3.0.9 in /opt/conda/lib/python3.11/site-packages (from ipywidgets>=7.6.0->ipycytoscape) (3.0.9)\n",
      "Requirement already satisfied: backcall in /opt/conda/lib/python3.11/site-packages (from ipython>=6.1.0->ipywidgets>=7.6.0->ipycytoscape) (0.2.0)\n",
      "Requirement already satisfied: decorator in /opt/conda/lib/python3.11/site-packages (from ipython>=6.1.0->ipywidgets>=7.6.0->ipycytoscape) (5.1.1)\n",
      "Requirement already satisfied: jedi>=0.16 in /opt/conda/lib/python3.11/site-packages (from ipython>=6.1.0->ipywidgets>=7.6.0->ipycytoscape) (0.19.1)\n",
      "Requirement already satisfied: matplotlib-inline in /opt/conda/lib/python3.11/site-packages (from ipython>=6.1.0->ipywidgets>=7.6.0->ipycytoscape) (0.1.6)\n",
      "Requirement already satisfied: pickleshare in /opt/conda/lib/python3.11/site-packages (from ipython>=6.1.0->ipywidgets>=7.6.0->ipycytoscape) (0.7.5)\n",
      "Requirement already satisfied: prompt-toolkit!=3.0.37,<3.1.0,>=3.0.30 in /opt/conda/lib/python3.11/site-packages (from ipython>=6.1.0->ipywidgets>=7.6.0->ipycytoscape) (3.0.39)\n",
      "Requirement already satisfied: pygments>=2.4.0 in /opt/conda/lib/python3.11/site-packages (from ipython>=6.1.0->ipywidgets>=7.6.0->ipycytoscape) (2.16.1)\n",
      "Requirement already satisfied: stack-data in /opt/conda/lib/python3.11/site-packages (from ipython>=6.1.0->ipywidgets>=7.6.0->ipycytoscape) (0.6.2)\n",
      "Requirement already satisfied: pexpect>4.3 in /opt/conda/lib/python3.11/site-packages (from ipython>=6.1.0->ipywidgets>=7.6.0->ipycytoscape) (4.8.0)\n",
      "Requirement already satisfied: parso<0.9.0,>=0.8.3 in /opt/conda/lib/python3.11/site-packages (from jedi>=0.16->ipython>=6.1.0->ipywidgets>=7.6.0->ipycytoscape) (0.8.3)\n",
      "Requirement already satisfied: ptyprocess>=0.5 in /opt/conda/lib/python3.11/site-packages (from pexpect>4.3->ipython>=6.1.0->ipywidgets>=7.6.0->ipycytoscape) (0.7.0)\n",
      "Requirement already satisfied: wcwidth in /opt/conda/lib/python3.11/site-packages (from prompt-toolkit!=3.0.37,<3.1.0,>=3.0.30->ipython>=6.1.0->ipywidgets>=7.6.0->ipycytoscape) (0.2.9)\n",
      "Requirement already satisfied: executing>=1.2.0 in /opt/conda/lib/python3.11/site-packages (from stack-data->ipython>=6.1.0->ipywidgets>=7.6.0->ipycytoscape) (2.0.1)\n",
      "Requirement already satisfied: asttokens>=2.1.0 in /opt/conda/lib/python3.11/site-packages (from stack-data->ipython>=6.1.0->ipywidgets>=7.6.0->ipycytoscape) (2.4.1)\n",
      "Requirement already satisfied: pure-eval in /opt/conda/lib/python3.11/site-packages (from stack-data->ipython>=6.1.0->ipywidgets>=7.6.0->ipycytoscape) (0.2.2)\n",
      "Requirement already satisfied: six>=1.12.0 in /opt/conda/lib/python3.11/site-packages (from asttokens>=2.1.0->stack-data->ipython>=6.1.0->ipywidgets>=7.6.0->ipycytoscape) (1.16.0)\n",
      "Enabling notebook extension jupyter-cytoscape/extension...\n",
      "      - Validating: \u001b[32mOK\u001b[0m\n",
      "Enabling notebook extension jupyter-js-widgets/extension...\n",
      "      - Validating: \u001b[32mOK\u001b[0m\n"
     ]
    }
   ],
   "source": [
    "!pip install ipycytoscape\n",
    "!jupyter nbextension enable --py --sys-prefix ipycytoscape\n",
    "!jupyter nbextension enable --py --sys-prefix widgetsnbextension"
   ]
  },
  {
   "cell_type": "code",
   "execution_count": 3,
   "id": "7380cda7-3bff-49a5-95b6-288ea8a40f47",
   "metadata": {
    "tags": []
   },
   "outputs": [
    {
     "name": "stdout",
     "output_type": "stream",
     "text": [
      "Requirement already satisfied: dask in /opt/conda/lib/python3.11/site-packages (2023.12.1)\n",
      "Requirement already satisfied: click>=8.1 in /opt/conda/lib/python3.11/site-packages (from dask) (8.1.7)\n",
      "Requirement already satisfied: cloudpickle>=1.5.0 in /opt/conda/lib/python3.11/site-packages (from dask) (3.0.0)\n",
      "Requirement already satisfied: fsspec>=2021.09.0 in /opt/conda/lib/python3.11/site-packages (from dask) (2023.10.0)\n",
      "Requirement already satisfied: packaging>=20.0 in /opt/conda/lib/python3.11/site-packages (from dask) (23.2)\n",
      "Requirement already satisfied: partd>=1.2.0 in /opt/conda/lib/python3.11/site-packages (from dask) (1.4.1)\n",
      "Requirement already satisfied: pyyaml>=5.3.1 in /opt/conda/lib/python3.11/site-packages (from dask) (6.0.1)\n",
      "Requirement already satisfied: toolz>=0.10.0 in /opt/conda/lib/python3.11/site-packages (from dask) (0.12.0)\n",
      "Requirement already satisfied: importlib-metadata>=4.13.0 in /opt/conda/lib/python3.11/site-packages (from dask) (6.8.0)\n",
      "Requirement already satisfied: zipp>=0.5 in /opt/conda/lib/python3.11/site-packages (from importlib-metadata>=4.13.0->dask) (3.17.0)\n",
      "Requirement already satisfied: locket in /opt/conda/lib/python3.11/site-packages (from partd>=1.2.0->dask) (1.0.0)\n"
     ]
    }
   ],
   "source": [
    "!pip install --upgrade dask"
   ]
  },
  {
   "cell_type": "code",
   "execution_count": 4,
   "id": "b168b163-3c4c-4ec2-bed0-8dda01b8ebed",
   "metadata": {
    "tags": []
   },
   "outputs": [
    {
     "name": "stdout",
     "output_type": "stream",
     "text": [
      "Requirement already satisfied: folium in /opt/conda/lib/python3.11/site-packages (0.15.1)\n",
      "Requirement already satisfied: shapely in /opt/conda/lib/python3.11/site-packages (2.0.2)\n",
      "Requirement already satisfied: psycopg2-binary in /opt/conda/lib/python3.11/site-packages (2.9.9)\n",
      "Requirement already satisfied: geopy in /opt/conda/lib/python3.11/site-packages (2.4.1)\n",
      "Requirement already satisfied: cvxpy in /opt/conda/lib/python3.11/site-packages (1.4.1)\n",
      "Requirement already satisfied: branca>=0.6.0 in /opt/conda/lib/python3.11/site-packages (from folium) (0.7.0)\n",
      "Requirement already satisfied: jinja2>=2.9 in /opt/conda/lib/python3.11/site-packages (from folium) (3.1.2)\n",
      "Requirement already satisfied: numpy in /opt/conda/lib/python3.11/site-packages (from folium) (1.24.4)\n",
      "Requirement already satisfied: requests in /opt/conda/lib/python3.11/site-packages (from folium) (2.31.0)\n",
      "Requirement already satisfied: xyzservices in /opt/conda/lib/python3.11/site-packages (from folium) (2023.10.1)\n",
      "Requirement already satisfied: geographiclib<3,>=1.52 in /opt/conda/lib/python3.11/site-packages (from geopy) (2.0)\n",
      "Requirement already satisfied: osqp>=0.6.2 in /opt/conda/lib/python3.11/site-packages (from cvxpy) (0.6.3)\n",
      "Requirement already satisfied: ecos>=2 in /opt/conda/lib/python3.11/site-packages (from cvxpy) (2.0.12)\n",
      "Requirement already satisfied: clarabel>=0.5.0 in /opt/conda/lib/python3.11/site-packages (from cvxpy) (0.6.0)\n",
      "Requirement already satisfied: scs>=3.0 in /opt/conda/lib/python3.11/site-packages (from cvxpy) (3.2.4.post1)\n",
      "Requirement already satisfied: scipy>=1.1.0 in /opt/conda/lib/python3.11/site-packages (from cvxpy) (1.11.3)\n",
      "Requirement already satisfied: pybind11 in /opt/conda/lib/python3.11/site-packages (from cvxpy) (2.11.1)\n",
      "Requirement already satisfied: MarkupSafe>=2.0 in /opt/conda/lib/python3.11/site-packages (from jinja2>=2.9->folium) (2.1.3)\n",
      "Requirement already satisfied: qdldl in /opt/conda/lib/python3.11/site-packages (from osqp>=0.6.2->cvxpy) (0.1.7.post0)\n",
      "Requirement already satisfied: charset-normalizer<4,>=2 in /opt/conda/lib/python3.11/site-packages (from requests->folium) (3.3.1)\n",
      "Requirement already satisfied: idna<4,>=2.5 in /opt/conda/lib/python3.11/site-packages (from requests->folium) (3.4)\n",
      "Requirement already satisfied: urllib3<3,>=1.21.1 in /opt/conda/lib/python3.11/site-packages (from requests->folium) (1.26.18)\n",
      "Requirement already satisfied: certifi>=2017.4.17 in /opt/conda/lib/python3.11/site-packages (from requests->folium) (2023.7.22)\n"
     ]
    }
   ],
   "source": [
    "!pip install folium shapely psycopg2-binary geopy cvxpy"
   ]
  },
  {
   "cell_type": "code",
   "execution_count": 5,
   "id": "7f55e8c5-0a31-42e8-a358-f70ae2050cc3",
   "metadata": {
    "tags": []
   },
   "outputs": [
    {
     "name": "stderr",
     "output_type": "stream",
     "text": [
      "2023-12-26 07:00:30.262945: I external/local_tsl/tsl/cuda/cudart_stub.cc:31] Could not find cuda drivers on your machine, GPU will not be used.\n",
      "2023-12-26 07:00:30.287740: E external/local_xla/xla/stream_executor/cuda/cuda_dnn.cc:9261] Unable to register cuDNN factory: Attempting to register factory for plugin cuDNN when one has already been registered\n",
      "2023-12-26 07:00:30.287765: E external/local_xla/xla/stream_executor/cuda/cuda_fft.cc:607] Unable to register cuFFT factory: Attempting to register factory for plugin cuFFT when one has already been registered\n",
      "2023-12-26 07:00:30.288416: E external/local_xla/xla/stream_executor/cuda/cuda_blas.cc:1515] Unable to register cuBLAS factory: Attempting to register factory for plugin cuBLAS when one has already been registered\n",
      "2023-12-26 07:00:30.292428: I external/local_tsl/tsl/cuda/cudart_stub.cc:31] Could not find cuda drivers on your machine, GPU will not be used.\n",
      "2023-12-26 07:00:30.292726: I tensorflow/core/platform/cpu_feature_guard.cc:182] This TensorFlow binary is optimized to use available CPU instructions in performance-critical operations.\n",
      "To enable the following instructions: AVX2 FMA, in other operations, rebuild TensorFlow with the appropriate compiler flags.\n",
      "2023-12-26 07:00:30.949703: W tensorflow/compiler/tf2tensorrt/utils/py_utils.cc:38] TF-TRT Warning: Could not find TensorRT\n",
      "/opt/conda/lib/python3.11/site-packages/dask/dataframe/_pyarrow_compat.py:23: UserWarning: You are using pyarrow version 13.0.0 which is known to be insecure. See https://www.cve.org/CVERecord?id=CVE-2023-47248 for further details. Please upgrade to pyarrow>=14.0.1 or install pyarrow-hotfix to patch your current version.\n",
      "  warnings.warn(\n"
     ]
    }
   ],
   "source": [
    "import pandas as pd\n",
    "from typing import Dict, Tuple, List\n",
    "import numpy as np\n",
    "from tqdm import tqdm\n",
    "from spektral.utils.convolution import gcn_filter\n",
    "import dask.dataframe as dd\n",
    "import dask\n",
    "import dask.delayed\n",
    "import dask.array as da\n",
    "import pickle\n",
    "import numpy as np\n",
    "import math"
   ]
  },
  {
   "cell_type": "code",
   "execution_count": 6,
   "id": "beb990f7-f301-4adc-9ac1-1a89c5a817fa",
   "metadata": {
    "tags": []
   },
   "outputs": [],
   "source": [
    "import folium\n",
    "import geopy.distance\n",
    "import json\n",
    "from shapely.geometry import LineString, Point\n",
    "import matplotlib.pyplot as plt\n",
    "from shapely.ops import shared_paths\n",
    "import shapely\n",
    "import pickle as pkl\n",
    "import cvxpy as cvo\n",
    "# from pyproj import Geod\n",
    "from datetime import datetime,timedelta\n",
    "import h3\n",
    "# import geopandas\n",
    "import rdp\n",
    "import seaborn as sns\n",
    "from haversine import haversine, Unit\n",
    "import datetime\n",
    "import pytz\n",
    "from itertools import product\n",
    "import psycopg2"
   ]
  },
  {
   "cell_type": "code",
   "execution_count": 7,
   "id": "b31a5cd1-ad6c-4660-b891-bdea8516f41a",
   "metadata": {
    "tags": []
   },
   "outputs": [],
   "source": [
    "from tensorflow.keras import Model\n",
    "from tensorflow.keras.layers import LSTM, Dense, Dropout, Input, Reshape\n",
    "from tensorflow.keras.optimizers import Adam\n",
    "from spektral.layers import GCNConv\n",
    "from spektral.utils.convolution import gcn_filter\n",
    "from sklearn.metrics import mean_squared_error, mean_absolute_error, r2_score"
   ]
  },
  {
   "cell_type": "code",
   "execution_count": 8,
   "id": "5e613eb2-cc94-48d6-aca5-d344a9d33bee",
   "metadata": {
    "tags": []
   },
   "outputs": [],
   "source": [
    "import warnings\n",
    "warnings.filterwarnings(\"ignore\")"
   ]
  },
  {
   "cell_type": "code",
   "execution_count": 9,
   "id": "65974554-3f0c-49ef-9d76-6fe87a5497d9",
   "metadata": {
    "tags": []
   },
   "outputs": [],
   "source": [
    "import random\n",
    "import tensorflow as tf"
   ]
  },
  {
   "cell_type": "code",
   "execution_count": 10,
   "id": "d00e7153-2441-4dc4-b217-66edf5b3c06e",
   "metadata": {
    "tags": []
   },
   "outputs": [],
   "source": [
    "import dask.dataframe as dd\n",
    "from dask import delayed"
   ]
  },
  {
   "cell_type": "markdown",
   "id": "25175963-56e4-40ef-a416-d13607a0d5e1",
   "metadata": {
    "tags": []
   },
   "source": [
    "# Utility Functions"
   ]
  },
  {
   "cell_type": "code",
   "execution_count": 11,
   "id": "e9dcf30e-6bd7-4e69-9d1e-9d37ade402ab",
   "metadata": {
    "tags": []
   },
   "outputs": [],
   "source": [
    "def geo_to_segment(latitude,longitude,h3_to_seg,new_segment_dict):\n",
    "    h3_resolution=11 # edge length approx. 25 meters\n",
    "    hid=h3.geo_to_h3(latitude,longitude,h3_resolution)\n",
    "    notfound=True\n",
    "    k=0\n",
    "    hex_seg=hid\n",
    "    while(notfound):\n",
    "        ring=h3.k_ring(hid,k)\n",
    "        for nh in ring:\n",
    "            if nh in list(h3_to_seg.keys()):\n",
    "                hex_seg=nh\n",
    "                notfound=False\n",
    "                break\n",
    "        k+=1\n",
    "        if k>3:\n",
    "            return -1\n",
    "    segment_ids=h3_to_seg[hex_seg]\n",
    "    if len(segment_ids)==1:\n",
    "        if segment_ids[0] in new_segment_dict:\n",
    "            return segment_ids[0]\n",
    "        else:\n",
    "            return\n",
    "    distances=[]\n",
    "    for i in range(len(segment_ids)):\n",
    "        sid=segment_ids[i]\n",
    "        if sid in new_segment_dict:\n",
    "            distances.append(min([(((c[0]-longitude)**2)+((c[1]-latitude)**2))**0.5 for c in new_segment_dict[sid]['coordinates']]))\n",
    "    if len(distances)==0:\n",
    "        return\n",
    "    return segment_ids[distances.index(min(distances))]"
   ]
  },
  {
   "cell_type": "code",
   "execution_count": 12,
   "id": "9316e13b-bd90-4682-9e0b-e27649850e34",
   "metadata": {
    "tags": []
   },
   "outputs": [],
   "source": [
    "def Euclidean(p1, p2):\n",
    "    return (((p1[0]-p2[0])**2)+((p1[1]-p2[1])**2))**0.5"
   ]
  },
  {
   "cell_type": "code",
   "execution_count": 13,
   "id": "2a447cf5-8b07-412f-9390-4b13acb38f97",
   "metadata": {
    "tags": []
   },
   "outputs": [],
   "source": [
    "def getH3Dist(p1, p2):\n",
    "    # this is an approximate multiplication value**\n",
    "    return h3.h3_distance(geoToH3HighResolution(p1[0], p1[1]), geoToH3HighResolution(p2[0], p2[1]))*0.001348575"
   ]
  },
  {
   "cell_type": "code",
   "execution_count": 14,
   "id": "4ff6a149-efd0-44e7-acac-3928655c9c3e",
   "metadata": {
    "tags": []
   },
   "outputs": [],
   "source": [
    "def geoToH3HighResolution(latitude, longitude):\n",
    "    resolution = 14\n",
    "    return h3.geo_to_h3(latitude, longitude, resolution)"
   ]
  },
  {
   "cell_type": "code",
   "execution_count": 15,
   "id": "96664400-77db-4a17-89f9-12fa0d2e2bc7",
   "metadata": {
    "tags": []
   },
   "outputs": [],
   "source": [
    "def geoToH3(latitude, longitude):\n",
    "    resolution = 8\n",
    "    return h3.geo_to_h3(latitude, longitude, resolution)"
   ]
  },
  {
   "cell_type": "code",
   "execution_count": 16,
   "id": "f12cb168-c011-4179-97da-5014919fbc72",
   "metadata": {
    "tags": []
   },
   "outputs": [],
   "source": [
    "def h3ToGeoJson(h3_hash):\n",
    "    # return '{\"type\": \"FeatureCollection\",\"features\": [{\"type\": \"Feature\",\"properties\": {},\"geometry\": {\"type\": \"Polygon\",\"coordinates\": ['+str(h3.h3_set_to_multi_polygon([h3_hash], geo_json=True)[0][0])+']}}]}'\n",
    "    return  '{\"type\": \"Polygon\", \"coordinates\": ['+ str(h3.h3_set_to_multi_polygon([h3_hash], geo_json=True)[0][0]) +'] }'"
   ]
  },
  {
   "cell_type": "markdown",
   "id": "27f31aab-723e-423e-8cc8-7ad7727543a6",
   "metadata": {
    "tags": []
   },
   "source": [
    "# Mapping Route ID to Segments"
   ]
  },
  {
   "cell_type": "code",
   "execution_count": 17,
   "id": "34e44112-28f1-4722-80fd-3bc65746fffd",
   "metadata": {
    "tags": []
   },
   "outputs": [],
   "source": [
    "new_segment_dict_full = pd.read_pickle(\"./new_segment_dict.pkl\")  "
   ]
  },
  {
   "cell_type": "code",
   "execution_count": 18,
   "id": "710dea25-889f-4c54-88cf-4fa007475fa1",
   "metadata": {
    "tags": []
   },
   "outputs": [
    {
     "name": "stdout",
     "output_type": "stream",
     "text": [
      "0.08550824044153141\n",
      "0.15075762807669035\n",
      "3.1456344027556646\n",
      "0.0018155252831053774\n"
     ]
    }
   ],
   "source": [
    "lengths = []\n",
    "for seg in new_segment_dict_full:\n",
    "    lengths.append(new_segment_dict_full[seg]['length'])\n",
    "print(np.median(lengths))\n",
    "print(np.mean(lengths))\n",
    "print(max(lengths))\n",
    "print(min(lengths))"
   ]
  },
  {
   "cell_type": "code",
   "execution_count": 19,
   "id": "1ecaad72-0192-4e55-9c17-46735066e1c7",
   "metadata": {
    "tags": []
   },
   "outputs": [],
   "source": [
    "max_seg_length = max(lengths)\n",
    "avg_speed_bus = 10\n",
    "max_time_eta = max_seg_length*60*60/avg_speed_bus"
   ]
  },
  {
   "cell_type": "code",
   "execution_count": 20,
   "id": "0f1661e8-b8e0-454e-8af1-3b8aa2b76305",
   "metadata": {
    "tags": []
   },
   "outputs": [
    {
     "name": "stdout",
     "output_type": "stream",
     "text": [
      "dict_keys(['segment', 'coordinates', 'length', 'parent_routes'])\n",
      "5277\n"
     ]
    }
   ],
   "source": [
    "print(new_segment_dict_full[0].keys())\n",
    "print(len(new_segment_dict_full))"
   ]
  },
  {
   "cell_type": "code",
   "execution_count": 21,
   "id": "a9d32e4d-a28a-413b-b722-83565c1a1521",
   "metadata": {
    "tags": []
   },
   "outputs": [],
   "source": [
    "segment_dict_full = {val:new_segment_dict_full[val]['segment'] for val in new_segment_dict_full}"
   ]
  },
  {
   "cell_type": "code",
   "execution_count": 22,
   "id": "6e34f0bb-e7b8-4944-9acf-cab28c1cb183",
   "metadata": {
    "tags": []
   },
   "outputs": [],
   "source": [
    "def get_segment_dist(coords):\n",
    "    dist=0\n",
    "    for index in range(1,len(coords)):\n",
    "        dist += haversine(coords[index-1], coords[index])\n",
    "    return dist/2"
   ]
  },
  {
   "cell_type": "code",
   "execution_count": 23,
   "id": "4a162851-9531-476a-8aca-841422cdd411",
   "metadata": {
    "tags": []
   },
   "outputs": [],
   "source": [
    "new_segment_dict = {}\n",
    "for segid,segment in segment_dict_full.items():\n",
    "    new_segment_dict[segid]={\n",
    "        \"coordinates\":list(segment.exterior.coords),\n",
    "        \"length\": get_segment_dist(list(segment.exterior.coords)),\n",
    "        \"polygon\": segment\n",
    "    }"
   ]
  },
  {
   "cell_type": "code",
   "execution_count": 24,
   "id": "b09454a1-1874-44f1-9417-5d2d48dcc772",
   "metadata": {
    "tags": []
   },
   "outputs": [],
   "source": [
    "h3_to_seg = pd.read_pickle(\"./h3_to_seg.pkl\") "
   ]
  },
  {
   "cell_type": "code",
   "execution_count": 25,
   "id": "03e0dc98-80ce-4156-b5e8-ef45a130d8cf",
   "metadata": {
    "tags": []
   },
   "outputs": [],
   "source": [
    "route_to_segments = pd.read_pickle(\"./route_to_segments_new.pkl\")"
   ]
  },
  {
   "cell_type": "code",
   "execution_count": 26,
   "id": "0b285dc0-b7ed-4129-b4cc-b73cdd3a7c49",
   "metadata": {
    "tags": []
   },
   "outputs": [
    {
     "data": {
      "text/plain": [
       "(dict, 121)"
      ]
     },
     "execution_count": 26,
     "metadata": {},
     "output_type": "execute_result"
    }
   ],
   "source": [
    "type(route_to_segments), len(route_to_segments[\"01U\"])"
   ]
  },
  {
   "cell_type": "markdown",
   "id": "4509481d-0707-4d02-ba70-60e283923b01",
   "metadata": {
    "tags": []
   },
   "source": [
    "# Getting Average Dwelltime_df"
   ]
  },
  {
   "cell_type": "code",
   "execution_count": 27,
   "id": "3ae06fda-58ab-41c5-9f8b-6017df94c7b1",
   "metadata": {
    "tags": []
   },
   "outputs": [
    {
     "data": {
      "text/html": [
       "<div>\n",
       "    <div style=\"width: 24px; height: 24px; background-color: #e1e1e1; border: 3px solid #9D9D9D; border-radius: 5px; position: absolute;\"> </div>\n",
       "    <div style=\"margin-left: 48px;\">\n",
       "        <h3 style=\"margin-bottom: 0px;\">Client</h3>\n",
       "        <p style=\"color: #9D9D9D; margin-bottom: 0px;\">Client-781bdff3-a3bc-11ee-83f7-66ce23731c5c</p>\n",
       "        <table style=\"width: 100%; text-align: left;\">\n",
       "\n",
       "        <tr>\n",
       "        \n",
       "            <td style=\"text-align: left;\"><strong>Connection method:</strong> Cluster object</td>\n",
       "            <td style=\"text-align: left;\"><strong>Cluster type:</strong> distributed.LocalCluster</td>\n",
       "        \n",
       "        </tr>\n",
       "\n",
       "        \n",
       "            <tr>\n",
       "                <td style=\"text-align: left;\">\n",
       "                    <strong>Dashboard: </strong> <a href=\"http://127.0.0.1:8787/status\" target=\"_blank\">http://127.0.0.1:8787/status</a>\n",
       "                </td>\n",
       "                <td style=\"text-align: left;\"></td>\n",
       "            </tr>\n",
       "        \n",
       "\n",
       "        </table>\n",
       "\n",
       "        \n",
       "\n",
       "        \n",
       "            <details>\n",
       "            <summary style=\"margin-bottom: 20px;\"><h3 style=\"display: inline;\">Cluster Info</h3></summary>\n",
       "            <div class=\"jp-RenderedHTMLCommon jp-RenderedHTML jp-mod-trusted jp-OutputArea-output\">\n",
       "    <div style=\"width: 24px; height: 24px; background-color: #e1e1e1; border: 3px solid #9D9D9D; border-radius: 5px; position: absolute;\">\n",
       "    </div>\n",
       "    <div style=\"margin-left: 48px;\">\n",
       "        <h3 style=\"margin-bottom: 0px; margin-top: 0px;\">LocalCluster</h3>\n",
       "        <p style=\"color: #9D9D9D; margin-bottom: 0px;\">ab8592ea</p>\n",
       "        <table style=\"width: 100%; text-align: left;\">\n",
       "            <tr>\n",
       "                <td style=\"text-align: left;\">\n",
       "                    <strong>Dashboard:</strong> <a href=\"http://127.0.0.1:8787/status\" target=\"_blank\">http://127.0.0.1:8787/status</a>\n",
       "                </td>\n",
       "                <td style=\"text-align: left;\">\n",
       "                    <strong>Workers:</strong> 4\n",
       "                </td>\n",
       "            </tr>\n",
       "            <tr>\n",
       "                <td style=\"text-align: left;\">\n",
       "                    <strong>Total threads:</strong> 8\n",
       "                </td>\n",
       "                <td style=\"text-align: left;\">\n",
       "                    <strong>Total memory:</strong> 39.70 GiB\n",
       "                </td>\n",
       "            </tr>\n",
       "            \n",
       "            <tr>\n",
       "    <td style=\"text-align: left;\"><strong>Status:</strong> running</td>\n",
       "    <td style=\"text-align: left;\"><strong>Using processes:</strong> True</td>\n",
       "</tr>\n",
       "\n",
       "            \n",
       "        </table>\n",
       "\n",
       "        <details>\n",
       "            <summary style=\"margin-bottom: 20px;\">\n",
       "                <h3 style=\"display: inline;\">Scheduler Info</h3>\n",
       "            </summary>\n",
       "\n",
       "            <div style=\"\">\n",
       "    <div>\n",
       "        <div style=\"width: 24px; height: 24px; background-color: #FFF7E5; border: 3px solid #FF6132; border-radius: 5px; position: absolute;\"> </div>\n",
       "        <div style=\"margin-left: 48px;\">\n",
       "            <h3 style=\"margin-bottom: 0px;\">Scheduler</h3>\n",
       "            <p style=\"color: #9D9D9D; margin-bottom: 0px;\">Scheduler-63d0bb87-9eb9-44cf-8c23-d16e668546eb</p>\n",
       "            <table style=\"width: 100%; text-align: left;\">\n",
       "                <tr>\n",
       "                    <td style=\"text-align: left;\">\n",
       "                        <strong>Comm:</strong> tcp://127.0.0.1:40809\n",
       "                    </td>\n",
       "                    <td style=\"text-align: left;\">\n",
       "                        <strong>Workers:</strong> 4\n",
       "                    </td>\n",
       "                </tr>\n",
       "                <tr>\n",
       "                    <td style=\"text-align: left;\">\n",
       "                        <strong>Dashboard:</strong> <a href=\"http://127.0.0.1:8787/status\" target=\"_blank\">http://127.0.0.1:8787/status</a>\n",
       "                    </td>\n",
       "                    <td style=\"text-align: left;\">\n",
       "                        <strong>Total threads:</strong> 8\n",
       "                    </td>\n",
       "                </tr>\n",
       "                <tr>\n",
       "                    <td style=\"text-align: left;\">\n",
       "                        <strong>Started:</strong> Just now\n",
       "                    </td>\n",
       "                    <td style=\"text-align: left;\">\n",
       "                        <strong>Total memory:</strong> 39.70 GiB\n",
       "                    </td>\n",
       "                </tr>\n",
       "            </table>\n",
       "        </div>\n",
       "    </div>\n",
       "\n",
       "    <details style=\"margin-left: 48px;\">\n",
       "        <summary style=\"margin-bottom: 20px;\">\n",
       "            <h3 style=\"display: inline;\">Workers</h3>\n",
       "        </summary>\n",
       "\n",
       "        \n",
       "        <div style=\"margin-bottom: 20px;\">\n",
       "            <div style=\"width: 24px; height: 24px; background-color: #DBF5FF; border: 3px solid #4CC9FF; border-radius: 5px; position: absolute;\"> </div>\n",
       "            <div style=\"margin-left: 48px;\">\n",
       "            <details>\n",
       "                <summary>\n",
       "                    <h4 style=\"margin-bottom: 0px; display: inline;\">Worker: 0</h4>\n",
       "                </summary>\n",
       "                <table style=\"width: 100%; text-align: left;\">\n",
       "                    <tr>\n",
       "                        <td style=\"text-align: left;\">\n",
       "                            <strong>Comm: </strong> tcp://127.0.0.1:43909\n",
       "                        </td>\n",
       "                        <td style=\"text-align: left;\">\n",
       "                            <strong>Total threads: </strong> 2\n",
       "                        </td>\n",
       "                    </tr>\n",
       "                    <tr>\n",
       "                        <td style=\"text-align: left;\">\n",
       "                            <strong>Dashboard: </strong> <a href=\"http://127.0.0.1:41307/status\" target=\"_blank\">http://127.0.0.1:41307/status</a>\n",
       "                        </td>\n",
       "                        <td style=\"text-align: left;\">\n",
       "                            <strong>Memory: </strong> 9.92 GiB\n",
       "                        </td>\n",
       "                    </tr>\n",
       "                    <tr>\n",
       "                        <td style=\"text-align: left;\">\n",
       "                            <strong>Nanny: </strong> tcp://127.0.0.1:34967\n",
       "                        </td>\n",
       "                        <td style=\"text-align: left;\"></td>\n",
       "                    </tr>\n",
       "                    <tr>\n",
       "                        <td colspan=\"2\" style=\"text-align: left;\">\n",
       "                            <strong>Local directory: </strong> /tmp/dask-scratch-space/worker-lwzxo2ua\n",
       "                        </td>\n",
       "                    </tr>\n",
       "\n",
       "                    \n",
       "\n",
       "                    \n",
       "\n",
       "                </table>\n",
       "            </details>\n",
       "            </div>\n",
       "        </div>\n",
       "        \n",
       "        <div style=\"margin-bottom: 20px;\">\n",
       "            <div style=\"width: 24px; height: 24px; background-color: #DBF5FF; border: 3px solid #4CC9FF; border-radius: 5px; position: absolute;\"> </div>\n",
       "            <div style=\"margin-left: 48px;\">\n",
       "            <details>\n",
       "                <summary>\n",
       "                    <h4 style=\"margin-bottom: 0px; display: inline;\">Worker: 1</h4>\n",
       "                </summary>\n",
       "                <table style=\"width: 100%; text-align: left;\">\n",
       "                    <tr>\n",
       "                        <td style=\"text-align: left;\">\n",
       "                            <strong>Comm: </strong> tcp://127.0.0.1:35055\n",
       "                        </td>\n",
       "                        <td style=\"text-align: left;\">\n",
       "                            <strong>Total threads: </strong> 2\n",
       "                        </td>\n",
       "                    </tr>\n",
       "                    <tr>\n",
       "                        <td style=\"text-align: left;\">\n",
       "                            <strong>Dashboard: </strong> <a href=\"http://127.0.0.1:37501/status\" target=\"_blank\">http://127.0.0.1:37501/status</a>\n",
       "                        </td>\n",
       "                        <td style=\"text-align: left;\">\n",
       "                            <strong>Memory: </strong> 9.92 GiB\n",
       "                        </td>\n",
       "                    </tr>\n",
       "                    <tr>\n",
       "                        <td style=\"text-align: left;\">\n",
       "                            <strong>Nanny: </strong> tcp://127.0.0.1:37095\n",
       "                        </td>\n",
       "                        <td style=\"text-align: left;\"></td>\n",
       "                    </tr>\n",
       "                    <tr>\n",
       "                        <td colspan=\"2\" style=\"text-align: left;\">\n",
       "                            <strong>Local directory: </strong> /tmp/dask-scratch-space/worker-1ho4qg_x\n",
       "                        </td>\n",
       "                    </tr>\n",
       "\n",
       "                    \n",
       "\n",
       "                    \n",
       "\n",
       "                </table>\n",
       "            </details>\n",
       "            </div>\n",
       "        </div>\n",
       "        \n",
       "        <div style=\"margin-bottom: 20px;\">\n",
       "            <div style=\"width: 24px; height: 24px; background-color: #DBF5FF; border: 3px solid #4CC9FF; border-radius: 5px; position: absolute;\"> </div>\n",
       "            <div style=\"margin-left: 48px;\">\n",
       "            <details>\n",
       "                <summary>\n",
       "                    <h4 style=\"margin-bottom: 0px; display: inline;\">Worker: 2</h4>\n",
       "                </summary>\n",
       "                <table style=\"width: 100%; text-align: left;\">\n",
       "                    <tr>\n",
       "                        <td style=\"text-align: left;\">\n",
       "                            <strong>Comm: </strong> tcp://127.0.0.1:33103\n",
       "                        </td>\n",
       "                        <td style=\"text-align: left;\">\n",
       "                            <strong>Total threads: </strong> 2\n",
       "                        </td>\n",
       "                    </tr>\n",
       "                    <tr>\n",
       "                        <td style=\"text-align: left;\">\n",
       "                            <strong>Dashboard: </strong> <a href=\"http://127.0.0.1:41233/status\" target=\"_blank\">http://127.0.0.1:41233/status</a>\n",
       "                        </td>\n",
       "                        <td style=\"text-align: left;\">\n",
       "                            <strong>Memory: </strong> 9.92 GiB\n",
       "                        </td>\n",
       "                    </tr>\n",
       "                    <tr>\n",
       "                        <td style=\"text-align: left;\">\n",
       "                            <strong>Nanny: </strong> tcp://127.0.0.1:43071\n",
       "                        </td>\n",
       "                        <td style=\"text-align: left;\"></td>\n",
       "                    </tr>\n",
       "                    <tr>\n",
       "                        <td colspan=\"2\" style=\"text-align: left;\">\n",
       "                            <strong>Local directory: </strong> /tmp/dask-scratch-space/worker-z4cflf4f\n",
       "                        </td>\n",
       "                    </tr>\n",
       "\n",
       "                    \n",
       "\n",
       "                    \n",
       "\n",
       "                </table>\n",
       "            </details>\n",
       "            </div>\n",
       "        </div>\n",
       "        \n",
       "        <div style=\"margin-bottom: 20px;\">\n",
       "            <div style=\"width: 24px; height: 24px; background-color: #DBF5FF; border: 3px solid #4CC9FF; border-radius: 5px; position: absolute;\"> </div>\n",
       "            <div style=\"margin-left: 48px;\">\n",
       "            <details>\n",
       "                <summary>\n",
       "                    <h4 style=\"margin-bottom: 0px; display: inline;\">Worker: 3</h4>\n",
       "                </summary>\n",
       "                <table style=\"width: 100%; text-align: left;\">\n",
       "                    <tr>\n",
       "                        <td style=\"text-align: left;\">\n",
       "                            <strong>Comm: </strong> tcp://127.0.0.1:39839\n",
       "                        </td>\n",
       "                        <td style=\"text-align: left;\">\n",
       "                            <strong>Total threads: </strong> 2\n",
       "                        </td>\n",
       "                    </tr>\n",
       "                    <tr>\n",
       "                        <td style=\"text-align: left;\">\n",
       "                            <strong>Dashboard: </strong> <a href=\"http://127.0.0.1:34461/status\" target=\"_blank\">http://127.0.0.1:34461/status</a>\n",
       "                        </td>\n",
       "                        <td style=\"text-align: left;\">\n",
       "                            <strong>Memory: </strong> 9.92 GiB\n",
       "                        </td>\n",
       "                    </tr>\n",
       "                    <tr>\n",
       "                        <td style=\"text-align: left;\">\n",
       "                            <strong>Nanny: </strong> tcp://127.0.0.1:36931\n",
       "                        </td>\n",
       "                        <td style=\"text-align: left;\"></td>\n",
       "                    </tr>\n",
       "                    <tr>\n",
       "                        <td colspan=\"2\" style=\"text-align: left;\">\n",
       "                            <strong>Local directory: </strong> /tmp/dask-scratch-space/worker-0smo8yx7\n",
       "                        </td>\n",
       "                    </tr>\n",
       "\n",
       "                    \n",
       "\n",
       "                    \n",
       "\n",
       "                </table>\n",
       "            </details>\n",
       "            </div>\n",
       "        </div>\n",
       "        \n",
       "\n",
       "    </details>\n",
       "</div>\n",
       "\n",
       "        </details>\n",
       "    </div>\n",
       "</div>\n",
       "            </details>\n",
       "        \n",
       "\n",
       "    </div>\n",
       "</div>"
      ],
      "text/plain": [
       "<Client: 'tcp://127.0.0.1:40809' processes=4 threads=8, memory=39.70 GiB>"
      ]
     },
     "execution_count": 27,
     "metadata": {},
     "output_type": "execute_result"
    }
   ],
   "source": [
    "from dask.distributed import Client, LocalCluster\n",
    "\n",
    "# Create a local Dask cluster\n",
    "cluster = LocalCluster(n_workers=4)\n",
    "client = Client(cluster)\n",
    "client\n",
    "# start local workers as threads\n",
    "# client.processes = False"
   ]
  },
  {
   "cell_type": "code",
   "execution_count": 66,
   "id": "8b9890cd-2ff9-4258-bcca-bc892979292c",
   "metadata": {
    "tags": []
   },
   "outputs": [],
   "source": [
    "dwell_df = pd.read_csv(\"three-months.csv\")"
   ]
  },
  {
   "cell_type": "code",
   "execution_count": 67,
   "id": "53bfaf1c-c79f-4dca-a399-be236db6f12d",
   "metadata": {
    "tags": []
   },
   "outputs": [
    {
     "data": {
      "text/plain": [
       "7398999"
      ]
     },
     "execution_count": 67,
     "metadata": {},
     "output_type": "execute_result"
    }
   ],
   "source": [
    "len(dwell_df)"
   ]
  },
  {
   "cell_type": "code",
   "execution_count": 68,
   "id": "4ad0d1ae-22b8-468a-b293-b7c255900e90",
   "metadata": {
    "tags": []
   },
   "outputs": [
    {
     "data": {
      "text/plain": [
       "Unnamed: 0          int64\n",
       "observed_time      object\n",
       "route_id           object\n",
       "trip_direction     object\n",
       "segment             int64\n",
       "segment_dist      float64\n",
       "time_slot           int64\n",
       "dwell_speed       float64\n",
       "dwell_time        float64\n",
       "license_plate      object\n",
       "dtype: object"
      ]
     },
     "execution_count": 68,
     "metadata": {},
     "output_type": "execute_result"
    }
   ],
   "source": [
    "dwell_df.dtypes"
   ]
  },
  {
   "cell_type": "code",
   "execution_count": 69,
   "id": "1caca551-d2e9-4b45-9270-87f73d61e60f",
   "metadata": {
    "tags": []
   },
   "outputs": [],
   "source": [
    "dwell_df = dwell_df[dwell_df['dwell_time'] <= max_time_eta]"
   ]
  },
  {
   "cell_type": "code",
   "execution_count": 70,
   "id": "9831a1fb-8dc1-4889-8233-4e80cc310e85",
   "metadata": {
    "tags": []
   },
   "outputs": [
    {
     "data": {
      "text/plain": [
       "3736365"
      ]
     },
     "execution_count": 70,
     "metadata": {},
     "output_type": "execute_result"
    }
   ],
   "source": [
    "len(dwell_df)"
   ]
  },
  {
   "cell_type": "code",
   "execution_count": 71,
   "id": "8f94af11-f2a5-4d6e-8fdf-093b113870f7",
   "metadata": {
    "tags": []
   },
   "outputs": [],
   "source": [
    "segments = [segid for segid in new_segment_dict.keys()]\n",
    "time_slots = [time_slot for time_slot in range(8, 20)]"
   ]
  },
  {
   "cell_type": "code",
   "execution_count": 72,
   "id": "fb8d9bc4-5d93-452f-bac2-cc290e9092fb",
   "metadata": {
    "tags": []
   },
   "outputs": [],
   "source": [
    "# Rraks\n",
    "def new_avg_dwelltime_calc(dwell_df):\n",
    "    grouped_dwell_df = dwell_df.groupby([\"segment\",\"time_slot\"])[\"dwell_time\"].mean()\n",
    "    #print(grouped_dwell_df.head())\n",
    "    #print(\"---------------------------\")\n",
    "    tdf = grouped_dwell_df.reset_index()\n",
    "    #print(tdf)\n",
    "    #print(\"---------------------------\")\n",
    "    all_combinations = pd.DataFrame(list(product(segments, time_slots)), columns=['segment', 'time_slot'])\n",
    "    #print(all_combinations)\n",
    "    #print(\"---------------------------\")\n",
    "    avg_dwelltime_df = pd.merge(all_combinations, tdf, on=[\"segment\", \"time_slot\"], how=\"left\")\n",
    "    #print(avg_dwelltime_df)\n",
    "    #print(\"---------------------------\")\n",
    "    avg_dwelltime_df = avg_dwelltime_df.rename(columns={\"dwell_time\": \"avg_dwell_time\"})\n",
    "    \n",
    "    return avg_dwelltime_df"
   ]
  },
  {
   "cell_type": "code",
   "execution_count": 73,
   "id": "d0bc2aff-a13c-4440-84bc-2eebd4abeb3a",
   "metadata": {
    "tags": []
   },
   "outputs": [],
   "source": [
    "avg_dwelltime_df = new_avg_dwelltime_calc(dwell_df)"
   ]
  },
  {
   "cell_type": "code",
   "execution_count": 74,
   "id": "1d632bed-2668-4e41-8300-3f5f1071ce0e",
   "metadata": {
    "tags": []
   },
   "outputs": [
    {
     "data": {
      "text/plain": [
       "True"
      ]
     },
     "execution_count": 74,
     "metadata": {},
     "output_type": "execute_result"
    }
   ],
   "source": [
    "len(segments) * len(time_slots) == len(avg_dwelltime_df)"
   ]
  },
  {
   "cell_type": "code",
   "execution_count": 75,
   "id": "3a3dbb38-a4fb-486e-bbf8-61cd8b103c61",
   "metadata": {
    "tags": []
   },
   "outputs": [
    {
     "data": {
      "text/plain": [
       "pandas.core.frame.DataFrame"
      ]
     },
     "execution_count": 75,
     "metadata": {},
     "output_type": "execute_result"
    }
   ],
   "source": [
    "type(avg_dwelltime_df)"
   ]
  },
  {
   "cell_type": "code",
   "execution_count": 76,
   "id": "e35f72e7-e78f-4e01-87a8-9f4c443de75f",
   "metadata": {
    "tags": []
   },
   "outputs": [
    {
     "data": {
      "text/plain": [
       "63324"
      ]
     },
     "execution_count": 76,
     "metadata": {},
     "output_type": "execute_result"
    }
   ],
   "source": [
    "len(avg_dwelltime_df)"
   ]
  },
  {
   "cell_type": "code",
   "execution_count": 77,
   "id": "5fcb0b3a-e72b-418b-a839-0053c37a028c",
   "metadata": {
    "tags": []
   },
   "outputs": [
    {
     "data": {
      "text/plain": [
       "0.2510580506600973"
      ]
     },
     "execution_count": 77,
     "metadata": {},
     "output_type": "execute_result"
    }
   ],
   "source": [
    "avg_dwelltime_df.isna().sum()[\"avg_dwell_time\"] / len(avg_dwelltime_df)"
   ]
  },
  {
   "cell_type": "code",
   "execution_count": 78,
   "id": "4941a9ec-07ee-4fa7-a15d-97599f917d4a",
   "metadata": {
    "tags": []
   },
   "outputs": [],
   "source": [
    "def create_neighbours():\n",
    "    neighbours = {}\n",
    "    for segid in new_segment_dict_full:\n",
    "        parent_routes = new_segment_dict_full[segid][\"parent_routes\"]\n",
    "\n",
    "        neighbours[segid] = []\n",
    "        for route_id in parent_routes:\n",
    "            position = route_to_segments[route_id].index(segid)\n",
    "            if position - 1 >= 0:\n",
    "                neighbours[segid].append((route_to_segments[route_id][position - 1], route_id))\n",
    "            if position + 1 < len(route_to_segments[route_id]):\n",
    "                neighbours[segid].append((route_to_segments[route_id][position + 1], route_id))\n",
    "    \n",
    "    return neighbours"
   ]
  },
  {
   "cell_type": "code",
   "execution_count": 79,
   "id": "d4bc9aa1-5e1b-4c80-84d9-04c1d195b144",
   "metadata": {
    "tags": []
   },
   "outputs": [],
   "source": [
    "neighbours = create_neighbours()"
   ]
  },
  {
   "cell_type": "code",
   "execution_count": 80,
   "id": "fcc9367d-70ab-48ad-a02d-1665486cd62b",
   "metadata": {
    "tags": []
   },
   "outputs": [],
   "source": [
    "def get_reasonable_val(avg_dwelltime_df, value, segid, time_slot):\n",
    "    if not math.isnan(value):\n",
    "        return value\n",
    "\n",
    "    vals = []\n",
    "\n",
    "    for nbr, _ in neighbours[segid]:\n",
    "        val = avg_dwelltime_df[((avg_dwelltime_df[\"segment\"] == nbr) & (avg_dwelltime_df[\"time_slot\"] == time_slot))][\"avg_dwell_time\"]\n",
    "        #print(nbr, time_slot)\n",
    "        #print(val)\n",
    "        if not val.isna().bool():\n",
    "            vals.append(float(val))\n",
    "\n",
    "    if vals == []:\n",
    "        if time_slot - 1 >= time_slots[0]:\n",
    "            val = avg_dwelltime_df[((avg_dwelltime_df[\"segment\"] == segid) & (avg_dwelltime_df[\"time_slot\"] == time_slot - 1))][\"avg_dwell_time\"]\n",
    "            #print(val)\n",
    "            if not val.isna().bool():\n",
    "                vals.append(float(val))\n",
    "            for nbr, _ in neighbours[segid]:\n",
    "                val = avg_dwelltime_df[((avg_dwelltime_df[\"segment\"] == nbr) & (avg_dwelltime_df[\"time_slot\"] == time_slot - 1))][\"avg_dwell_time\"]\n",
    "                if not val.isna().bool():\n",
    "                    vals.append(float(val))\n",
    "\n",
    "        if time_slot + 1 <= time_slots[-1]:\n",
    "            val = avg_dwelltime_df[((avg_dwelltime_df[\"segment\"] == segid) & (avg_dwelltime_df[\"time_slot\"] == time_slot + 1))][\"avg_dwell_time\"]\n",
    "            if not val.isna().bool():\n",
    "                vals.append(float(val))\n",
    "            for nbr, _ in neighbours[segid]:\n",
    "                val = avg_dwelltime_df[((avg_dwelltime_df[\"segment\"] == nbr) & (avg_dwelltime_df[\"time_slot\"] == time_slot + 1))][\"avg_dwell_time\"]\n",
    "                if not val.isna().bool():\n",
    "                    vals.append(float(val))\n",
    "\n",
    "    if vals:\n",
    "        return sum(vals) / len(vals)\n",
    "  \n",
    "    return np.nan"
   ]
  },
  {
   "cell_type": "code",
   "execution_count": 81,
   "id": "cd69c52a-daac-462e-8d37-3e318beb0615",
   "metadata": {
    "tags": []
   },
   "outputs": [],
   "source": [
    "global_avg_speed = np.median(dwell_df['dwell_speed']) * 3600 # km/hr"
   ]
  },
  {
   "cell_type": "code",
   "execution_count": 82,
   "id": "7af2f7fa-a630-4972-ac8d-b5569743e9a5",
   "metadata": {
    "tags": []
   },
   "outputs": [
    {
     "data": {
      "text/plain": [
       "17.1662402346894"
      ]
     },
     "execution_count": 82,
     "metadata": {},
     "output_type": "execute_result"
    }
   ],
   "source": [
    "global_avg_speed"
   ]
  },
  {
   "cell_type": "code",
   "execution_count": 83,
   "id": "bcac4f8f-e6c6-41dd-b00c-254f2b016b4d",
   "metadata": {
    "tags": []
   },
   "outputs": [],
   "source": [
    "tqdm.pandas()"
   ]
  },
  {
   "cell_type": "code",
   "execution_count": 84,
   "id": "50e75217-8b7e-48ba-bd96-2f09d4d8dc49",
   "metadata": {
    "tags": []
   },
   "outputs": [],
   "source": [
    "def interpolate_df(avg_dwelltime_df):\n",
    "    # Running this twice to avoid NaNs as much as possible.\n",
    "    avg_dwelltime_df_copy = avg_dwelltime_df.copy()\n",
    "    avg_dwelltime_df[\"avg_dwell_time\"] = avg_dwelltime_df.progress_apply(lambda row: get_reasonable_val(avg_dwelltime_df_copy, row[\"avg_dwell_time\"], row[\"segment\"], row[\"time_slot\"]), axis=1)\n",
    "    avg_dwelltime_df_copy = avg_dwelltime_df.copy()\n",
    "    avg_dwelltime_df[\"avg_dwell_time\"] = avg_dwelltime_df.progress_apply(lambda row: get_reasonable_val(avg_dwelltime_df_copy, row[\"avg_dwell_time\"], row[\"segment\"], row[\"time_slot\"]), axis=1)\n",
    "    \n",
    "    num_zeros_added = avg_dwelltime_df.isna().sum()[\"avg_dwell_time\"]\n",
    "    global_mean_val = avg_dwelltime_df[\"avg_dwell_time\"].mean()\n",
    "    mean_added_segs = avg_dwelltime_df[avg_dwelltime_df[\"avg_dwell_time\"].isna()][\"segment\"].to_list()\n",
    "    avg_dwelltime_df[\"avg_dwell_time\"] = avg_dwelltime_df[\"avg_dwell_time\"].progress_apply(lambda val: global_mean_val if math.isnan(val) else val)\n",
    "    \n",
    "    return avg_dwelltime_df, num_zeros_added, mean_added_segs"
   ]
  },
  {
   "cell_type": "code",
   "execution_count": 47,
   "id": "2eae27b3-587a-438b-b8e6-0313e7dd97a4",
   "metadata": {
    "tags": []
   },
   "outputs": [
    {
     "name": "stderr",
     "output_type": "stream",
     "text": [
      "100%|██████████| 63324/63324 [00:51<00:00, 1234.44it/s]\n",
      "100%|██████████| 63324/63324 [00:23<00:00, 2695.80it/s] \n",
      "100%|██████████| 63324/63324 [00:00<00:00, 2199459.30it/s]\n"
     ]
    }
   ],
   "source": [
    "avg_dwelltime_df, num_zeros_added_train, mean_added_segs = interpolate_df(avg_dwelltime_df)"
   ]
  },
  {
   "cell_type": "code",
   "execution_count": 48,
   "id": "e57e5a36-74bd-4ca2-a6f7-49aa14e229c1",
   "metadata": {
    "tags": []
   },
   "outputs": [],
   "source": [
    "avg_dwelltime_df.to_pickle(\"interpolated_avg_dwell_time_df_1_hr_slot.pkl\")"
   ]
  },
  {
   "cell_type": "code",
   "execution_count": 49,
   "id": "f5ed3300-5103-48c7-b34e-4934e83ad41a",
   "metadata": {
    "tags": []
   },
   "outputs": [
    {
     "data": {
      "text/plain": [
       "segment           0\n",
       "time_slot         0\n",
       "avg_dwell_time    0\n",
       "dtype: int64"
      ]
     },
     "execution_count": 49,
     "metadata": {},
     "output_type": "execute_result"
    }
   ],
   "source": [
    "avg_dwelltime_df.isna().sum()"
   ]
  },
  {
   "cell_type": "code",
   "execution_count": 50,
   "id": "1907df41-78bc-4fb4-bf8d-bbe0b41375d2",
   "metadata": {
    "tags": []
   },
   "outputs": [
    {
     "name": "stdout",
     "output_type": "stream",
     "text": [
      "3.82% mean value added to training data\n"
     ]
    }
   ],
   "source": [
    "print(f'{num_zeros_added_train*100/len(avg_dwelltime_df):.2f}% mean value added to training data')"
   ]
  },
  {
   "cell_type": "code",
   "execution_count": 51,
   "id": "82850040-b3e7-4b5b-949f-9d6a61d4fe1d",
   "metadata": {
    "tags": []
   },
   "outputs": [],
   "source": [
    "avg_dwelltime_df = pd.read_pickle(\"interpolated_avg_dwell_time_df_1_hr_slot.pkl\")"
   ]
  },
  {
   "cell_type": "code",
   "execution_count": 52,
   "id": "8634070c-2a19-44b3-b84e-ed5f46f79391",
   "metadata": {
    "tags": []
   },
   "outputs": [
    {
     "data": {
      "text/html": [
       "<div>\n",
       "<style scoped>\n",
       "    .dataframe tbody tr th:only-of-type {\n",
       "        vertical-align: middle;\n",
       "    }\n",
       "\n",
       "    .dataframe tbody tr th {\n",
       "        vertical-align: top;\n",
       "    }\n",
       "\n",
       "    .dataframe thead th {\n",
       "        text-align: right;\n",
       "    }\n",
       "</style>\n",
       "<table border=\"1\" class=\"dataframe\">\n",
       "  <thead>\n",
       "    <tr style=\"text-align: right;\">\n",
       "      <th></th>\n",
       "      <th>segment</th>\n",
       "      <th>time_slot</th>\n",
       "      <th>avg_dwell_time</th>\n",
       "    </tr>\n",
       "  </thead>\n",
       "  <tbody>\n",
       "    <tr>\n",
       "      <th>0</th>\n",
       "      <td>0</td>\n",
       "      <td>8</td>\n",
       "      <td>337.193222</td>\n",
       "    </tr>\n",
       "    <tr>\n",
       "      <th>1</th>\n",
       "      <td>0</td>\n",
       "      <td>9</td>\n",
       "      <td>333.144456</td>\n",
       "    </tr>\n",
       "    <tr>\n",
       "      <th>2</th>\n",
       "      <td>0</td>\n",
       "      <td>10</td>\n",
       "      <td>351.625020</td>\n",
       "    </tr>\n",
       "    <tr>\n",
       "      <th>3</th>\n",
       "      <td>0</td>\n",
       "      <td>11</td>\n",
       "      <td>356.954927</td>\n",
       "    </tr>\n",
       "    <tr>\n",
       "      <th>4</th>\n",
       "      <td>0</td>\n",
       "      <td>12</td>\n",
       "      <td>421.672686</td>\n",
       "    </tr>\n",
       "    <tr>\n",
       "      <th>...</th>\n",
       "      <td>...</td>\n",
       "      <td>...</td>\n",
       "      <td>...</td>\n",
       "    </tr>\n",
       "    <tr>\n",
       "      <th>63319</th>\n",
       "      <td>5276</td>\n",
       "      <td>15</td>\n",
       "      <td>4.966140</td>\n",
       "    </tr>\n",
       "    <tr>\n",
       "      <th>63320</th>\n",
       "      <td>5276</td>\n",
       "      <td>16</td>\n",
       "      <td>7.616564</td>\n",
       "    </tr>\n",
       "    <tr>\n",
       "      <th>63321</th>\n",
       "      <td>5276</td>\n",
       "      <td>17</td>\n",
       "      <td>10.913683</td>\n",
       "    </tr>\n",
       "    <tr>\n",
       "      <th>63322</th>\n",
       "      <td>5276</td>\n",
       "      <td>18</td>\n",
       "      <td>11.797847</td>\n",
       "    </tr>\n",
       "    <tr>\n",
       "      <th>63323</th>\n",
       "      <td>5276</td>\n",
       "      <td>19</td>\n",
       "      <td>31.820675</td>\n",
       "    </tr>\n",
       "  </tbody>\n",
       "</table>\n",
       "<p>63324 rows × 3 columns</p>\n",
       "</div>"
      ],
      "text/plain": [
       "       segment  time_slot  avg_dwell_time\n",
       "0            0          8      337.193222\n",
       "1            0          9      333.144456\n",
       "2            0         10      351.625020\n",
       "3            0         11      356.954927\n",
       "4            0         12      421.672686\n",
       "...        ...        ...             ...\n",
       "63319     5276         15        4.966140\n",
       "63320     5276         16        7.616564\n",
       "63321     5276         17       10.913683\n",
       "63322     5276         18       11.797847\n",
       "63323     5276         19       31.820675\n",
       "\n",
       "[63324 rows x 3 columns]"
      ]
     },
     "execution_count": 52,
     "metadata": {},
     "output_type": "execute_result"
    }
   ],
   "source": [
    "avg_dwelltime_df"
   ]
  },
  {
   "cell_type": "code",
   "execution_count": 53,
   "id": "976c6ab1-4dcd-4e91-98af-a0d0d3dbaf24",
   "metadata": {
    "tags": []
   },
   "outputs": [
    {
     "data": {
      "text/plain": [
       "[<matplotlib.lines.Line2D at 0x7fc62309bc90>]"
      ]
     },
     "execution_count": 53,
     "metadata": {},
     "output_type": "execute_result"
    },
    {
     "data": {
      "image/png": "[encoded data removed]",
      "text/plain": [
       "<Figure size 640x480 with 1 Axes>"
      ]
     },
     "metadata": {},
     "output_type": "display_data"
    }
   ],
   "source": [
    "plt.plot(avg_dwelltime_df[avg_dwelltime_df['segment']==0].copy()['avg_dwell_time'].tolist())"
   ]
  },
  {
   "cell_type": "markdown",
   "id": "4a949f48-f6e5-4cbc-8050-0f48f37dee52",
   "metadata": {
    "tags": []
   },
   "source": [
    "# Preprocessing Data"
   ]
  },
  {
   "cell_type": "code",
   "execution_count": 85,
   "id": "6890e5bd-bb2e-4ddf-bdd0-e69266af1529",
   "metadata": {
    "tags": []
   },
   "outputs": [],
   "source": [
    "def get_adjacency_matrix(segment_details_dict):\n",
    "    N = len(segment_details_dict)\n",
    "    adj_matrix = np.zeros((N, N))\n",
    "\n",
    "    for segid in tqdm(segment_details_dict.keys()):\n",
    "      adj_matrix[segid, segid] = 1\n",
    "      for nbr, _ in neighbours[segid]:\n",
    "        adj_matrix[segid, nbr] = 1\n",
    "        adj_matrix[nbr, segid] = 1\n",
    "    return adj_matrix"
   ]
  },
  {
   "cell_type": "code",
   "execution_count": 86,
   "id": "1a8483b4-e778-4373-bd91-1994cc632a89",
   "metadata": {
    "tags": []
   },
   "outputs": [],
   "source": [
    "def get_group_values(group):\n",
    "    return group['avg_dwell_time'].tolist() "
   ]
  },
  {
   "cell_type": "code",
   "execution_count": 87,
   "id": "bbd8860a-ca01-4c49-a559-935336e7b7e2",
   "metadata": {
    "tags": []
   },
   "outputs": [],
   "source": [
    "def dwell_time_prep(all_surat_segments: List, dwelltime_df: dd.DataFrame, delete_idx: List, num_hours) -> Tuple:\n",
    "    segments = []\n",
    "    # Conditional statement to check whether there are any segment IDs to be deleted\n",
    "    if delete_idx:\n",
    "        dwelltime_df = dwelltime_df[~dwelltime_df['segment'].isin(delete_idx)]\n",
    "    dwelltime_df = dwelltime_df[dwelltime_df['segment'].isin(all_surat_segments)]\n",
    "    data = dwelltime_df.groupby('segment').apply(get_group_values)\n",
    "    data = data.tolist()\n",
    "    \n",
    "    unique_segment_ids = dwelltime_df['segment'].unique()\n",
    "    segment_ids = unique_segment_ids.tolist()\n",
    "    for segment in segment_ids:\n",
    "        if segment in delete_idx:\n",
    "            continue\n",
    "        segments.append(segment)\n",
    "        \n",
    "    for segment in all_surat_segments:\n",
    "        if segment not in segments and segment not in delete_idx:\n",
    "            segments.append(segment)\n",
    "            data.append([-1 for i in range(32, 96)])\n",
    "    data = da.from_array(data, chunks=5)\n",
    "    return data, segments"
   ]
  },
  {
   "cell_type": "code",
   "execution_count": 88,
   "id": "c14fb30f-6855-4f68-90fb-1e74e5efdc36",
   "metadata": {
    "tags": []
   },
   "outputs": [],
   "source": [
    "def preprocess_data(segment_dict: dict, dwelltime_df: dd.DataFrame) -> Tuple:\n",
    "    \"\"\"Preprocesses the raw data for ITMS.\n",
    "\n",
    "    Args:\n",
    "        segment_dict: Raw data\n",
    "        dwelltime_df: Raw Data\n",
    "    Returns: Multiple variables within a Tuple\n",
    "        dwell_time_data: Dataframe which consists of the preprocessed data\n",
    "        adj_mat: Square matrix which contains the Adjacency matrix\n",
    "        segments: List of segments to consider for training the model\n",
    "        segments_visualize: segments meta-data for dwell time inference plots\n",
    "    \"\"\"\n",
    "    _ = []\n",
    "    num_hours = 24 * 7\n",
    "\n",
    "    dwelltime_df['avg_dwell_time'] = dwelltime_df['avg_dwell_time'].astype(float)\n",
    "    print(dwelltime_df.dtypes)\n",
    "    print(\"Dwell time Dataframe preprocessed successfully\")\n",
    "    all_surat_segments = list(segment_dict.keys())\n",
    "    print(\"Segments data preprocessed successfully\")\n",
    "    print(f'No. of segments: {len(all_surat_segments)}')\n",
    "    print(dwelltime_df.head())\n",
    "\n",
    "    data, segments = dwell_time_prep(all_surat_segments, dwelltime_df, _, num_hours)\n",
    "    \n",
    "    adj_mat = get_adjacency_matrix(segment_dict)\n",
    "    print(f\"Shape of data initially : {str(data.shape)}\")\n",
    "    print(f\"Shape of Adjacency matrix : {str(adj_mat.shape)}\")\n",
    "    del_idx = []\n",
    "\n",
    "    data, segments = dwell_time_prep(all_surat_segments, dwelltime_df, del_idx, num_hours)\n",
    "    print(f\"Shape of data after preprocessing : {str(data.shape)}\")\n",
    "\n",
    "    dwell_time_data = dd.from_dask_array(data)\n",
    "\n",
    "    #dwell_time_data.columns = dwell_time_data.columns.astype(str)\n",
    "\n",
    "    dwelltime_df = dwelltime_df[~dwelltime_df['segment'].isin(del_idx)]\n",
    "\n",
    "    segment_count = dwelltime_df[dwelltime_df['avg_dwell_time'] > 0]['segment'].value_counts()\n",
    "    segment_count = segment_count.to_dict()\n",
    "    segments_visualize = []\n",
    "    max_count = max(segment_count.values())\n",
    "    \n",
    "    print(dwell_time_data.head())\n",
    "\n",
    "    return dwell_time_data, adj_mat, segments, segments_visualize\n"
   ]
  },
  {
   "cell_type": "code",
   "execution_count": 58,
   "id": "5d32bcf1-79d1-4d1c-b2b9-b5c9150e1eaf",
   "metadata": {
    "tags": []
   },
   "outputs": [
    {
     "name": "stdout",
     "output_type": "stream",
     "text": [
      "segment             int64\n",
      "time_slot           int64\n",
      "avg_dwell_time    float64\n",
      "dtype: object\n",
      "Dwell time Dataframe preprocessed successfully\n",
      "Segments data preprocessed successfully\n",
      "No. of segments: 5277\n",
      "   segment  time_slot  avg_dwell_time\n",
      "0        0          8      337.193222\n",
      "1        0          9      333.144456\n",
      "2        0         10      351.625020\n",
      "3        0         11      356.954927\n",
      "4        0         12      421.672686\n"
     ]
    },
    {
     "name": "stderr",
     "output_type": "stream",
     "text": [
      "100%|██████████| 5277/5277 [00:00<00:00, 253230.31it/s]\n"
     ]
    },
    {
     "name": "stdout",
     "output_type": "stream",
     "text": [
      "Shape of data initially : (5277, 12)\n",
      "Shape of Adjacency matrix : (5277, 5277)\n",
      "Shape of data after preprocessing : (5277, 12)\n",
      "           0           1           2           3           4           5   \\\n",
      "0  337.193222  333.144456  351.625020  356.954927  421.672686  387.343480   \n",
      "1  310.729539  284.091649  301.237047  327.563457  375.505237  315.313454   \n",
      "2   83.544064   83.544064   83.544064   83.544064  134.483667  152.054116   \n",
      "3  226.495513  238.188450  233.469572  217.081050  219.783305  225.876546   \n",
      "4  203.303131  194.315396  185.263757  188.323455  191.197583  213.936907   \n",
      "\n",
      "           6           7           8           9           10          11  \n",
      "0  384.347226  498.958901  420.180792  394.899070  350.369595  382.250918  \n",
      "1  333.180189  437.528937  376.698030  324.925273  306.403654  325.917838  \n",
      "2  152.054116  152.054116  134.483667   83.544064   83.544064   83.544064  \n",
      "3  226.874595  231.703200  254.231030  278.718477  311.872277  280.863728  \n",
      "4  215.940989  199.312895  195.504648  206.610567  200.528204  228.694525  \n"
     ]
    },
    {
     "name": "stderr",
     "output_type": "stream",
     "text": [
      "/opt/conda/lib/python3.11/site-packages/dask/dataframe/_pyarrow_compat.py:23: UserWarning: You are using pyarrow version 13.0.0 which is known to be insecure. See https://www.cve.org/CVERecord?id=CVE-2023-47248 for further details. Please upgrade to pyarrow>=14.0.1 or install pyarrow-hotfix to patch your current version.\n",
      "  warnings.warn(\n"
     ]
    }
   ],
   "source": [
    "dwell_time_preprocessed_data,adjacency_matrix,preprocessed_segments,segments_visualize = preprocess_data(new_segment_dict, avg_dwelltime_df)"
   ]
  },
  {
   "cell_type": "code",
   "execution_count": 59,
   "id": "624753f9-be64-431b-add7-c18835dca700",
   "metadata": {
    "tags": []
   },
   "outputs": [],
   "source": [
    "np.save(open(\"preprocessed_segments_1_hr_slot.npy\", \"wb\"), np.array(preprocessed_segments))"
   ]
  },
  {
   "cell_type": "code",
   "execution_count": 60,
   "id": "6d95bdeb-7694-4363-a895-dc8c644b7eae",
   "metadata": {
    "tags": []
   },
   "outputs": [
    {
     "name": "stderr",
     "output_type": "stream",
     "text": [
      "/opt/conda/lib/python3.11/site-packages/dask/dataframe/_pyarrow_compat.py:23: UserWarning: You are using pyarrow version 13.0.0 which is known to be insecure. See https://www.cve.org/CVERecord?id=CVE-2023-47248 for further details. Please upgrade to pyarrow>=14.0.1 or install pyarrow-hotfix to patch your current version.\n",
      "  warnings.warn(\n",
      "/opt/conda/lib/python3.11/site-packages/dask/dataframe/_pyarrow_compat.py:23: UserWarning: You are using pyarrow version 13.0.0 which is known to be insecure. See https://www.cve.org/CVERecord?id=CVE-2023-47248 for further details. Please upgrade to pyarrow>=14.0.1 or install pyarrow-hotfix to patch your current version.\n",
      "  warnings.warn(\n",
      "/opt/conda/lib/python3.11/site-packages/dask/dataframe/_pyarrow_compat.py:23: UserWarning: You are using pyarrow version 13.0.0 which is known to be insecure. See https://www.cve.org/CVERecord?id=CVE-2023-47248 for further details. Please upgrade to pyarrow>=14.0.1 or install pyarrow-hotfix to patch your current version.\n",
      "  warnings.warn(\n"
     ]
    },
    {
     "data": {
      "text/html": [
       "<div>\n",
       "<style scoped>\n",
       "    .dataframe tbody tr th:only-of-type {\n",
       "        vertical-align: middle;\n",
       "    }\n",
       "\n",
       "    .dataframe tbody tr th {\n",
       "        vertical-align: top;\n",
       "    }\n",
       "\n",
       "    .dataframe thead th {\n",
       "        text-align: right;\n",
       "    }\n",
       "</style>\n",
       "<table border=\"1\" class=\"dataframe\">\n",
       "  <thead>\n",
       "    <tr style=\"text-align: right;\">\n",
       "      <th></th>\n",
       "      <th>0</th>\n",
       "      <th>1</th>\n",
       "      <th>2</th>\n",
       "      <th>3</th>\n",
       "      <th>4</th>\n",
       "      <th>5</th>\n",
       "      <th>6</th>\n",
       "      <th>7</th>\n",
       "      <th>8</th>\n",
       "      <th>9</th>\n",
       "      <th>10</th>\n",
       "      <th>11</th>\n",
       "    </tr>\n",
       "  </thead>\n",
       "  <tbody>\n",
       "    <tr>\n",
       "      <th>0</th>\n",
       "      <td>337.193222</td>\n",
       "      <td>333.144456</td>\n",
       "      <td>351.625020</td>\n",
       "      <td>356.954927</td>\n",
       "      <td>421.672686</td>\n",
       "      <td>387.343480</td>\n",
       "      <td>384.347226</td>\n",
       "      <td>498.958901</td>\n",
       "      <td>420.180792</td>\n",
       "      <td>394.899070</td>\n",
       "      <td>350.369595</td>\n",
       "      <td>382.250918</td>\n",
       "    </tr>\n",
       "    <tr>\n",
       "      <th>1</th>\n",
       "      <td>310.729539</td>\n",
       "      <td>284.091649</td>\n",
       "      <td>301.237047</td>\n",
       "      <td>327.563457</td>\n",
       "      <td>375.505237</td>\n",
       "      <td>315.313454</td>\n",
       "      <td>333.180189</td>\n",
       "      <td>437.528937</td>\n",
       "      <td>376.698030</td>\n",
       "      <td>324.925273</td>\n",
       "      <td>306.403654</td>\n",
       "      <td>325.917838</td>\n",
       "    </tr>\n",
       "    <tr>\n",
       "      <th>2</th>\n",
       "      <td>83.544064</td>\n",
       "      <td>83.544064</td>\n",
       "      <td>83.544064</td>\n",
       "      <td>83.544064</td>\n",
       "      <td>134.483667</td>\n",
       "      <td>152.054116</td>\n",
       "      <td>152.054116</td>\n",
       "      <td>152.054116</td>\n",
       "      <td>134.483667</td>\n",
       "      <td>83.544064</td>\n",
       "      <td>83.544064</td>\n",
       "      <td>83.544064</td>\n",
       "    </tr>\n",
       "    <tr>\n",
       "      <th>3</th>\n",
       "      <td>226.495513</td>\n",
       "      <td>238.188450</td>\n",
       "      <td>233.469572</td>\n",
       "      <td>217.081050</td>\n",
       "      <td>219.783305</td>\n",
       "      <td>225.876546</td>\n",
       "      <td>226.874595</td>\n",
       "      <td>231.703200</td>\n",
       "      <td>254.231030</td>\n",
       "      <td>278.718477</td>\n",
       "      <td>311.872277</td>\n",
       "      <td>280.863728</td>\n",
       "    </tr>\n",
       "    <tr>\n",
       "      <th>4</th>\n",
       "      <td>203.303131</td>\n",
       "      <td>194.315396</td>\n",
       "      <td>185.263757</td>\n",
       "      <td>188.323455</td>\n",
       "      <td>191.197583</td>\n",
       "      <td>213.936907</td>\n",
       "      <td>215.940989</td>\n",
       "      <td>199.312895</td>\n",
       "      <td>195.504648</td>\n",
       "      <td>206.610567</td>\n",
       "      <td>200.528204</td>\n",
       "      <td>228.694525</td>\n",
       "    </tr>\n",
       "    <tr>\n",
       "      <th>...</th>\n",
       "      <td>...</td>\n",
       "      <td>...</td>\n",
       "      <td>...</td>\n",
       "      <td>...</td>\n",
       "      <td>...</td>\n",
       "      <td>...</td>\n",
       "      <td>...</td>\n",
       "      <td>...</td>\n",
       "      <td>...</td>\n",
       "      <td>...</td>\n",
       "      <td>...</td>\n",
       "      <td>...</td>\n",
       "    </tr>\n",
       "    <tr>\n",
       "      <th>5272</th>\n",
       "      <td>120.973373</td>\n",
       "      <td>216.452694</td>\n",
       "      <td>162.433845</td>\n",
       "      <td>164.266548</td>\n",
       "      <td>151.956611</td>\n",
       "      <td>201.429190</td>\n",
       "      <td>162.972141</td>\n",
       "      <td>161.452670</td>\n",
       "      <td>209.093292</td>\n",
       "      <td>191.344839</td>\n",
       "      <td>95.214081</td>\n",
       "      <td>80.701219</td>\n",
       "    </tr>\n",
       "    <tr>\n",
       "      <th>5273</th>\n",
       "      <td>29.222932</td>\n",
       "      <td>80.453657</td>\n",
       "      <td>71.369705</td>\n",
       "      <td>104.692524</td>\n",
       "      <td>198.056704</td>\n",
       "      <td>86.399479</td>\n",
       "      <td>53.234622</td>\n",
       "      <td>200.859031</td>\n",
       "      <td>106.649260</td>\n",
       "      <td>104.863279</td>\n",
       "      <td>131.231565</td>\n",
       "      <td>104.977965</td>\n",
       "    </tr>\n",
       "    <tr>\n",
       "      <th>5274</th>\n",
       "      <td>17.629307</td>\n",
       "      <td>96.572357</td>\n",
       "      <td>16.560912</td>\n",
       "      <td>12.348351</td>\n",
       "      <td>45.685536</td>\n",
       "      <td>61.273696</td>\n",
       "      <td>34.636380</td>\n",
       "      <td>15.644490</td>\n",
       "      <td>21.753556</td>\n",
       "      <td>50.656076</td>\n",
       "      <td>41.840388</td>\n",
       "      <td>101.444551</td>\n",
       "    </tr>\n",
       "    <tr>\n",
       "      <th>5275</th>\n",
       "      <td>85.473783</td>\n",
       "      <td>896.563392</td>\n",
       "      <td>42.914293</td>\n",
       "      <td>126.627486</td>\n",
       "      <td>56.035202</td>\n",
       "      <td>143.252519</td>\n",
       "      <td>131.378197</td>\n",
       "      <td>25.838364</td>\n",
       "      <td>16.940834</td>\n",
       "      <td>201.285761</td>\n",
       "      <td>603.683610</td>\n",
       "      <td>147.253556</td>\n",
       "    </tr>\n",
       "    <tr>\n",
       "      <th>5276</th>\n",
       "      <td>9.510397</td>\n",
       "      <td>7.791302</td>\n",
       "      <td>14.027582</td>\n",
       "      <td>5.866641</td>\n",
       "      <td>5.667235</td>\n",
       "      <td>9.845927</td>\n",
       "      <td>7.406033</td>\n",
       "      <td>4.966140</td>\n",
       "      <td>7.616564</td>\n",
       "      <td>10.913683</td>\n",
       "      <td>11.797847</td>\n",
       "      <td>31.820675</td>\n",
       "    </tr>\n",
       "  </tbody>\n",
       "</table>\n",
       "<p>5277 rows × 12 columns</p>\n",
       "</div>"
      ],
      "text/plain": [
       "              0           1           2           3           4           5   \\\n",
       "0     337.193222  333.144456  351.625020  356.954927  421.672686  387.343480   \n",
       "1     310.729539  284.091649  301.237047  327.563457  375.505237  315.313454   \n",
       "2      83.544064   83.544064   83.544064   83.544064  134.483667  152.054116   \n",
       "3     226.495513  238.188450  233.469572  217.081050  219.783305  225.876546   \n",
       "4     203.303131  194.315396  185.263757  188.323455  191.197583  213.936907   \n",
       "...          ...         ...         ...         ...         ...         ...   \n",
       "5272  120.973373  216.452694  162.433845  164.266548  151.956611  201.429190   \n",
       "5273   29.222932   80.453657   71.369705  104.692524  198.056704   86.399479   \n",
       "5274   17.629307   96.572357   16.560912   12.348351   45.685536   61.273696   \n",
       "5275   85.473783  896.563392   42.914293  126.627486   56.035202  143.252519   \n",
       "5276    9.510397    7.791302   14.027582    5.866641    5.667235    9.845927   \n",
       "\n",
       "              6           7           8           9           10          11  \n",
       "0     384.347226  498.958901  420.180792  394.899070  350.369595  382.250918  \n",
       "1     333.180189  437.528937  376.698030  324.925273  306.403654  325.917838  \n",
       "2     152.054116  152.054116  134.483667   83.544064   83.544064   83.544064  \n",
       "3     226.874595  231.703200  254.231030  278.718477  311.872277  280.863728  \n",
       "4     215.940989  199.312895  195.504648  206.610567  200.528204  228.694525  \n",
       "...          ...         ...         ...         ...         ...         ...  \n",
       "5272  162.972141  161.452670  209.093292  191.344839   95.214081   80.701219  \n",
       "5273   53.234622  200.859031  106.649260  104.863279  131.231565  104.977965  \n",
       "5274   34.636380   15.644490   21.753556   50.656076   41.840388  101.444551  \n",
       "5275  131.378197   25.838364   16.940834  201.285761  603.683610  147.253556  \n",
       "5276    7.406033    4.966140    7.616564   10.913683   11.797847   31.820675  \n",
       "\n",
       "[5277 rows x 12 columns]"
      ]
     },
     "execution_count": 60,
     "metadata": {},
     "output_type": "execute_result"
    }
   ],
   "source": [
    "dwell_time_preprocessed_data.compute()"
   ]
  },
  {
   "cell_type": "code",
   "execution_count": 61,
   "id": "ccf76938-b4df-4506-acd1-ef9dcf6f992c",
   "metadata": {
    "tags": []
   },
   "outputs": [],
   "source": [
    "np.save(open(\"dwell_time_preprocessed_data_1_hr_slot.npy\", \"wb\"), dwell_time_preprocessed_data.compute())"
   ]
  },
  {
   "cell_type": "markdown",
   "id": "4f3984e9-0381-48d3-93d1-54e62a5af4bf",
   "metadata": {},
   "source": [
    "## Finding Correlations"
   ]
  },
  {
   "cell_type": "code",
   "execution_count": 66,
   "id": "ac8e2932-4b2c-4ded-b3bf-db67669f550e",
   "metadata": {
    "tags": []
   },
   "outputs": [
    {
     "name": "stderr",
     "output_type": "stream",
     "text": [
      "100%|██████████| 5277/5277 [13:37<00:00,  6.45it/s]\n"
     ]
    }
   ],
   "source": [
    "import scipy\n",
    "dwelltimes = dwell_time_preprocessed_data.compute().to_numpy()\n",
    "corr_matrix = np.zeros((5277,5277))\n",
    "for i in tqdm(range(5277)):\n",
    "    for j in range(5277):\n",
    "        corr_matrix[i][j] = scipy.spatial.distance.correlation(dwelltimes[i], dwelltimes[j])\n",
    "        if math.isnan(corr_matrix[i][j]):\n",
    "            corr_matrix[i][j] = 0"
   ]
  },
  {
   "cell_type": "code",
   "execution_count": 69,
   "id": "643c5bf0-63fa-46f8-86c8-11c9c9092298",
   "metadata": {
    "tags": []
   },
   "outputs": [],
   "source": [
    "temp = corr_matrix.copy()"
   ]
  },
  {
   "cell_type": "code",
   "execution_count": 71,
   "id": "116d1787-f932-438c-8705-ca0feca12f27",
   "metadata": {
    "tags": []
   },
   "outputs": [
    {
     "name": "stderr",
     "output_type": "stream",
     "text": [
      "100%|██████████| 5277/5277 [00:19<00:00, 273.68it/s]\n"
     ]
    }
   ],
   "source": [
    "for i in tqdm(range(5277)):\n",
    "    for j in range(5277):\n",
    "        if temp[i][j]<=1:\n",
    "            temp[i][j] = 1 - temp[i][j]\n",
    "        elif temp[i][j]>1:\n",
    "            temp[i][j] = -(temp[i][j]-1)"
   ]
  },
  {
   "cell_type": "code",
   "execution_count": 75,
   "id": "bb0613f9-348c-441e-b4b4-4ad006fd2aea",
   "metadata": {
    "tags": []
   },
   "outputs": [],
   "source": [
    "def remove_below_threshold(matrix, threshold):\n",
    "    filtered_matrix = np.where(matrix < threshold, 0, matrix)\n",
    "    return filtered_matrix"
   ]
  },
  {
   "cell_type": "code",
   "execution_count": 76,
   "id": "9a4ad2b9-15b1-4fb8-b6cb-c710b252ae19",
   "metadata": {
    "tags": []
   },
   "outputs": [],
   "source": [
    "threshold = 0.65\n",
    "temp = remove_below_threshold(temp, threshold)"
   ]
  },
  {
   "cell_type": "code",
   "execution_count": 78,
   "id": "2b0bdf4d-e7fb-4e43-a81b-1d17f9bcef9a",
   "metadata": {
    "tags": []
   },
   "outputs": [],
   "source": [
    "old_adjacency = adjacency_matrix.copy()"
   ]
  },
  {
   "cell_type": "code",
   "execution_count": 79,
   "id": "5713edce-9643-45d9-91ee-af7f5cb7af29",
   "metadata": {
    "tags": []
   },
   "outputs": [],
   "source": [
    "adjacency_matrix = np.zeros((len(old_adjacency),len(old_adjacency)))"
   ]
  },
  {
   "cell_type": "code",
   "execution_count": null,
   "id": "d87ac797",
   "metadata": {},
   "outputs": [],
   "source": [
    "'''\n",
    "# Older Corr Matrix - used in paper\n",
    "corr_matrix = np.corrcoef(dwell_time_preprocessed_data.compute())\n",
    "corr_threshold = 0.65\n",
    "for i in tqdm(range(len(corr_matrix))):\n",
    "    for j in range(len(corr_matrix)):\n",
    "        if corr_matrix[i][j]<corr_threshold or math.isnan(corr_matrix[i][j]) or j in set(mean_added_segs) or i in set(mean_added_segs):\n",
    "            corr_matrix[i][j] = 0 \n",
    "'''"
   ]
  },
  {
   "cell_type": "code",
   "execution_count": 80,
   "id": "7bc94dc4-df41-4cac-a460-62e5f59bcc96",
   "metadata": {
    "tags": []
   },
   "outputs": [
    {
     "name": "stderr",
     "output_type": "stream",
     "text": [
      "100%|██████████| 5277/5277 [00:20<00:00, 258.92it/s]\n"
     ]
    }
   ],
   "source": [
    "alpha = 0.85\n",
    "for segid_i in tqdm(range(len(old_adjacency))):\n",
    "    for segid_j in range(len(old_adjacency)):\n",
    "        adjacency_matrix[segid_i][segid_j] = alpha * old_adjacency[segid_i][segid_j] + (1-alpha)*temp[segid_i][segid_j]"
   ]
  },
  {
   "cell_type": "code",
   "execution_count": 91,
   "id": "c5c42841-51f6-4fd6-a819-779b07d832d1",
   "metadata": {
    "tags": []
   },
   "outputs": [
    {
     "data": {
      "text/plain": [
       "array([[1.        , 0.04479623, 0.29431905, ..., 1.22993318, 1.50357712,\n",
       "        1.21947651],\n",
       "       [0.04479623, 1.        , 0.34783844, ..., 1.38709913, 1.54684353,\n",
       "        1.30520055],\n",
       "       [0.29431905, 0.34783844, 1.        , ..., 1.19828788, 1.41372426,\n",
       "        1.41579776],\n",
       "       ...,\n",
       "       [1.22993318, 1.38709913, 1.19828788, ..., 1.        , 0.43279756,\n",
       "        0.42500562],\n",
       "       [1.50357712, 1.54684353, 1.41372426, ..., 0.43279756, 1.        ,\n",
       "        1.00749966],\n",
       "       [1.21947651, 1.30520055, 1.41579776, ..., 0.42500562, 1.00749966,\n",
       "        1.        ]])"
      ]
     },
     "execution_count": 91,
     "metadata": {},
     "output_type": "execute_result"
    }
   ],
   "source": [
    "adjacency_matrix"
   ]
  },
  {
   "cell_type": "code",
   "execution_count": 82,
   "id": "86bcba3d-c304-4cc7-828c-87a6421aa874",
   "metadata": {
    "tags": []
   },
   "outputs": [
    {
     "name": "stdout",
     "output_type": "stream",
     "text": [
      "2.9182651036099836 84.83042173632028 19.127023845822798\n",
      "0\n"
     ]
    }
   ],
   "source": [
    "A_hat = adjacency_matrix\n",
    "D_hat = np.array(np.sum(A_hat, axis=0))\n",
    "D_hat = np.matrix(np.diag(D_hat))\n",
    "print(min(np.diag(D_hat)) , max(np.diag(D_hat)), np.median(np.diag(D_hat)))\n",
    "neg_idx = [list(np.diag(D_hat)).index(i) for i in np.diag(D_hat) if i<0]\n",
    "print(len(neg_idx))"
   ]
  },
  {
   "cell_type": "code",
   "execution_count": 83,
   "id": "079eaacf-5c5b-415c-a6ce-4733b9168dde",
   "metadata": {
    "tags": []
   },
   "outputs": [],
   "source": [
    "np.save(open(\"adjacency_matrix_1_hr_slot.npy\", \"wb\"), np.array(adjacency_matrix))"
   ]
  },
  {
   "cell_type": "code",
   "execution_count": 30,
   "id": "ead65ac6-3095-4fac-bf0d-c2f383cfe193",
   "metadata": {
    "tags": []
   },
   "outputs": [],
   "source": [
    "adjacency_matrix = np.load(open(\"adjacency_matrix_1_hr_slot.npy\", \"rb\"))"
   ]
  },
  {
   "cell_type": "markdown",
   "id": "d3d4c11f-bb26-4a03-b857-663c0e616a33",
   "metadata": {
    "tags": []
   },
   "source": [
    "# Process Test Data"
   ]
  },
  {
   "cell_type": "code",
   "execution_count": 46,
   "id": "bb72e51f-ba33-43cf-93b3-270f28f3335e",
   "metadata": {
    "tags": []
   },
   "outputs": [],
   "source": [
    "dwelltime_df_test = pd.read_csv(\"./dwelltime_df_jan_2023_1_hr.csv\")"
   ]
  },
  {
   "cell_type": "code",
   "execution_count": 47,
   "id": "fe4575bf-3d6c-49f5-bc37-8d9500705408",
   "metadata": {
    "tags": []
   },
   "outputs": [],
   "source": [
    "dwelltime_df_test = dwelltime_df_test[dwelltime_df_test['dwell_time']<=max_time_eta]"
   ]
  },
  {
   "cell_type": "code",
   "execution_count": 58,
   "id": "73026399-cdb1-4dcf-a22d-216d6d9aab18",
   "metadata": {
    "tags": []
   },
   "outputs": [],
   "source": [
    "avg_dwelltime_df_test = new_avg_dwelltime_calc(dwelltime_df_test)"
   ]
  },
  {
   "cell_type": "code",
   "execution_count": 59,
   "id": "10063bd8-cb3f-49aa-b26d-dff9a82405f3",
   "metadata": {
    "tags": []
   },
   "outputs": [
    {
     "data": {
      "text/plain": [
       "array([ 8,  9, 10, 11, 12, 13, 14, 15, 16, 17, 18, 19])"
      ]
     },
     "execution_count": 59,
     "metadata": {},
     "output_type": "execute_result"
    }
   ],
   "source": [
    "avg_dwelltime_df_test[\"time_slot\"].unique()"
   ]
  },
  {
   "cell_type": "code",
   "execution_count": 60,
   "id": "fa4287be-9157-4c3b-896d-c177d8a0e0c9",
   "metadata": {
    "tags": []
   },
   "outputs": [
    {
     "data": {
      "text/html": [
       "<div>\n",
       "<style scoped>\n",
       "    .dataframe tbody tr th:only-of-type {\n",
       "        vertical-align: middle;\n",
       "    }\n",
       "\n",
       "    .dataframe tbody tr th {\n",
       "        vertical-align: top;\n",
       "    }\n",
       "\n",
       "    .dataframe thead th {\n",
       "        text-align: right;\n",
       "    }\n",
       "</style>\n",
       "<table border=\"1\" class=\"dataframe\">\n",
       "  <thead>\n",
       "    <tr style=\"text-align: right;\">\n",
       "      <th></th>\n",
       "      <th>segment</th>\n",
       "      <th>time_slot</th>\n",
       "      <th>avg_dwell_time</th>\n",
       "    </tr>\n",
       "  </thead>\n",
       "  <tbody>\n",
       "    <tr>\n",
       "      <th>0</th>\n",
       "      <td>0</td>\n",
       "      <td>8</td>\n",
       "      <td>342.581322</td>\n",
       "    </tr>\n",
       "    <tr>\n",
       "      <th>1</th>\n",
       "      <td>0</td>\n",
       "      <td>9</td>\n",
       "      <td>333.650861</td>\n",
       "    </tr>\n",
       "    <tr>\n",
       "      <th>2</th>\n",
       "      <td>0</td>\n",
       "      <td>10</td>\n",
       "      <td>364.775301</td>\n",
       "    </tr>\n",
       "    <tr>\n",
       "      <th>3</th>\n",
       "      <td>0</td>\n",
       "      <td>11</td>\n",
       "      <td>351.399469</td>\n",
       "    </tr>\n",
       "    <tr>\n",
       "      <th>4</th>\n",
       "      <td>0</td>\n",
       "      <td>12</td>\n",
       "      <td>357.240116</td>\n",
       "    </tr>\n",
       "    <tr>\n",
       "      <th>...</th>\n",
       "      <td>...</td>\n",
       "      <td>...</td>\n",
       "      <td>...</td>\n",
       "    </tr>\n",
       "    <tr>\n",
       "      <th>63319</th>\n",
       "      <td>5276</td>\n",
       "      <td>15</td>\n",
       "      <td>NaN</td>\n",
       "    </tr>\n",
       "    <tr>\n",
       "      <th>63320</th>\n",
       "      <td>5276</td>\n",
       "      <td>16</td>\n",
       "      <td>NaN</td>\n",
       "    </tr>\n",
       "    <tr>\n",
       "      <th>63321</th>\n",
       "      <td>5276</td>\n",
       "      <td>17</td>\n",
       "      <td>NaN</td>\n",
       "    </tr>\n",
       "    <tr>\n",
       "      <th>63322</th>\n",
       "      <td>5276</td>\n",
       "      <td>18</td>\n",
       "      <td>NaN</td>\n",
       "    </tr>\n",
       "    <tr>\n",
       "      <th>63323</th>\n",
       "      <td>5276</td>\n",
       "      <td>19</td>\n",
       "      <td>NaN</td>\n",
       "    </tr>\n",
       "  </tbody>\n",
       "</table>\n",
       "<p>63324 rows × 3 columns</p>\n",
       "</div>"
      ],
      "text/plain": [
       "       segment  time_slot  avg_dwell_time\n",
       "0            0          8      342.581322\n",
       "1            0          9      333.650861\n",
       "2            0         10      364.775301\n",
       "3            0         11      351.399469\n",
       "4            0         12      357.240116\n",
       "...        ...        ...             ...\n",
       "63319     5276         15             NaN\n",
       "63320     5276         16             NaN\n",
       "63321     5276         17             NaN\n",
       "63322     5276         18             NaN\n",
       "63323     5276         19             NaN\n",
       "\n",
       "[63324 rows x 3 columns]"
      ]
     },
     "execution_count": 60,
     "metadata": {},
     "output_type": "execute_result"
    }
   ],
   "source": [
    "avg_dwelltime_df_test"
   ]
  },
  {
   "cell_type": "code",
   "execution_count": 61,
   "id": "e610f64b-e5b5-4cea-adfc-348054bbaef6",
   "metadata": {
    "tags": []
   },
   "outputs": [
    {
     "data": {
      "text/plain": [
       "segment               0\n",
       "time_slot             0\n",
       "avg_dwell_time    22253\n",
       "dtype: int64"
      ]
     },
     "execution_count": 61,
     "metadata": {},
     "output_type": "execute_result"
    }
   ],
   "source": [
    "avg_dwelltime_df_test.isna().sum()"
   ]
  },
  {
   "cell_type": "code",
   "execution_count": 62,
   "id": "55394ccd-fe08-4628-b39d-92c2a8015239",
   "metadata": {
    "tags": []
   },
   "outputs": [
    {
     "data": {
      "text/plain": [
       "0.3514149453603689"
      ]
     },
     "execution_count": 62,
     "metadata": {},
     "output_type": "execute_result"
    }
   ],
   "source": [
    "avg_dwelltime_df_test.isna().sum()[\"avg_dwell_time\"] / len(avg_dwelltime_df_test)"
   ]
  },
  {
   "cell_type": "code",
   "execution_count": 89,
   "id": "97aa5aff-21d6-4077-b769-5583b8d4d373",
   "metadata": {
    "tags": []
   },
   "outputs": [
    {
     "name": "stderr",
     "output_type": "stream",
     "text": [
      "100%|██████████| 63324/63324 [01:14<00:00, 854.62it/s] \n",
      "100%|██████████| 63324/63324 [00:34<00:00, 1832.51it/s]\n",
      "100%|██████████| 63324/63324 [00:00<00:00, 2259676.42it/s]\n"
     ]
    }
   ],
   "source": [
    "avg_dwelltime_df_test, num_zeros_added_test, mean_segs_test = interpolate_df(avg_dwelltime_df_test)"
   ]
  },
  {
   "cell_type": "code",
   "execution_count": 92,
   "id": "c5eb2815-b7ab-4e07-9bf9-6139f39feed8",
   "metadata": {
    "tags": []
   },
   "outputs": [],
   "source": [
    "avg_dwelltime_df_test.to_pickle(\"testing/interpolated_avg_dwelltime_df_test_1_hr_slot.pkl\")"
   ]
  },
  {
   "cell_type": "code",
   "execution_count": 93,
   "id": "804169c1-d203-41bb-86aa-b1023066ec57",
   "metadata": {
    "tags": []
   },
   "outputs": [],
   "source": [
    "avg_dwelltime_df_test = pd.read_pickle(\"testing/interpolated_avg_dwelltime_df_test_1_hr_slot.pkl\")"
   ]
  },
  {
   "cell_type": "code",
   "execution_count": 90,
   "id": "9ffb4633-22fb-4ca9-9f94-618dfd4c0d35",
   "metadata": {
    "tags": []
   },
   "outputs": [
    {
     "data": {
      "text/plain": [
       "segment           0\n",
       "time_slot         0\n",
       "avg_dwell_time    0\n",
       "dtype: int64"
      ]
     },
     "execution_count": 90,
     "metadata": {},
     "output_type": "execute_result"
    }
   ],
   "source": [
    "avg_dwelltime_df_test.isna().sum()"
   ]
  },
  {
   "cell_type": "code",
   "execution_count": 91,
   "id": "3440d544-2208-48a0-a5ce-0fd9a40955ba",
   "metadata": {
    "tags": []
   },
   "outputs": [
    {
     "name": "stdout",
     "output_type": "stream",
     "text": [
      "6.28% mean value added to test data\n"
     ]
    }
   ],
   "source": [
    "print(f'{num_zeros_added_test*100/len(avg_dwelltime_df_test):.2f}% mean value added to test data')"
   ]
  },
  {
   "cell_type": "code",
   "execution_count": 92,
   "id": "83e03835-77e8-439e-a968-2ead57effa87",
   "metadata": {
    "tags": []
   },
   "outputs": [],
   "source": [
    "columns = [i for i in range(12)]\n",
    "dwell_time_data_test = pd.DataFrame(columns=columns)"
   ]
  },
  {
   "cell_type": "code",
   "execution_count": 93,
   "id": "455a0fc5-72b1-4152-8aa5-d10c9b19fcf1",
   "metadata": {
    "tags": []
   },
   "outputs": [
    {
     "data": {
      "text/plain": [
       "0     object\n",
       "1     object\n",
       "2     object\n",
       "3     object\n",
       "4     object\n",
       "5     object\n",
       "6     object\n",
       "7     object\n",
       "8     object\n",
       "9     object\n",
       "10    object\n",
       "11    object\n",
       "dtype: object"
      ]
     },
     "execution_count": 93,
     "metadata": {},
     "output_type": "execute_result"
    }
   ],
   "source": [
    "dwell_time_data_test.dtypes"
   ]
  },
  {
   "cell_type": "code",
   "execution_count": 94,
   "id": "22d15ded",
   "metadata": {
    "tags": []
   },
   "outputs": [
    {
     "data": {
      "text/html": [
       "<div>\n",
       "<style scoped>\n",
       "    .dataframe tbody tr th:only-of-type {\n",
       "        vertical-align: middle;\n",
       "    }\n",
       "\n",
       "    .dataframe tbody tr th {\n",
       "        vertical-align: top;\n",
       "    }\n",
       "\n",
       "    .dataframe thead th {\n",
       "        text-align: right;\n",
       "    }\n",
       "</style>\n",
       "<table border=\"1\" class=\"dataframe\">\n",
       "  <thead>\n",
       "    <tr style=\"text-align: right;\">\n",
       "      <th></th>\n",
       "      <th>segment</th>\n",
       "      <th>time_slot</th>\n",
       "      <th>avg_dwell_time</th>\n",
       "    </tr>\n",
       "  </thead>\n",
       "  <tbody>\n",
       "    <tr>\n",
       "      <th>0</th>\n",
       "      <td>0</td>\n",
       "      <td>8</td>\n",
       "      <td>342.581322</td>\n",
       "    </tr>\n",
       "    <tr>\n",
       "      <th>1</th>\n",
       "      <td>0</td>\n",
       "      <td>9</td>\n",
       "      <td>333.650861</td>\n",
       "    </tr>\n",
       "    <tr>\n",
       "      <th>2</th>\n",
       "      <td>0</td>\n",
       "      <td>10</td>\n",
       "      <td>364.775301</td>\n",
       "    </tr>\n",
       "    <tr>\n",
       "      <th>3</th>\n",
       "      <td>0</td>\n",
       "      <td>11</td>\n",
       "      <td>351.399469</td>\n",
       "    </tr>\n",
       "    <tr>\n",
       "      <th>4</th>\n",
       "      <td>0</td>\n",
       "      <td>12</td>\n",
       "      <td>357.240116</td>\n",
       "    </tr>\n",
       "    <tr>\n",
       "      <th>...</th>\n",
       "      <td>...</td>\n",
       "      <td>...</td>\n",
       "      <td>...</td>\n",
       "    </tr>\n",
       "    <tr>\n",
       "      <th>63319</th>\n",
       "      <td>5276</td>\n",
       "      <td>15</td>\n",
       "      <td>7.780947</td>\n",
       "    </tr>\n",
       "    <tr>\n",
       "      <th>63320</th>\n",
       "      <td>5276</td>\n",
       "      <td>16</td>\n",
       "      <td>8.924231</td>\n",
       "    </tr>\n",
       "    <tr>\n",
       "      <th>63321</th>\n",
       "      <td>5276</td>\n",
       "      <td>17</td>\n",
       "      <td>10.067516</td>\n",
       "    </tr>\n",
       "    <tr>\n",
       "      <th>63322</th>\n",
       "      <td>5276</td>\n",
       "      <td>18</td>\n",
       "      <td>72.921865</td>\n",
       "    </tr>\n",
       "    <tr>\n",
       "      <th>63323</th>\n",
       "      <td>5276</td>\n",
       "      <td>19</td>\n",
       "      <td>9.063861</td>\n",
       "    </tr>\n",
       "  </tbody>\n",
       "</table>\n",
       "<p>63324 rows × 3 columns</p>\n",
       "</div>"
      ],
      "text/plain": [
       "       segment  time_slot  avg_dwell_time\n",
       "0            0          8      342.581322\n",
       "1            0          9      333.650861\n",
       "2            0         10      364.775301\n",
       "3            0         11      351.399469\n",
       "4            0         12      357.240116\n",
       "...        ...        ...             ...\n",
       "63319     5276         15        7.780947\n",
       "63320     5276         16        8.924231\n",
       "63321     5276         17       10.067516\n",
       "63322     5276         18       72.921865\n",
       "63323     5276         19        9.063861\n",
       "\n",
       "[63324 rows x 3 columns]"
      ]
     },
     "execution_count": 94,
     "metadata": {},
     "output_type": "execute_result"
    }
   ],
   "source": [
    "avg_dwelltime_df_test"
   ]
  },
  {
   "cell_type": "code",
   "execution_count": 95,
   "id": "1d298798-2db3-4faf-818f-cd236c616bb9",
   "metadata": {
    "tags": []
   },
   "outputs": [
    {
     "name": "stderr",
     "output_type": "stream",
     "text": [
      "100%|██████████| 5277/5277 [00:03<00:00, 1425.62it/s]\n"
     ]
    }
   ],
   "source": [
    "for seg in tqdm(range(5277)):\n",
    "    seg_df = avg_dwelltime_df_test[avg_dwelltime_df_test['segment']==seg].sort_values('time_slot')\n",
    "    dwell_time_data_test.loc[len(dwell_time_data_test)] = seg_df['avg_dwell_time'].tolist()"
   ]
  },
  {
   "cell_type": "code",
   "execution_count": 96,
   "id": "41ee765b-d0d2-4c09-8d38-4cf2c2bac2a3",
   "metadata": {
    "tags": []
   },
   "outputs": [],
   "source": [
    "dwell_time_data_test = dwell_time_data_test.apply(pd.to_numeric, errors='coerce')"
   ]
  },
  {
   "cell_type": "code",
   "execution_count": 97,
   "id": "c9a813e4-899b-4095-abf1-296eaffd582b",
   "metadata": {
    "tags": []
   },
   "outputs": [
    {
     "data": {
      "text/html": [
       "<div>\n",
       "<style scoped>\n",
       "    .dataframe tbody tr th:only-of-type {\n",
       "        vertical-align: middle;\n",
       "    }\n",
       "\n",
       "    .dataframe tbody tr th {\n",
       "        vertical-align: top;\n",
       "    }\n",
       "\n",
       "    .dataframe thead th {\n",
       "        text-align: right;\n",
       "    }\n",
       "</style>\n",
       "<table border=\"1\" class=\"dataframe\">\n",
       "  <thead>\n",
       "    <tr style=\"text-align: right;\">\n",
       "      <th></th>\n",
       "      <th>0</th>\n",
       "      <th>1</th>\n",
       "      <th>2</th>\n",
       "      <th>3</th>\n",
       "      <th>4</th>\n",
       "      <th>5</th>\n",
       "      <th>6</th>\n",
       "      <th>7</th>\n",
       "      <th>8</th>\n",
       "      <th>9</th>\n",
       "      <th>10</th>\n",
       "      <th>11</th>\n",
       "    </tr>\n",
       "  </thead>\n",
       "  <tbody>\n",
       "    <tr>\n",
       "      <th>0</th>\n",
       "      <td>342.581322</td>\n",
       "      <td>333.650861</td>\n",
       "      <td>364.775301</td>\n",
       "      <td>351.399469</td>\n",
       "      <td>357.240116</td>\n",
       "      <td>354.465542</td>\n",
       "      <td>361.007830</td>\n",
       "      <td>361.702030</td>\n",
       "      <td>413.960253</td>\n",
       "      <td>353.421801</td>\n",
       "      <td>357.467672</td>\n",
       "      <td>387.451783</td>\n",
       "    </tr>\n",
       "    <tr>\n",
       "      <th>1</th>\n",
       "      <td>298.403881</td>\n",
       "      <td>329.429831</td>\n",
       "      <td>329.508982</td>\n",
       "      <td>299.113382</td>\n",
       "      <td>324.101466</td>\n",
       "      <td>299.920367</td>\n",
       "      <td>303.946861</td>\n",
       "      <td>312.573388</td>\n",
       "      <td>348.736926</td>\n",
       "      <td>325.457871</td>\n",
       "      <td>294.945819</td>\n",
       "      <td>322.804348</td>\n",
       "    </tr>\n",
       "    <tr>\n",
       "      <th>2</th>\n",
       "      <td>82.350617</td>\n",
       "      <td>82.350617</td>\n",
       "      <td>82.350617</td>\n",
       "      <td>82.350617</td>\n",
       "      <td>82.350617</td>\n",
       "      <td>82.350617</td>\n",
       "      <td>82.350617</td>\n",
       "      <td>82.350617</td>\n",
       "      <td>82.350617</td>\n",
       "      <td>82.350617</td>\n",
       "      <td>82.350617</td>\n",
       "      <td>82.350617</td>\n",
       "    </tr>\n",
       "    <tr>\n",
       "      <th>3</th>\n",
       "      <td>221.717937</td>\n",
       "      <td>236.034439</td>\n",
       "      <td>229.146370</td>\n",
       "      <td>230.401788</td>\n",
       "      <td>215.167651</td>\n",
       "      <td>224.710223</td>\n",
       "      <td>235.915406</td>\n",
       "      <td>228.561687</td>\n",
       "      <td>260.560556</td>\n",
       "      <td>264.695092</td>\n",
       "      <td>276.885143</td>\n",
       "      <td>263.741448</td>\n",
       "    </tr>\n",
       "    <tr>\n",
       "      <th>4</th>\n",
       "      <td>183.269041</td>\n",
       "      <td>182.457024</td>\n",
       "      <td>181.963500</td>\n",
       "      <td>171.343992</td>\n",
       "      <td>175.701194</td>\n",
       "      <td>215.007475</td>\n",
       "      <td>174.127745</td>\n",
       "      <td>189.687850</td>\n",
       "      <td>179.465579</td>\n",
       "      <td>183.841304</td>\n",
       "      <td>179.283420</td>\n",
       "      <td>207.128411</td>\n",
       "    </tr>\n",
       "    <tr>\n",
       "      <th>...</th>\n",
       "      <td>...</td>\n",
       "      <td>...</td>\n",
       "      <td>...</td>\n",
       "      <td>...</td>\n",
       "      <td>...</td>\n",
       "      <td>...</td>\n",
       "      <td>...</td>\n",
       "      <td>...</td>\n",
       "      <td>...</td>\n",
       "      <td>...</td>\n",
       "      <td>...</td>\n",
       "      <td>...</td>\n",
       "    </tr>\n",
       "    <tr>\n",
       "      <th>5272</th>\n",
       "      <td>450.204044</td>\n",
       "      <td>49.810411</td>\n",
       "      <td>72.576550</td>\n",
       "      <td>122.829442</td>\n",
       "      <td>268.917907</td>\n",
       "      <td>286.004706</td>\n",
       "      <td>118.099783</td>\n",
       "      <td>111.885347</td>\n",
       "      <td>168.274088</td>\n",
       "      <td>141.590711</td>\n",
       "      <td>64.930519</td>\n",
       "      <td>70.851493</td>\n",
       "    </tr>\n",
       "    <tr>\n",
       "      <th>5273</th>\n",
       "      <td>29.491371</td>\n",
       "      <td>52.552071</td>\n",
       "      <td>135.560660</td>\n",
       "      <td>84.293353</td>\n",
       "      <td>134.260998</td>\n",
       "      <td>45.029016</td>\n",
       "      <td>96.840993</td>\n",
       "      <td>48.697162</td>\n",
       "      <td>143.971795</td>\n",
       "      <td>101.068355</td>\n",
       "      <td>206.762345</td>\n",
       "      <td>86.532224</td>\n",
       "    </tr>\n",
       "    <tr>\n",
       "      <th>5274</th>\n",
       "      <td>140.883911</td>\n",
       "      <td>12.671238</td>\n",
       "      <td>20.318232</td>\n",
       "      <td>13.009125</td>\n",
       "      <td>23.048592</td>\n",
       "      <td>115.643404</td>\n",
       "      <td>56.491049</td>\n",
       "      <td>18.424517</td>\n",
       "      <td>11.424233</td>\n",
       "      <td>18.638867</td>\n",
       "      <td>22.903267</td>\n",
       "      <td>93.310293</td>\n",
       "    </tr>\n",
       "    <tr>\n",
       "      <th>5275</th>\n",
       "      <td>126.170112</td>\n",
       "      <td>139.008555</td>\n",
       "      <td>113.123946</td>\n",
       "      <td>242.822735</td>\n",
       "      <td>108.020390</td>\n",
       "      <td>164.496576</td>\n",
       "      <td>112.769600</td>\n",
       "      <td>111.412222</td>\n",
       "      <td>16.940834</td>\n",
       "      <td>110.045846</td>\n",
       "      <td>473.299946</td>\n",
       "      <td>111.004913</td>\n",
       "    </tr>\n",
       "    <tr>\n",
       "      <th>5276</th>\n",
       "      <td>4.561411</td>\n",
       "      <td>8.953973</td>\n",
       "      <td>6.656867</td>\n",
       "      <td>15.104869</td>\n",
       "      <td>4.435227</td>\n",
       "      <td>21.072465</td>\n",
       "      <td>14.426706</td>\n",
       "      <td>7.780947</td>\n",
       "      <td>8.924231</td>\n",
       "      <td>10.067516</td>\n",
       "      <td>72.921865</td>\n",
       "      <td>9.063861</td>\n",
       "    </tr>\n",
       "  </tbody>\n",
       "</table>\n",
       "<p>5277 rows × 12 columns</p>\n",
       "</div>"
      ],
      "text/plain": [
       "              0           1           2           3           4           5   \\\n",
       "0     342.581322  333.650861  364.775301  351.399469  357.240116  354.465542   \n",
       "1     298.403881  329.429831  329.508982  299.113382  324.101466  299.920367   \n",
       "2      82.350617   82.350617   82.350617   82.350617   82.350617   82.350617   \n",
       "3     221.717937  236.034439  229.146370  230.401788  215.167651  224.710223   \n",
       "4     183.269041  182.457024  181.963500  171.343992  175.701194  215.007475   \n",
       "...          ...         ...         ...         ...         ...         ...   \n",
       "5272  450.204044   49.810411   72.576550  122.829442  268.917907  286.004706   \n",
       "5273   29.491371   52.552071  135.560660   84.293353  134.260998   45.029016   \n",
       "5274  140.883911   12.671238   20.318232   13.009125   23.048592  115.643404   \n",
       "5275  126.170112  139.008555  113.123946  242.822735  108.020390  164.496576   \n",
       "5276    4.561411    8.953973    6.656867   15.104869    4.435227   21.072465   \n",
       "\n",
       "              6           7           8           9           10          11  \n",
       "0     361.007830  361.702030  413.960253  353.421801  357.467672  387.451783  \n",
       "1     303.946861  312.573388  348.736926  325.457871  294.945819  322.804348  \n",
       "2      82.350617   82.350617   82.350617   82.350617   82.350617   82.350617  \n",
       "3     235.915406  228.561687  260.560556  264.695092  276.885143  263.741448  \n",
       "4     174.127745  189.687850  179.465579  183.841304  179.283420  207.128411  \n",
       "...          ...         ...         ...         ...         ...         ...  \n",
       "5272  118.099783  111.885347  168.274088  141.590711   64.930519   70.851493  \n",
       "5273   96.840993   48.697162  143.971795  101.068355  206.762345   86.532224  \n",
       "5274   56.491049   18.424517   11.424233   18.638867   22.903267   93.310293  \n",
       "5275  112.769600  111.412222   16.940834  110.045846  473.299946  111.004913  \n",
       "5276   14.426706    7.780947    8.924231   10.067516   72.921865    9.063861  \n",
       "\n",
       "[5277 rows x 12 columns]"
      ]
     },
     "execution_count": 97,
     "metadata": {},
     "output_type": "execute_result"
    }
   ],
   "source": [
    "dwell_time_data_test"
   ]
  },
  {
   "cell_type": "markdown",
   "id": "b9cd7a58-14a2-4d6d-ae84-025a58c919ab",
   "metadata": {
    "tags": []
   },
   "source": [
    "# Preparing Data"
   ]
  },
  {
   "cell_type": "code",
   "execution_count": 70,
   "id": "f41887fd-5e37-4d0b-9b6e-1ae4b9a8d241",
   "metadata": {
    "tags": []
   },
   "outputs": [],
   "source": [
    "avg_dwelltime_df = pd.read_pickle(\"interpolated_avg_dwell_time_df_1_hr_slot.pkl\")"
   ]
  },
  {
   "cell_type": "code",
   "execution_count": 71,
   "id": "994b7e36-19b4-4186-bb6a-36c0acc21acf",
   "metadata": {
    "tags": []
   },
   "outputs": [],
   "source": [
    "adjacency_matrix = np.load(open(\"adjacency_matrix_1_hr_slot.npy\", \"rb\"))"
   ]
  },
  {
   "cell_type": "code",
   "execution_count": 72,
   "id": "30f9c467-7bce-4906-a9d8-45f00796a91a",
   "metadata": {
    "tags": []
   },
   "outputs": [],
   "source": [
    "dwell_time_preprocessed_data = np.load(open(\"dwell_time_preprocessed_data_1_hr_slot.npy\", \"rb\"))"
   ]
  },
  {
   "cell_type": "code",
   "execution_count": 35,
   "id": "4873e4e6-a696-46ca-b8f6-67e0cad1e093",
   "metadata": {
    "tags": []
   },
   "outputs": [],
   "source": [
    "def scale_data(data):\n",
    "    max_speed = max_time_eta\n",
    "    min_speed = 0\n",
    "    data_scaled = (data - min_speed) / (max_speed - min_speed)\n",
    "    return data_scaled"
   ]
  },
  {
   "cell_type": "code",
   "execution_count": 36,
   "id": "189e0cd1-b7cc-466e-b78b-238b8fc8fe27",
   "metadata": {
    "tags": []
   },
   "outputs": [],
   "source": [
    "def unscale_data(data_scaled):\n",
    "    max_speed = max_time_eta\n",
    "    min_speed = 0\n",
    "    data_unscaled = (data_scaled * (max_speed - min_speed)) + min_speed\n",
    "    return data_unscaled"
   ]
  },
  {
   "cell_type": "code",
   "execution_count": 37,
   "id": "a38b9147-f96b-48f4-82cc-21801e45396d",
   "metadata": {
    "tags": []
   },
   "outputs": [],
   "source": [
    "def sequence_data_preparation1(seq_len, pre_len, data):\n",
    "    X, Y = [], []\n",
    "    data = np.array(data)\n",
    "\n",
    "    for i in range(data.shape[1] - int(seq_len + pre_len - 1)):\n",
    "        a = data[:,i: i + seq_len + pre_len]\n",
    "        X.append(a[:,:seq_len])\n",
    "        Y.append(a[:,-1])\n",
    "\n",
    "        \n",
    "    X = da.from_array(X, chunks=1)#len(trainX)//5)\n",
    "    Y = da.from_array(Y, chunks=1)#len(trainY)//5)\n",
    "    \n",
    "    return X, Y"
   ]
  },
  {
   "cell_type": "code",
   "execution_count": 38,
   "id": "3270be57-7488-47da-af6a-6d4afb944916",
   "metadata": {
    "tags": []
   },
   "outputs": [],
   "source": [
    "def clean_prediction(prediction):\n",
    "    for i in range(prediction.shape[0]):\n",
    "        for j in range(prediction.shape[1]):\n",
    "            if prediction[i, j] < 0:\n",
    "                prediction[i, j] = 0\n",
    "    return prediction"
   ]
  },
  {
   "cell_type": "code",
   "execution_count": 39,
   "id": "cd95e882-80a2-498c-8f2c-7da17a877dc3",
   "metadata": {
    "tags": []
   },
   "outputs": [],
   "source": [
    "def augment_data(data, seq_len):\n",
    "    last_cols = np.array(data)[:, -seq_len:]\n",
    "    augmented_data = np.append(last_cols, data, axis=1)\n",
    "    print(augmented_data.shape)\n",
    "    return augmented_data"
   ]
  },
  {
   "cell_type": "code",
   "execution_count": 40,
   "id": "4951733b-3a11-4798-8688-094a369e2023",
   "metadata": {
    "tags": []
   },
   "outputs": [],
   "source": [
    "def train_test_split_data(dwell_speed_data, parameters: Dict, append_data=True) -> Tuple:\n",
    "    \"\"\"Split the data into train and test.\n",
    "\n",
    "        Args:\n",
    "            dwell_time_data: Dataframe which consists of the preprocessed data\n",
    "            parameters: Imports parameters present in ~/conf/base/parameters/data_science.yml\n",
    "        Returns: Multiple variables within a Tuple\n",
    "            trainX : Training data\n",
    "            trainY : Training data\n",
    "            testX : Test data\n",
    "            testY : Test data\n",
    "            test_ex_per_hour : Number of rows in the test data\n",
    "    \"\"\"\n",
    "    seq_len = parameters[\"seq_len\"]\n",
    "    pre_len = parameters[\"pre_len\"]\n",
    "    dwell_speed_data = np.array(dwell_speed_data)\n",
    "    if append_data:\n",
    "        dwell_speed_data = augment_data(dwell_speed_data, seq_len)\n",
    "\n",
    "    print(f\"Data: {str(dwell_speed_data.shape)}\")\n",
    "\n",
    "    dwell_speed_data_scaled = scale_data(dwell_speed_data)\n",
    "\n",
    "    X,Y = sequence_data_preparation1(seq_len, pre_len, dwell_speed_data_scaled)\n",
    "\n",
    "    print(f\"X data shape : {str(X.shape)}\")\n",
    "    print(f\"Y data shape : {str(Y.shape)}\")\n",
    "\n",
    "    test_ex_per_hour = Y.shape[0]\n",
    "\n",
    "    return X, Y, test_ex_per_hour"
   ]
  },
  {
   "cell_type": "code",
   "execution_count": 41,
   "id": "ceb6a63f-af2f-4e2f-9131-a2885ac2ff30",
   "metadata": {
    "tags": []
   },
   "outputs": [],
   "source": [
    "parameters = {'train_test_split_options':{'train_rate': 0.75,'seq_len': 4,'pre_len': 1}, \n",
    "              'model_options':{'adam_learning_rate': 0.001,'loss': 'mse','epochs': 35,'batch_size': 32}}"
   ]
  },
  {
   "cell_type": "code",
   "execution_count": 109,
   "id": "84552981-399a-4c7b-9ebf-a89e1dbf8be5",
   "metadata": {
    "tags": []
   },
   "outputs": [
    {
     "name": "stdout",
     "output_type": "stream",
     "text": [
      "(5277, 16)\n",
      "Data: (5277, 16)\n",
      "X data shape : (12, 5277, 4)\n",
      "Y data shape : (12, 5277)\n"
     ]
    }
   ],
   "source": [
    "X_train, y_train, test_ex_per_hour = train_test_split_data(dwell_time_preprocessed_data, parameters['train_test_split_options'])"
   ]
  },
  {
   "cell_type": "code",
   "execution_count": 110,
   "id": "14db0d0f-eca1-465f-b926-caa34e2214ab",
   "metadata": {
    "tags": []
   },
   "outputs": [
    {
     "data": {
      "text/plain": [
       "array([59.97986662, 59.48657425, 59.2390721 , 74.18536778, 58.99359755,\n",
       "       77.48508682, 61.02277568, 60.92507613, 59.12214646, 78.56643179,\n",
       "       64.59158943, 75.05612186])"
      ]
     },
     "execution_count": 110,
     "metadata": {},
     "output_type": "execute_result"
    }
   ],
   "source": [
    "unscale_data(y_train[:,120].compute())"
   ]
  },
  {
   "cell_type": "code",
   "execution_count": 98,
   "id": "1b981396-c46c-4da1-9b7e-8405d126e2b1",
   "metadata": {
    "tags": []
   },
   "outputs": [
    {
     "name": "stdout",
     "output_type": "stream",
     "text": [
      "(5277, 16)\n",
      "Data: (5277, 16)\n",
      "X data shape : (12, 5277, 4)\n",
      "Y data shape : (12, 5277)\n"
     ]
    }
   ],
   "source": [
    "X_test, y_test, _ = train_test_split_data(dwell_time_data_test, parameters['train_test_split_options'])"
   ]
  },
  {
   "cell_type": "code",
   "execution_count": 112,
   "id": "af94a1bf-5e2b-4ebb-8b4e-d7be63902e4a",
   "metadata": {
    "tags": []
   },
   "outputs": [
    {
     "data": {
      "text/plain": [
       "array([60.36879694, 56.82540199, 65.16377768, 55.95968391, 53.40506377,\n",
       "       66.81967866, 55.15650141, 60.408525  , 57.84277966, 56.42203809,\n",
       "       63.04972739, 60.08787583])"
      ]
     },
     "execution_count": 112,
     "metadata": {},
     "output_type": "execute_result"
    }
   ],
   "source": [
    "unscale_data(y_test[:,120].compute())"
   ]
  },
  {
   "cell_type": "code",
   "execution_count": 113,
   "id": "41379de0-8f2a-4203-a9a4-177e7ea6a45b",
   "metadata": {
    "tags": []
   },
   "outputs": [
    {
     "data": {
      "text/plain": [
       "array([[0.29776119, 0.27439222, 0.07377426, ..., 0.0155677 , 0.07547831,\n",
       "        0.00839823],\n",
       "       [0.29418589, 0.25086942, 0.07377426, ..., 0.085279  , 0.79171752,\n",
       "        0.00688017],\n",
       "       [0.3105053 , 0.2660098 , 0.07377426, ..., 0.01462425, 0.03789581,\n",
       "        0.01238717],\n",
       "       ...,\n",
       "       [0.3487188 , 0.28692788, 0.07377426, ..., 0.04473226, 0.17774701,\n",
       "        0.00963742],\n",
       "       [0.30939669, 0.27057221, 0.07377426, ..., 0.03694749, 0.53308767,\n",
       "        0.01041818],\n",
       "       [0.33754975, 0.28780437, 0.07377426, ..., 0.08958143, 0.13003344,\n",
       "        0.0280995 ]])"
      ]
     },
     "execution_count": 113,
     "metadata": {},
     "output_type": "execute_result"
    }
   ],
   "source": [
    "y_train_computed = y_train.compute()\n",
    "y_train_computed"
   ]
  },
  {
   "cell_type": "code",
   "execution_count": 114,
   "id": "2f17be7d-f833-4c38-bfd0-820d15f211b0",
   "metadata": {
    "tags": []
   },
   "outputs": [],
   "source": [
    "np.save(open(\"y_train_1_hr_slot.npy\", \"wb\"), y_train_computed)"
   ]
  },
  {
   "cell_type": "code",
   "execution_count": 115,
   "id": "137d35be-fc24-456b-89ca-1b321c8f368c",
   "metadata": {
    "tags": []
   },
   "outputs": [
    {
     "data": {
      "text/plain": [
       "array([[[0.37104403, 0.3487188 , 0.30939669, 0.33754975],\n",
       "        [0.33264623, 0.28692788, 0.27057221, 0.28780437],\n",
       "        [0.11875688, 0.07377426, 0.07377426, 0.07377426],\n",
       "        ...,\n",
       "        [0.01920965, 0.04473226, 0.03694749, 0.08958143],\n",
       "        [0.01495974, 0.17774701, 0.53308767, 0.13003344],\n",
       "        [0.00672587, 0.00963742, 0.01041818, 0.0280995 ]],\n",
       "\n",
       "       [[0.3487188 , 0.30939669, 0.33754975, 0.29776119],\n",
       "        [0.28692788, 0.27057221, 0.28780437, 0.27439222],\n",
       "        [0.07377426, 0.07377426, 0.07377426, 0.07377426],\n",
       "        ...,\n",
       "        [0.04473226, 0.03694749, 0.08958143, 0.0155677 ],\n",
       "        [0.17774701, 0.53308767, 0.13003344, 0.07547831],\n",
       "        [0.00963742, 0.01041818, 0.0280995 , 0.00839823]],\n",
       "\n",
       "       [[0.30939669, 0.33754975, 0.29776119, 0.29418589],\n",
       "        [0.27057221, 0.28780437, 0.27439222, 0.25086942],\n",
       "        [0.07377426, 0.07377426, 0.07377426, 0.07377426],\n",
       "        ...,\n",
       "        [0.03694749, 0.08958143, 0.0155677 , 0.085279  ],\n",
       "        [0.53308767, 0.13003344, 0.07547831, 0.79171752],\n",
       "        [0.01041818, 0.0280995 , 0.00839823, 0.00688017]],\n",
       "\n",
       "       ...,\n",
       "\n",
       "       [[0.34204678, 0.33940091, 0.44060967, 0.37104403],\n",
       "        [0.27844008, 0.29421745, 0.38636345, 0.33264623],\n",
       "        [0.13427261, 0.13427261, 0.13427261, 0.11875688],\n",
       "        ...,\n",
       "        [0.05410823, 0.03058593, 0.01381499, 0.01920965],\n",
       "        [0.12650029, 0.11601457, 0.02281678, 0.01495974],\n",
       "        [0.00869452, 0.00653996, 0.00438539, 0.00672587]],\n",
       "\n",
       "       [[0.33940091, 0.44060967, 0.37104403, 0.3487188 ],\n",
       "        [0.29421745, 0.38636345, 0.33264623, 0.28692788],\n",
       "        [0.13427261, 0.13427261, 0.11875688, 0.07377426],\n",
       "        ...,\n",
       "        [0.03058593, 0.01381499, 0.01920965, 0.04473226],\n",
       "        [0.11601457, 0.02281678, 0.01495974, 0.17774701],\n",
       "        [0.00653996, 0.00438539, 0.00672587, 0.00963742]],\n",
       "\n",
       "       [[0.44060967, 0.37104403, 0.3487188 , 0.30939669],\n",
       "        [0.38636345, 0.33264623, 0.28692788, 0.27057221],\n",
       "        [0.13427261, 0.11875688, 0.07377426, 0.07377426],\n",
       "        ...,\n",
       "        [0.01381499, 0.01920965, 0.04473226, 0.03694749],\n",
       "        [0.02281678, 0.01495974, 0.17774701, 0.53308767],\n",
       "        [0.00438539, 0.00672587, 0.00963742, 0.01041818]]])"
      ]
     },
     "execution_count": 115,
     "metadata": {},
     "output_type": "execute_result"
    }
   ],
   "source": [
    "X_train_computed = X_train.compute()\n",
    "X_train_computed"
   ]
  },
  {
   "cell_type": "code",
   "execution_count": 119,
   "id": "ab2f4c2f-d9eb-477b-9eef-6ef21f107b41",
   "metadata": {
    "tags": []
   },
   "outputs": [],
   "source": [
    "np.save(open(\"X_train_1_hr_slot.npy\", \"wb\"), X_train_computed)"
   ]
  },
  {
   "cell_type": "markdown",
   "id": "8b6a354c-ab36-4e02-80a6-fb23624bbe16",
   "metadata": {
    "tags": []
   },
   "source": [
    "# Training Model"
   ]
  },
  {
   "cell_type": "code",
   "execution_count": 28,
   "id": "6ae7cd43-a659-46a9-bb73-f2db0fe8857f",
   "metadata": {
    "tags": []
   },
   "outputs": [],
   "source": [
    "X_train = np.load(open(\"X_train_1_hr_slot.npy\", \"rb\"))\n",
    "#X_train"
   ]
  },
  {
   "cell_type": "code",
   "execution_count": 29,
   "id": "42678e17-842b-4edf-be8d-d4d38f5eba69",
   "metadata": {
    "tags": []
   },
   "outputs": [],
   "source": [
    "y_train = np.load(open(\"y_train_1_hr_slot.npy\", \"rb\"))\n",
    "#y_train"
   ]
  },
  {
   "cell_type": "code",
   "execution_count": 30,
   "id": "4c151df7-72e6-4ec9-9256-8baf11125944",
   "metadata": {
    "tags": []
   },
   "outputs": [],
   "source": [
    "adjacency_matrix = np.load(open(\"adjacency_matrix_1_hr_slot.npy\", \"rb\"))\n",
    "#adjacency_matrix"
   ]
  },
  {
   "cell_type": "code",
   "execution_count": 31,
   "id": "7eec9175-9e02-4356-9133-1e7f0b52223f",
   "metadata": {
    "tags": []
   },
   "outputs": [
    {
     "data": {
      "text/plain": [
       "array([   0,    1,    2, ..., 5274, 5275, 5276])"
      ]
     },
     "execution_count": 31,
     "metadata": {},
     "output_type": "execute_result"
    }
   ],
   "source": [
    "preprocessed_segments = np.load(open(\"preprocessed_segments_1_hr_slot.npy\", \"rb\"))\n",
    "preprocessed_segments"
   ]
  },
  {
   "cell_type": "code",
   "execution_count": 148,
   "id": "b4ca2166-7c81-485a-9867-ed94db962d37",
   "metadata": {
    "tags": []
   },
   "outputs": [],
   "source": [
    "parameters = {'train_test_split_options':{'train_rate': 0.75,'seq_len': 4,'pre_len': 1}, \n",
    "              'model_options':{'adam_learning_rate': 0.001,'loss': 'mse','epochs': 35,'batch_size': 32}}"
   ]
  },
  {
   "cell_type": "code",
   "execution_count": 134,
   "id": "35448272-3407-48a0-878a-2de06ed0ddc0",
   "metadata": {
    "tags": []
   },
   "outputs": [],
   "source": [
    "def train_tgcn_model(trainX, trainY, testX, testY, adj_lap, segments, parameters: Dict) -> Tuple:\n",
    "    \"\"\"Train the model.\n",
    "\n",
    "        Args:\n",
    "            trainX : Training data\n",
    "            trainY : Training data\n",
    "            testX : Test data\n",
    "            testY : Test data\n",
    "            adj_lap: Square matrix which contains the Adjacency matrix\n",
    "            segments: List of segments to consider for training the model\n",
    "            parameters: Dict\n",
    "        Returns: Multiple variables within a Tuple\n",
    "            model : Trained model (Pickle format)\n",
    "            y_true : True Y data from the original test set\n",
    "            y_pred : Predicted Y data using the original test set\n",
    "            fig : Plotly JSON data to be showcased on the kedro viz frontend\n",
    "    \"\"\"\n",
    "    print(\"Using gcn_filter ================\")\n",
    "    adj_lap = gcn_filter(adj_lap, symmetric=False)\n",
    "    adj_lap = gcn_filter(adj_lap, symmetric=False)\n",
    "    print(f\"Shape of Adjacency Matrix : {str(adj_lap.shape)}\")\n",
    "    N = len(segments)\n",
    "    print(f\"Number of segments : {str(N)}\")\n",
    "    inp_feat = Input((N, trainX.shape[-1]))\n",
    "    train_losses = []\n",
    "\n",
    "    #x = GCNConv(32, activation='relu')([inp_feat, adj_lap])\n",
    "    #print(x.shape)\n",
    "    x = GCNConv(16, activation='relu')([inp_feat, adj_lap])\n",
    "    #x = GCNConv(16, activation='relu')([x, adj_lap])\n",
    "    print(x.shape)\n",
    "    x = Reshape((16, N))(x)\n",
    "    print(x.shape)\n",
    "    #x = LSTM(32, activation='relu', return_sequences=True)(x)\n",
    "    #x = LSTM(128, activation='relu', return_sequences=True)(x)\n",
    "    print(x.shape)\n",
    "    x = LSTM(32, activation='relu')(x)\n",
    "    #print(x.shape)\n",
    "\n",
    "    x = Dense(128, activation='relu')(x)\n",
    "    print(x.shape)\n",
    "    x = Dropout(0.3)(x)\n",
    "    out = Dense(N)(x)\n",
    "\n",
    "    model = Model(inp_feat, out)\n",
    "    opt = Adam(learning_rate=parameters[\"adam_learning_rate\"])\n",
    "    model.compile(optimizer=opt, loss=parameters[\"loss\"],\n",
    "                  metrics=[tf.keras.metrics.RootMeanSquaredError()])\n",
    "    model.summary()\n",
    "\n",
    "    callback = tf.keras.callbacks.EarlyStopping(monitor='val_loss',\n",
    "                                                patience=5,\n",
    "                                                restore_best_weights=True)\n",
    "\n",
    "    print(\"Model fitting initiated\")\n",
    "\n",
    "    history = model.fit(\n",
    "        trainX,\n",
    "        trainY,\n",
    "        epochs=parameters[\"epochs\"],\n",
    "        batch_size=parameters[\"batch_size\"],\n",
    "        shuffle=True,\n",
    "        verbose=1,\n",
    "        validation_data=(testX, testY),\n",
    "        callbacks=[callback]\n",
    "    )\n",
    "    \n",
    "    for epoch, loss in zip(range(parameters[\"epochs\"]), history.history['root_mean_squared_error']):\n",
    "        print(f\"Epoch {epoch + 1}/{parameters['epochs']} - Train Loss: {loss:.4f}\")\n",
    "        train_losses.append(loss)\n",
    "    \n",
    "\n",
    "    print(\"Model trained successfully\")\n",
    "\n",
    "    print(\"Scaling y_true and y_pred\")\n",
    "    y_true = unscale_data(testY)\n",
    "    y_pred = clean_prediction(unscale_data(model.predict(testX)))\n",
    "    print(\"Scaled y_true and y_pred\")\n",
    "\n",
    "    # Appending the metric meta-data into lists\n",
    "    epoch = []\n",
    "    metric_name = []\n",
    "    metric_val = []\n",
    "    for k, v in history.history.items():\n",
    "        for i in range(parameters[\"epochs\"]):\n",
    "            epoch.append(i + 1)\n",
    "            metric_name.append(k)\n",
    "            metric_val.append(v[i])\n",
    "\n",
    "    # Creating a dataframe using those lists created above\n",
    "    epoch_metric_plot = pd.DataFrame(dict(\n",
    "        epoch=epoch,\n",
    "        metric_name=metric_name,\n",
    "        metric_val=metric_val\n",
    "    ))\n",
    "\n",
    "    # Creating a plotly object to be shown on the kedro viz frontend\n",
    "    # fig = px.line(epoch_metric_plot, x=\"epoch\", y=\"metric_val\", color=\"metric_name\")\n",
    "\n",
    "    # Alternate type to store model: tensorflow.TensorFlowModelDataset with .h5 format instead of pickle with .pkl\n",
    "    return model, y_true, y_pred, epoch_metric_plot, train_losses"
   ]
  },
  {
   "cell_type": "code",
   "execution_count": 135,
   "id": "22bda055-f82c-4824-a1f6-4ba4bbbdc108",
   "metadata": {
    "tags": []
   },
   "outputs": [
    {
     "name": "stdout",
     "output_type": "stream",
     "text": [
      "Using gcn_filter ================\n",
      "Shape of Adjacency Matrix : (5277, 5277)\n",
      "Number of segments : 5277\n",
      "(None, 5277, 16)\n",
      "(None, 16, 5277)\n",
      "(None, 16, 5277)\n",
      "(None, 128)\n",
      "Model: \"model_2\"\n",
      "_________________________________________________________________\n",
      " Layer (type)                Output Shape              Param #   \n",
      "=================================================================\n",
      " input_3 (InputLayer)        [(None, 5277, 4)]         0         \n",
      "                                                                 \n",
      " gcn_conv_2 (GCNConv)        (None, 5277, 16)          80        \n",
      "                                                                 \n",
      " reshape_2 (Reshape)         (None, 16, 5277)          0         \n",
      "                                                                 \n",
      " lstm_2 (LSTM)               (None, 32)                679680    \n",
      "                                                                 \n",
      " dense_4 (Dense)             (None, 128)               4224      \n",
      "                                                                 \n",
      " dropout_2 (Dropout)         (None, 128)               0         \n",
      "                                                                 \n",
      " dense_5 (Dense)             (None, 5277)              680733    \n",
      "                                                                 \n",
      "=================================================================\n",
      "Total params: 1364717 (5.21 MB)\n",
      "Trainable params: 1364717 (5.21 MB)\n",
      "Non-trainable params: 0 (0.00 Byte)\n",
      "_________________________________________________________________\n",
      "Model fitting initiated\n",
      "Epoch 1/45\n",
      "1/1 [==============================] - 2s 2s/step - loss: 0.0155 - root_mean_squared_error: 0.1245 - val_loss: 0.0153 - val_root_mean_squared_error: 0.1238\n",
      "Epoch 2/45\n",
      "1/1 [==============================] - 0s 262ms/step - loss: 0.0153 - root_mean_squared_error: 0.1238 - val_loss: 0.0151 - val_root_mean_squared_error: 0.1230\n",
      "Epoch 3/45\n",
      "1/1 [==============================] - 1s 538ms/step - loss: 0.0151 - root_mean_squared_error: 0.1230 - val_loss: 0.0149 - val_root_mean_squared_error: 0.1219\n",
      "Epoch 4/45\n",
      "1/1 [==============================] - 0s 433ms/step - loss: 0.0149 - root_mean_squared_error: 0.1220 - val_loss: 0.0144 - val_root_mean_squared_error: 0.1201\n",
      "Epoch 5/45\n",
      "1/1 [==============================] - 0s 376ms/step - loss: 0.0145 - root_mean_squared_error: 0.1203 - val_loss: 0.0137 - val_root_mean_squared_error: 0.1171\n",
      "Epoch 6/45\n",
      "1/1 [==============================] - 0s 293ms/step - loss: 0.0138 - root_mean_squared_error: 0.1175 - val_loss: 0.0127 - val_root_mean_squared_error: 0.1126\n",
      "Epoch 7/45\n",
      "1/1 [==============================] - 0s 317ms/step - loss: 0.0130 - root_mean_squared_error: 0.1140 - val_loss: 0.0113 - val_root_mean_squared_error: 0.1063\n",
      "Epoch 8/45\n",
      "1/1 [==============================] - 0s 192ms/step - loss: 0.0118 - root_mean_squared_error: 0.1088 - val_loss: 0.0099 - val_root_mean_squared_error: 0.0996\n",
      "Epoch 9/45\n",
      "1/1 [==============================] - 0s 384ms/step - loss: 0.0111 - root_mean_squared_error: 0.1051 - val_loss: 0.0088 - val_root_mean_squared_error: 0.0941\n",
      "Epoch 10/45\n",
      "1/1 [==============================] - 0s 214ms/step - loss: 0.0100 - root_mean_squared_error: 0.0998 - val_loss: 0.0081 - val_root_mean_squared_error: 0.0900\n",
      "Epoch 11/45\n",
      "1/1 [==============================] - 0s 196ms/step - loss: 0.0090 - root_mean_squared_error: 0.0946 - val_loss: 0.0076 - val_root_mean_squared_error: 0.0870\n",
      "Epoch 12/45\n",
      "1/1 [==============================] - 0s 386ms/step - loss: 0.0082 - root_mean_squared_error: 0.0906 - val_loss: 0.0070 - val_root_mean_squared_error: 0.0837\n",
      "Epoch 13/45\n",
      "1/1 [==============================] - 0s 212ms/step - loss: 0.0077 - root_mean_squared_error: 0.0876 - val_loss: 0.0065 - val_root_mean_squared_error: 0.0807\n",
      "Epoch 14/45\n",
      "1/1 [==============================] - 0s 379ms/step - loss: 0.0073 - root_mean_squared_error: 0.0856 - val_loss: 0.0062 - val_root_mean_squared_error: 0.0789\n",
      "Epoch 15/45\n",
      "1/1 [==============================] - 0s 209ms/step - loss: 0.0071 - root_mean_squared_error: 0.0844 - val_loss: 0.0061 - val_root_mean_squared_error: 0.0781\n",
      "Epoch 16/45\n",
      "1/1 [==============================] - 0s 342ms/step - loss: 0.0070 - root_mean_squared_error: 0.0836 - val_loss: 0.0060 - val_root_mean_squared_error: 0.0778\n",
      "Epoch 17/45\n",
      "1/1 [==============================] - 0s 204ms/step - loss: 0.0067 - root_mean_squared_error: 0.0820 - val_loss: 0.0061 - val_root_mean_squared_error: 0.0781\n",
      "Epoch 18/45\n",
      "1/1 [==============================] - 0s 240ms/step - loss: 0.0067 - root_mean_squared_error: 0.0816 - val_loss: 0.0061 - val_root_mean_squared_error: 0.0779\n",
      "Epoch 19/45\n",
      "1/1 [==============================] - 0s 398ms/step - loss: 0.0065 - root_mean_squared_error: 0.0805 - val_loss: 0.0059 - val_root_mean_squared_error: 0.0770\n",
      "Epoch 20/45\n",
      "1/1 [==============================] - 0s 212ms/step - loss: 0.0064 - root_mean_squared_error: 0.0797 - val_loss: 0.0057 - val_root_mean_squared_error: 0.0758\n",
      "Epoch 21/45\n",
      "1/1 [==============================] - 0s 208ms/step - loss: 0.0062 - root_mean_squared_error: 0.0788 - val_loss: 0.0056 - val_root_mean_squared_error: 0.0751\n",
      "Epoch 22/45\n",
      "1/1 [==============================] - 0s 375ms/step - loss: 0.0062 - root_mean_squared_error: 0.0787 - val_loss: 0.0056 - val_root_mean_squared_error: 0.0745\n",
      "Epoch 23/45\n",
      "1/1 [==============================] - 0s 310ms/step - loss: 0.0062 - root_mean_squared_error: 0.0784 - val_loss: 0.0055 - val_root_mean_squared_error: 0.0741\n",
      "Epoch 24/45\n",
      "1/1 [==============================] - 0s 216ms/step - loss: 0.0060 - root_mean_squared_error: 0.0773 - val_loss: 0.0055 - val_root_mean_squared_error: 0.0740\n",
      "Epoch 25/45\n",
      "1/1 [==============================] - 0s 198ms/step - loss: 0.0059 - root_mean_squared_error: 0.0767 - val_loss: 0.0055 - val_root_mean_squared_error: 0.0739\n",
      "Epoch 26/45\n",
      "1/1 [==============================] - 0s 254ms/step - loss: 0.0059 - root_mean_squared_error: 0.0769 - val_loss: 0.0054 - val_root_mean_squared_error: 0.0735\n",
      "Epoch 27/45\n",
      "1/1 [==============================] - 0s 360ms/step - loss: 0.0058 - root_mean_squared_error: 0.0764 - val_loss: 0.0053 - val_root_mean_squared_error: 0.0729\n",
      "Epoch 28/45\n",
      "1/1 [==============================] - 0s 482ms/step - loss: 0.0057 - root_mean_squared_error: 0.0753 - val_loss: 0.0053 - val_root_mean_squared_error: 0.0725\n",
      "Epoch 29/45\n",
      "1/1 [==============================] - 0s 319ms/step - loss: 0.0057 - root_mean_squared_error: 0.0753 - val_loss: 0.0052 - val_root_mean_squared_error: 0.0723\n",
      "Epoch 30/45\n",
      "1/1 [==============================] - 0s 303ms/step - loss: 0.0056 - root_mean_squared_error: 0.0752 - val_loss: 0.0052 - val_root_mean_squared_error: 0.0721\n",
      "Epoch 31/45\n",
      "1/1 [==============================] - 0s 366ms/step - loss: 0.0056 - root_mean_squared_error: 0.0749 - val_loss: 0.0052 - val_root_mean_squared_error: 0.0720\n",
      "Epoch 32/45\n",
      "1/1 [==============================] - 0s 210ms/step - loss: 0.0056 - root_mean_squared_error: 0.0751 - val_loss: 0.0052 - val_root_mean_squared_error: 0.0719\n",
      "Epoch 33/45\n",
      "1/1 [==============================] - 1s 508ms/step - loss: 0.0056 - root_mean_squared_error: 0.0747 - val_loss: 0.0052 - val_root_mean_squared_error: 0.0720\n",
      "Epoch 34/45\n",
      "1/1 [==============================] - 1s 576ms/step - loss: 0.0055 - root_mean_squared_error: 0.0740 - val_loss: 0.0052 - val_root_mean_squared_error: 0.0722\n",
      "Epoch 35/45\n",
      "1/1 [==============================] - 0s 306ms/step - loss: 0.0055 - root_mean_squared_error: 0.0743 - val_loss: 0.0052 - val_root_mean_squared_error: 0.0720\n",
      "Epoch 36/45\n",
      "1/1 [==============================] - 1s 597ms/step - loss: 0.0056 - root_mean_squared_error: 0.0746 - val_loss: 0.0051 - val_root_mean_squared_error: 0.0717\n",
      "Epoch 37/45\n",
      "1/1 [==============================] - 0s 425ms/step - loss: 0.0054 - root_mean_squared_error: 0.0735 - val_loss: 0.0051 - val_root_mean_squared_error: 0.0715\n",
      "Epoch 38/45\n",
      "1/1 [==============================] - 0s 343ms/step - loss: 0.0055 - root_mean_squared_error: 0.0739 - val_loss: 0.0051 - val_root_mean_squared_error: 0.0714\n",
      "Epoch 39/45\n",
      "1/1 [==============================] - 0s 220ms/step - loss: 0.0054 - root_mean_squared_error: 0.0735 - val_loss: 0.0051 - val_root_mean_squared_error: 0.0714\n",
      "Epoch 40/45\n",
      "1/1 [==============================] - 0s 336ms/step - loss: 0.0054 - root_mean_squared_error: 0.0738 - val_loss: 0.0051 - val_root_mean_squared_error: 0.0713\n",
      "Epoch 41/45\n",
      "1/1 [==============================] - 0s 363ms/step - loss: 0.0054 - root_mean_squared_error: 0.0735 - val_loss: 0.0051 - val_root_mean_squared_error: 0.0712\n",
      "Epoch 42/45\n",
      "1/1 [==============================] - 0s 209ms/step - loss: 0.0054 - root_mean_squared_error: 0.0735 - val_loss: 0.0051 - val_root_mean_squared_error: 0.0711\n",
      "Epoch 43/45\n",
      "1/1 [==============================] - 0s 322ms/step - loss: 0.0054 - root_mean_squared_error: 0.0732 - val_loss: 0.0050 - val_root_mean_squared_error: 0.0711\n",
      "Epoch 44/45\n",
      "1/1 [==============================] - 1s 510ms/step - loss: 0.0054 - root_mean_squared_error: 0.0732 - val_loss: 0.0050 - val_root_mean_squared_error: 0.0710\n",
      "Epoch 45/45\n",
      "1/1 [==============================] - 0s 231ms/step - loss: 0.0053 - root_mean_squared_error: 0.0730 - val_loss: 0.0050 - val_root_mean_squared_error: 0.0710\n",
      "Epoch 1/45 - Train Loss: 0.1245\n",
      "Epoch 2/45 - Train Loss: 0.1238\n",
      "Epoch 3/45 - Train Loss: 0.1230\n",
      "Epoch 4/45 - Train Loss: 0.1220\n",
      "Epoch 5/45 - Train Loss: 0.1203\n",
      "Epoch 6/45 - Train Loss: 0.1175\n",
      "Epoch 7/45 - Train Loss: 0.1140\n",
      "Epoch 8/45 - Train Loss: 0.1088\n",
      "Epoch 9/45 - Train Loss: 0.1051\n",
      "Epoch 10/45 - Train Loss: 0.0998\n",
      "Epoch 11/45 - Train Loss: 0.0946\n",
      "Epoch 12/45 - Train Loss: 0.0906\n",
      "Epoch 13/45 - Train Loss: 0.0876\n",
      "Epoch 14/45 - Train Loss: 0.0856\n",
      "Epoch 15/45 - Train Loss: 0.0844\n",
      "Epoch 16/45 - Train Loss: 0.0836\n",
      "Epoch 17/45 - Train Loss: 0.0820\n",
      "Epoch 18/45 - Train Loss: 0.0816\n",
      "Epoch 19/45 - Train Loss: 0.0805\n",
      "Epoch 20/45 - Train Loss: 0.0797\n",
      "Epoch 21/45 - Train Loss: 0.0788\n",
      "Epoch 22/45 - Train Loss: 0.0787\n",
      "Epoch 23/45 - Train Loss: 0.0784\n",
      "Epoch 24/45 - Train Loss: 0.0773\n",
      "Epoch 25/45 - Train Loss: 0.0767\n",
      "Epoch 26/45 - Train Loss: 0.0769\n",
      "Epoch 27/45 - Train Loss: 0.0764\n",
      "Epoch 28/45 - Train Loss: 0.0753\n",
      "Epoch 29/45 - Train Loss: 0.0753\n",
      "Epoch 30/45 - Train Loss: 0.0752\n",
      "Epoch 31/45 - Train Loss: 0.0749\n",
      "Epoch 32/45 - Train Loss: 0.0751\n",
      "Epoch 33/45 - Train Loss: 0.0747\n",
      "Epoch 34/45 - Train Loss: 0.0740\n",
      "Epoch 35/45 - Train Loss: 0.0743\n",
      "Epoch 36/45 - Train Loss: 0.0746\n",
      "Epoch 37/45 - Train Loss: 0.0735\n",
      "Epoch 38/45 - Train Loss: 0.0739\n",
      "Epoch 39/45 - Train Loss: 0.0735\n",
      "Epoch 40/45 - Train Loss: 0.0738\n",
      "Epoch 41/45 - Train Loss: 0.0735\n",
      "Epoch 42/45 - Train Loss: 0.0735\n",
      "Epoch 43/45 - Train Loss: 0.0732\n",
      "Epoch 44/45 - Train Loss: 0.0732\n",
      "Epoch 45/45 - Train Loss: 0.0730\n",
      "Model trained successfully\n",
      "Scaling y_true and y_pred\n",
      "1/1 [==============================] - 0s 212ms/step\n",
      "Scaled y_true and y_pred\n"
     ]
    }
   ],
   "source": [
    "tgcn_model, preprocessed_y_true, preprocessed_y_pred, epoch_metric_plot, tgcn_train_losses = train_tgcn_model(X_train, y_train, X_train, y_train, adjacency_matrix, preprocessed_segments, parameters['model_options'])"
   ]
  },
  {
   "cell_type": "code",
   "execution_count": 136,
   "id": "45c9aa2a-4dc2-474b-8416-59535eb6a0e2",
   "metadata": {
    "tags": []
   },
   "outputs": [
    {
     "data": {
      "text/plain": [
       "[<matplotlib.lines.Line2D at 0x7f06dd6ad350>]"
      ]
     },
     "execution_count": 136,
     "metadata": {},
     "output_type": "execute_result"
    },
    {
     "data": {
      "image/png": "[encoded data removed]",
      "text/plain": [
       "<Figure size 640x480 with 1 Axes>"
      ]
     },
     "metadata": {},
     "output_type": "display_data"
    }
   ],
   "source": [
    "plt.plot(tgcn_train_losses)"
   ]
  },
  {
   "cell_type": "markdown",
   "id": "325faefb-a0ff-458b-887b-7f133e2a4a23",
   "metadata": {},
   "source": [
    "# Testing"
   ]
  },
  {
   "cell_type": "markdown",
   "id": "e7707fdc-c577-4878-8980-98adc742987f",
   "metadata": {
    "tags": []
   },
   "source": [
    "## On Test Data"
   ]
  },
  {
   "cell_type": "code",
   "execution_count": 137,
   "id": "4fa53de0-532b-4e15-b3e3-d1a931539d1a",
   "metadata": {
    "tags": []
   },
   "outputs": [
    {
     "name": "stdout",
     "output_type": "stream",
     "text": [
      "1/1 [==============================] - 0s 63ms/step\n"
     ]
    },
    {
     "name": "stderr",
     "output_type": "stream",
     "text": [
      "2023-12-26 07:19:24,090 - distributed.utils_perf - WARNING - full garbage collections took 14% CPU time recently (threshold: 10%)\n",
      "2023-12-26 07:19:25,474 - distributed.utils_perf - WARNING - full garbage collections took 14% CPU time recently (threshold: 10%)\n",
      "2023-12-26 07:19:26,796 - distributed.utils_perf - WARNING - full garbage collections took 14% CPU time recently (threshold: 10%)\n",
      "2023-12-26 07:19:59,266 - distributed.utils_perf - WARNING - full garbage collections took 12% CPU time recently (threshold: 10%)\n",
      "2023-12-26 07:20:02,274 - distributed.utils_perf - WARNING - full garbage collections took 12% CPU time recently (threshold: 10%)\n",
      "2023-12-26 07:20:04,682 - distributed.utils_perf - WARNING - full garbage collections took 13% CPU time recently (threshold: 10%)\n"
     ]
    }
   ],
   "source": [
    "y_test_pred = clean_prediction(unscale_data(tgcn_model.predict(X_test.compute()))).T\n",
    "y_test_true = unscale_data(y_test.compute()).T"
   ]
  },
  {
   "cell_type": "code",
   "execution_count": 138,
   "id": "3aae58a6-e1a3-40a8-90b1-9b485c908a36",
   "metadata": {
    "tags": []
   },
   "outputs": [],
   "source": [
    "np.save(open(\"y_test_pred_1_hr_slot.npy\", \"wb\"), y_test_pred)\n",
    "np.save(open(\"y_test_true_1_hr_slot.npy\", \"wb\"), y_test_true)"
   ]
  },
  {
   "cell_type": "code",
   "execution_count": null,
   "id": "3d90f69c-1b8a-4b6a-8f6f-56a55204a924",
   "metadata": {},
   "outputs": [],
   "source": [
    "y_test_pred = np.load(open(\"y_test_pred_1_hr_slot.npy\", \"rb\"))\n",
    "y_test_true = np.load(open(\"y_test_true_1_hr_slot.npy\", \"rb\"))"
   ]
  },
  {
   "cell_type": "code",
   "execution_count": 100,
   "id": "5038b07b-76d0-43b0-8539-c8e8886788f6",
   "metadata": {
    "tags": []
   },
   "outputs": [],
   "source": [
    "from collections import defaultdict"
   ]
  },
  {
   "cell_type": "code",
   "execution_count": 139,
   "id": "eaa3f411-b54b-4d03-a9e8-ec6572250b7a",
   "metadata": {
    "tags": []
   },
   "outputs": [],
   "source": [
    "y_test_pred = clean_prediction(y_test_pred)"
   ]
  },
  {
   "cell_type": "code",
   "execution_count": 102,
   "id": "a6ecbff7",
   "metadata": {
    "tags": []
   },
   "outputs": [],
   "source": [
    "replace_x_vals = [i+6 for i in range(0,64*20,64)]"
   ]
  },
  {
   "cell_type": "code",
   "execution_count": 140,
   "id": "563f302b-29f7-4855-bf90-6a2ceaa8ff09",
   "metadata": {
    "tags": []
   },
   "outputs": [
    {
     "data": {
      "image/png": "[encoded data removed]",
      "text/plain": [
       "<Figure size 1000x500 with 1 Axes>"
      ]
     },
     "metadata": {},
     "output_type": "display_data"
    }
   ],
   "source": [
    "# Plotting for random indices\n",
    "random_segments_indices = [15, 7, 1084, 4526, 2312, 785]\n",
    "x_vals = [0]\n",
    "for j in [100]:#range(0,5277,20):\n",
    "    y_true_vis = []\n",
    "    y_pred_vis = []\n",
    "    for random_segment_index in range(j, j+20):\n",
    "\n",
    "        #for i in range(preprocessed_y_true.shape[0]):\n",
    "        for i in range(12):\n",
    "            y_true_vis.append(y_test_true[random_segment_index][i]/60)\n",
    "            y_pred_vis.append(y_test_pred[random_segment_index][i]/60)\n",
    "        x_vals.append(len(y_pred_vis))\n",
    "    \n",
    "    plt.figure(figsize=(10, 5))\n",
    "    for val in x_vals:\n",
    "        plt.axvline(x=val, linestyle='--', color='black', lw=0.5)\n",
    "    plt.plot(y_true_vis, label=\"True\")\n",
    "    plt.plot(y_pred_vis, label=\"Predicted\")\n",
    "    plt.xlabel(\"Segment ID\")\n",
    "    plt.legend()\n",
    "    plt.ylabel(\"Dwell time in minutes\")\n",
    "    plt.show()"
   ]
  },
  {
   "cell_type": "code",
   "execution_count": 141,
   "id": "54c9b927-5495-4be8-9be2-192ca9091876",
   "metadata": {
    "tags": []
   },
   "outputs": [],
   "source": [
    "def evaluate_model(y_true, y_pred):\n",
    "    \"\"\"Model evaluation and Model inference.\n",
    "\n",
    "        Args:\n",
    "            y_true : True Y data from the original test set\n",
    "            y_pred : Predicted Y data using the original test set\n",
    "            test_ex_per_hour : Number of rows in the test data\n",
    "            segments_visualize : segments meta-data for dwell time inference plots\n",
    "            segments: List of segments to consider for training the model\n",
    "        Returns: Multiple variables within a Tuple\n",
    "            metric_output : JSON data to log metrics into the experiments\n",
    "            hex_evaluation_plot : List of matplotlib plots to be showcased in the kedro experiments\n",
    "    \"\"\"\n",
    "    print(f'MSE : {mean_squared_error(y_true, y_pred)}')\n",
    "    print(f'RMSE : {math.sqrt(mean_squared_error(y_true, y_pred))}')\n",
    "    print(f'R-squared : {r2_score(y_true, y_pred)}')\n",
    "    print(f'MAE : {mean_absolute_error(y_true, y_pred)}')\n",
    "\n",
    "    # Log metric output in a dictionary to show it on the kedro viz frontend\n",
    "    # Reference - https://kedro.readthedocs.io/en/stable/visualisation/experiment_tracking.html#set-up-your-nodes-and-pipelines-to-log-metrics\n",
    "    metric_output = {\"MSE\": mean_squared_error(y_true, y_pred),\n",
    "                     \"RMSE\": math.sqrt(mean_squared_error(y_true, y_pred)),\n",
    "                     \"R-squared\": r2_score(y_true, y_pred),\n",
    "                     \"MAE\": mean_absolute_error(y_true, y_pred)}\n",
    "    return metric_output"
   ]
  },
  {
   "cell_type": "code",
   "execution_count": 142,
   "id": "7e593ca3",
   "metadata": {
    "tags": []
   },
   "outputs": [
    {
     "data": {
      "image/png": "[encoded data removed]",
      "text/plain": [
       "<Figure size 640x480 with 1 Axes>"
      ]
     },
     "metadata": {},
     "output_type": "display_data"
    }
   ],
   "source": [
    "for t_slot in [7]:#tqdm(range(12)):\n",
    "    error_list = [abs(y_test_true[i][t_slot]-y_test_pred[i][t_slot])/60 for i in range(5277) if abs(y_test_true[i][t_slot]-y_test_pred[i][t_slot])<500]\n",
    "    plt.hist(error_list, bins=20)\n",
    "    plt.xlabel(\"Absolute Errors in minutes\")\n",
    "    plt.ylabel(\"Number of segments\")\n",
    "    plt.show()"
   ]
  },
  {
   "cell_type": "code",
   "execution_count": 143,
   "id": "9822eaac-f716-48a0-817c-f1958833d60f",
   "metadata": {
    "tags": []
   },
   "outputs": [
    {
     "name": "stderr",
     "output_type": "stream",
     "text": [
      "100%|██████████| 12/12 [00:00<00:00, 526.36it/s]"
     ]
    },
    {
     "name": "stdout",
     "output_type": "stream",
     "text": [
      "MSE : 10379.33586196152\n",
      "RMSE : 101.87902562334172\n",
      "R-squared : 0.1544038131454719\n",
      "MAE : 50.21582947559088\n",
      "MSE : 9495.562187408797\n",
      "RMSE : 97.44517529056426\n",
      "R-squared : 0.23228564188935574\n",
      "MAE : 48.33365358115987\n",
      "MSE : 9959.03399305362\n",
      "RMSE : 99.79495975776341\n",
      "R-squared : 0.24702513811329607\n",
      "MAE : 49.13320769141267\n",
      "MSE : 8809.64619903811\n",
      "RMSE : 93.85971552821854\n",
      "R-squared : 0.2133571025226787\n",
      "MAE : 46.35631709471285\n",
      "MSE : 9332.406115922982\n",
      "RMSE : 96.60437938273286\n",
      "R-squared : 0.27541547162985014\n",
      "MAE : 46.629656742942174\n",
      "MSE : 8224.919824624547\n",
      "RMSE : 90.69134371385478\n",
      "R-squared : 0.2513545296603127\n",
      "MAE : 45.95303627310397\n",
      "MSE : 9293.999730505802\n",
      "RMSE : 96.40539264224695\n",
      "R-squared : 0.2494220180612663\n",
      "MAE : 46.91514302657309\n",
      "MSE : 10151.13720835633\n",
      "RMSE : 100.75285211028186\n",
      "R-squared : 0.2661001643364609\n",
      "MAE : 48.2662193807541\n",
      "MSE : 9793.17879395214\n",
      "RMSE : 98.96049107574265\n",
      "R-squared : 0.29862485204491196\n",
      "MAE : 47.10169407782072\n",
      "MSE : 11550.063702081856\n",
      "RMSE : 107.47122266952142\n",
      "R-squared : 0.308936516352716\n",
      "MAE : 49.425336030230724\n",
      "MSE : 11706.672330012285\n",
      "RMSE : 108.1973767242639\n",
      "R-squared : 0.2610123925570452\n",
      "MAE : 52.193630166361956\n",
      "MSE : 11579.320248921436\n",
      "RMSE : 107.6072499830817\n",
      "R-squared : 0.2213074924179581\n",
      "MAE : 53.63016604386934\n"
     ]
    },
    {
     "name": "stderr",
     "output_type": "stream",
     "text": [
      "\n"
     ]
    }
   ],
   "source": [
    "metric_dict = defaultdict(list)\n",
    "for time_slot in tqdm([i for i in range(12)]):\n",
    "    metrics = evaluate_model(y_test_true[:,time_slot], y_test_pred[:,time_slot])\n",
    "    metric_dict['RMSE'].append(metrics['RMSE'])\n",
    "    metric_dict['MAE'].append(metrics['MAE'])"
   ]
  },
  {
   "cell_type": "code",
   "execution_count": 144,
   "id": "0b2b0c0a-2c75-4a72-aaef-8fae4dd50fd6",
   "metadata": {
    "tags": []
   },
   "outputs": [
    {
     "data": {
      "text/plain": [
       "99.97243204180116"
      ]
     },
     "execution_count": 144,
     "metadata": {},
     "output_type": "execute_result"
    }
   ],
   "source": [
    "np.mean(metric_dict['RMSE'])"
   ]
  },
  {
   "cell_type": "code",
   "execution_count": 145,
   "id": "7dc38c2f-6716-442b-8498-3c8e080eab86",
   "metadata": {
    "tags": []
   },
   "outputs": [
    {
     "data": {
      "image/png": "[encoded data removed]",
      "text/plain": [
       "<Figure size 640x480 with 1 Axes>"
      ]
     },
     "metadata": {},
     "output_type": "display_data"
    }
   ],
   "source": [
    "metric_dict = dict(metric_dict)\n",
    "metric_dict['RMSE'] = [i/60 for i in metric_dict['RMSE']]\n",
    "metric_dict['MAE'] = [i/60 for i in metric_dict['MAE']]\n",
    "times = [i for i in range(12)]\n",
    "plt.bar(times,metric_dict['RMSE'])\n",
    "#plt.bar(times, metric_dict['MAE'])\n",
    "#plt.xticks(times)\n",
    "plt.show()"
   ]
  },
  {
   "cell_type": "code",
   "execution_count": 146,
   "id": "91c27423-4b51-4cb8-931b-9ce983154271",
   "metadata": {
    "tags": []
   },
   "outputs": [
    {
     "name": "stdout",
     "output_type": "stream",
     "text": [
      "1.6662072006966862\n"
     ]
    }
   ],
   "source": [
    "print(np.mean(metric_dict['RMSE']))"
   ]
  },
  {
   "cell_type": "code",
   "execution_count": 147,
   "id": "fc9cc82f-1d5a-4f3a-9e5b-6262182922dc",
   "metadata": {
    "tags": []
   },
   "outputs": [
    {
     "name": "stdout",
     "output_type": "stream",
     "text": [
      "MSE : 10022.939682986618\n",
      "RMSE : 100.1146327116402\n",
      "R-squared : 0.2482704277276103\n",
      "MAE : 48.679490798711015\n"
     ]
    }
   ],
   "source": [
    "metrics = evaluate_model(y_test_true, y_test_pred)"
   ]
  },
  {
   "cell_type": "markdown",
   "id": "48fed0a8-d7cf-4c42-b316-65439477581e",
   "metadata": {
    "tags": []
   },
   "source": [
    "# Predicting ETA"
   ]
  },
  {
   "cell_type": "code",
   "execution_count": 111,
   "id": "cafa9634-7599-46bc-9f9b-dcd964396fbd",
   "metadata": {
    "tags": []
   },
   "outputs": [],
   "source": [
    "def get_dwelltime(seg_indices, y_now):\n",
    "    dwelltime = 0\n",
    "    for seg_index in seg_indices:\n",
    "        #print(len(y_now), seg_index)\n",
    "        if y_now[int(seg_index)]>0:\n",
    "            dwelltime += y_now[int(seg_index)]\n",
    "    if len(seg_indices) == 0:\n",
    "        return 0\n",
    "    return dwelltime"
   ]
  },
  {
   "cell_type": "code",
   "execution_count": 112,
   "id": "8184127f-f0d8-48b5-bfad-1c7465d5431e",
   "metadata": {
    "tags": []
   },
   "outputs": [],
   "source": [
    "def dist_between_stops(segment_list):\n",
    "    if len(segment_list)==0:\n",
    "        return 0\n",
    "    total_dist = 0\n",
    "    for seg in segment_list:\n",
    "        total_dist += new_segment_dict[seg]['length']\n",
    "    return total_dist"
   ]
  },
  {
   "cell_type": "markdown",
   "id": "0ba229ac-2e3f-4d4b-8b3f-a072bd2cc2eb",
   "metadata": {},
   "source": [
    "## Get Bus stop segments"
   ]
  },
  {
   "cell_type": "code",
   "execution_count": 113,
   "id": "a3f0f77b-45ba-4990-b2a1-f606565dc0fa",
   "metadata": {
    "tags": []
   },
   "outputs": [],
   "source": [
    "surat_bus_stop_df = pd.read_json(\"./surat_bus_stop.json\")"
   ]
  },
  {
   "cell_type": "code",
   "execution_count": 114,
   "id": "37a055be-a0f9-4581-ab64-f51b557d2e5c",
   "metadata": {
    "tags": []
   },
   "outputs": [],
   "source": [
    "def get_route_segment_dict(route_id):\n",
    "    route_segment_dict = {}\n",
    "    for seg in route_to_segments[route_id]:\n",
    "        if seg == -1:\n",
    "            continue\n",
    "        route_segment_dict[seg] = new_segment_dict[seg]\n",
    "    return route_segment_dict"
   ]
  },
  {
   "cell_type": "code",
   "execution_count": 115,
   "id": "925f3e56-b14e-4596-a769-f56d5bcab9b8",
   "metadata": {
    "tags": []
   },
   "outputs": [],
   "source": [
    "def get_stop_segments(route_id, stops, route_segment_dict):\n",
    "    stop_segments = []\n",
    "    coord_seg_dict = {}\n",
    "    for coord in tqdm(stops):\n",
    "        seg = geo_to_segment(coord[1], coord[0], h3_to_seg, route_segment_dict)\n",
    "        if seg == -1:\n",
    "            continue\n",
    "        if seg is not None and seg in route_to_segments[route_id]:\n",
    "            stop_segments.append(seg)\n",
    "            coord_seg_dict[tuple(coord)] = seg\n",
    "    return stop_segments\n",
    "    return stop_segments, coord_seg_dict"
   ]
  },
  {
   "cell_type": "code",
   "execution_count": 116,
   "id": "eb48dadb-2318-466f-b434-bf1228d4aa39",
   "metadata": {
    "tags": []
   },
   "outputs": [],
   "source": [
    "def get_bus_stop_segments(route_id):\n",
    "    stop_coordinates = surat_bus_stop_df[surat_bus_stop_df['route_id']==route_id]['location'].tolist()[1]['coordinates']\n",
    "    route_segment_dict = get_route_segment_dict(route_id)\n",
    "    return get_stop_segments(route_id, stop_coordinates, route_segment_dict)"
   ]
  },
  {
   "cell_type": "code",
   "execution_count": 117,
   "id": "f75d6c3b-be7d-4044-b54b-a3b015b5aa4a",
   "metadata": {
    "tags": []
   },
   "outputs": [],
   "source": [
    "selected_route_id = '903D'"
   ]
  },
  {
   "cell_type": "code",
   "execution_count": 120,
   "id": "2347a1be-3299-4fcb-901f-5dd53af685ff",
   "metadata": {
    "tags": []
   },
   "outputs": [
    {
     "name": "stderr",
     "output_type": "stream",
     "text": [
      "100%|██████████| 21/21 [00:00<00:00, 4858.80it/s]\n"
     ]
    }
   ],
   "source": [
    "stops = get_bus_stop_segments(selected_route_id)"
   ]
  },
  {
   "cell_type": "code",
   "execution_count": 121,
   "id": "62ea28d6-a326-42c2-acd6-a29e2f501a03",
   "metadata": {
    "tags": []
   },
   "outputs": [],
   "source": [
    "selected_time_slot = 0\n",
    "y_true_now = y_test_true.T[selected_time_slot]\n",
    "y_pred_now = y_test_pred.T[selected_time_slot]"
   ]
  },
  {
   "cell_type": "code",
   "execution_count": 122,
   "id": "82a4b123-cc51-4da9-b2c7-5128fc515d96",
   "metadata": {
    "tags": []
   },
   "outputs": [],
   "source": [
    "def stop_time(route_id):\n",
    "    stops_time_pred_dict = {}\n",
    "    stops_time_dict = {}\n",
    "    total_true_time = 0\n",
    "    total_pred_time = 0\n",
    "    curr_time_slot_true = 0\n",
    "    curr_time_slot_pred = 0\n",
    "    stop_segments = get_bus_stop_segments(route_id)\n",
    "    for seg_idx in range(len(stop_segments[1:])):\n",
    "        y_true_now = y_test_true.T[curr_time_slot_true%12]\n",
    "        y_pred_now = y_test_pred.T[curr_time_slot_pred%12]\n",
    "        index1 = route_to_segments[route_id].index(stop_segments[seg_idx-1])\n",
    "        index2 = route_to_segments[route_id].index(stop_segments[seg_idx])\n",
    "        seg_list = route_to_segments[route_id][index1:index2+1]\n",
    "        try:\n",
    "            curr_dwelltime_pred = get_dwelltime(seg_list, y_pred_now)/60\n",
    "            curr_dwelltime = get_dwelltime(seg_list, y_true_now)/60\n",
    "        except:\n",
    "            curr_dwelltime_pred = 0\n",
    "            curr_dwelltime = 0\n",
    "            \n",
    "        total_true_time += curr_dwelltime\n",
    "        total_pred_time += curr_dwelltime_pred\n",
    "        \n",
    "        # (FROM, TO) -> Time taken\n",
    "        stops_time_pred_dict[(stop_segments[seg_idx-1], stop_segments[seg_idx])] = curr_dwelltime_pred\n",
    "        stops_time_dict[(stop_segments[seg_idx-1], stop_segments[seg_idx])] = curr_dwelltime\n",
    "    \n",
    "    if total_pred_time > 60:\n",
    "        total_pred_time -= 60\n",
    "        curr_time_slot_pred += 1\n",
    "    if total_true_time > 60:\n",
    "        total_true_time -= 60\n",
    "        curr_time_slot_true += 1\n",
    "    \n",
    "    return list(stops_time_pred_dict.values()), list(stops_time_dict.values())"
   ]
  },
  {
   "cell_type": "code",
   "execution_count": 123,
   "id": "8766bb31-f7c1-4965-a451-1121044e44a9",
   "metadata": {
    "tags": []
   },
   "outputs": [
    {
     "name": "stderr",
     "output_type": "stream",
     "text": [
      "100%|██████████| 21/21 [00:00<00:00, 4976.57it/s]\n"
     ]
    }
   ],
   "source": [
    "stops_eta_pred, stops_eta_true = stop_time(selected_route_id)"
   ]
  },
  {
   "cell_type": "code",
   "execution_count": 124,
   "id": "dcaf646c-0d31-4779-b223-4b83c7d37e76",
   "metadata": {
    "tags": []
   },
   "outputs": [
    {
     "data": {
      "text/plain": [
       "[0.0,\n",
       " 2.4401248772939046,\n",
       " 8.225677299499512,\n",
       " 2.534887186686198,\n",
       " 6.968540032704671,\n",
       " 14.893380935986837,\n",
       " 7.152960141499837,\n",
       " 3.522942860921224,\n",
       " 2.2913321177164714,\n",
       " 5.32004534403483,\n",
       " 3.647076416015625,\n",
       " 3.8205556233723956,\n",
       " 4.731411298116048,\n",
       " 7.947419738769531,\n",
       " 4.702302130063375,\n",
       " 4.311279074350993]"
      ]
     },
     "execution_count": 124,
     "metadata": {},
     "output_type": "execute_result"
    }
   ],
   "source": [
    "stops_eta_pred"
   ]
  },
  {
   "cell_type": "code",
   "execution_count": 125,
   "id": "2a76102f-61c3-4d3f-9b0c-e0201bf411df",
   "metadata": {
    "tags": []
   },
   "outputs": [
    {
     "data": {
      "text/plain": [
       "[0.0,\n",
       " 1.7335068372056444,\n",
       " 4.206915149650913,\n",
       " 2.2467704663829324,\n",
       " 4.643222010502994,\n",
       " 19.502916963150053,\n",
       " 5.532154388867725,\n",
       " 3.1201199615681703,\n",
       " 2.0802955618453045,\n",
       " 4.593231268248739,\n",
       " 3.054763995332496,\n",
       " 3.664367971173401,\n",
       " 3.3159458654747396,\n",
       " 4.206403969631383,\n",
       " 4.308907589912194,\n",
       " 4.431660824200654]"
      ]
     },
     "execution_count": 125,
     "metadata": {},
     "output_type": "execute_result"
    }
   ],
   "source": [
    "stops_eta_true"
   ]
  },
  {
   "cell_type": "code",
   "execution_count": 126,
   "id": "65cdf5ec-ddb7-433b-a72c-aaa59a55ed0e",
   "metadata": {
    "tags": []
   },
   "outputs": [
    {
     "data": {
      "text/plain": [
       "3.9353859704023924"
      ]
     },
     "execution_count": 126,
     "metadata": {},
     "output_type": "execute_result"
    }
   ],
   "source": [
    "np.median(stops_eta_true)"
   ]
  },
  {
   "cell_type": "code",
   "execution_count": 127,
   "id": "6e1b1936-84fe-4a42-8d53-5900243e139d",
   "metadata": {
    "tags": []
   },
   "outputs": [
    {
     "data": {
      "image/png": "[encoded data removed]",
      "text/plain": [
       "<Figure size 2000x500 with 1 Axes>"
      ]
     },
     "metadata": {},
     "output_type": "display_data"
    }
   ],
   "source": [
    "x = [i for i in range(len(stops_eta_true))]\n",
    "plt.figure(figsize=(20, 5))\n",
    "sns.scatterplot(y=stops_eta_true, x=x, label='True')\n",
    "sns.scatterplot(y=stops_eta_pred, x=x, label='Prediction')\n",
    "plt.title(f'Test result for bus stops ETA route {selected_route_id}')\n",
    "plt.xlabel('Bus Stop Interval')\n",
    "plt.ylabel('Dwell Time (in minutes)')\n",
    "plt.plot()\n",
    "plt.show()"
   ]
  },
  {
   "cell_type": "code",
   "execution_count": 128,
   "id": "fd6b9a68-698a-4b25-add9-87c928795ca6",
   "metadata": {
    "tags": []
   },
   "outputs": [],
   "source": [
    "stops_eta_vals = []\n",
    "stops_eta_pred_vals = []\n",
    "curr_val_true = 0\n",
    "curr_val_pred = 0\n",
    "for index in range(len(stops_eta_pred)):\n",
    "    stops_eta_vals.append(curr_val_true+stops_eta_true[index])\n",
    "    curr_val_true += stops_eta_true[index]\n",
    "    stops_eta_pred_vals.append(curr_val_pred+stops_eta_pred[index])\n",
    "    curr_val_pred += stops_eta_pred[index]"
   ]
  },
  {
   "cell_type": "code",
   "execution_count": 129,
   "id": "4a5047df-093b-49fa-9f94-21ae8f35331d",
   "metadata": {
    "tags": []
   },
   "outputs": [
    {
     "data": {
      "image/png": "[encoded data removed]",
      "text/plain": [
       "<Figure size 1500x500 with 1 Axes>"
      ]
     },
     "metadata": {},
     "output_type": "display_data"
    },
    {
     "name": "stdout",
     "output_type": "stream",
     "text": [
      "Absolute error in prediction = 11.868752253884125\n"
     ]
    }
   ],
   "source": [
    "y1 = [1 for _ in range(len(stops_eta_true))]\n",
    "y2 = [1.5 for _ in range(len(stops_eta_pred))]\n",
    "plt.figure(figsize=(15, 5))\n",
    "plt.ylim(0.7, 1.8)\n",
    "sns.lineplot(y=y1, x=stops_eta_vals, label='True', marker='o')\n",
    "sns.lineplot(y=y2, x=stops_eta_pred_vals, label='Prediction', marker='o')\n",
    "plt.title(f'Test result for bus stops ETA route {selected_route_id}')\n",
    "plt.xlabel('Travel time (in minutes)')\n",
    "plt.plot()\n",
    "plt.show()\n",
    "print(f'Absolute error in prediction = {abs(stops_eta_vals[-1] - stops_eta_pred_vals[-1])}')"
   ]
  },
  {
   "cell_type": "markdown",
   "id": "eab859ee-0399-4c23-acb1-7b32c5b56572",
   "metadata": {},
   "source": [
    "# Stop-wise prediction on Test Data"
   ]
  },
  {
   "cell_type": "code",
   "execution_count": 130,
   "id": "263cf257-15c8-4458-a869-f25a79a7b7c9",
   "metadata": {
    "tags": []
   },
   "outputs": [],
   "source": [
    "final_routes = ['706D',\n",
    " '105U',\n",
    " '01U',\n",
    " '22D',\n",
    " '903U',\n",
    " '112U',\n",
    " '305U',\n",
    " '12D',\n",
    " '403D',\n",
    " '402U',\n",
    " '903D',\n",
    " '658U',\n",
    " '136U',\n",
    " '205GU',\n",
    " '204D',\n",
    " '17AD',\n",
    " '213U',\n",
    " '716U',\n",
    " '17AU',\n",
    " '216BD',\n",
    " '706U',\n",
    " '206D',\n",
    " '410U',\n",
    " '20D',\n",
    " '504D',\n",
    " '118U',\n",
    " '402D',\n",
    " '11D',\n",
    " '207ED',\n",
    " '12U',\n",
    " '17AEU',\n",
    " '17AED',\n",
    " '504U',\n",
    " '205GD',\n",
    " '213D',\n",
    " '206U',\n",
    " '207EU',\n",
    " '403U',\n",
    " '658D',\n",
    " '716D',\n",
    " '254U',\n",
    " '254D',\n",
    " '16U',\n",
    " '136D',\n",
    " '305D',\n",
    " '118D',\n",
    " '14D',\n",
    " '02U',\n",
    " '302D',\n",
    " '302U',\n",
    " '105D']"
   ]
  },
  {
   "cell_type": "code",
   "execution_count": null,
   "id": "889e2d6c-77ea-4c1c-a0b5-13f2946ec3d3",
   "metadata": {},
   "outputs": [],
   "source": []
  }
 ],
 "metadata": {
  "kernelspec": {
   "display_name": "Python 3 (ipykernel)",
   "language": "python",
   "name": "python3"
  },
  "language_info": {
   "codemirror_mode": {
    "name": "ipython",
    "version": 3
   },
   "file_extension": ".py",
   "mimetype": "text/x-python",
   "name": "python",
   "nbconvert_exporter": "python",
   "pygments_lexer": "ipython3",
   "version": "3.11.6"
  }
 },
 "nbformat": 4,
 "nbformat_minor": 5
}
