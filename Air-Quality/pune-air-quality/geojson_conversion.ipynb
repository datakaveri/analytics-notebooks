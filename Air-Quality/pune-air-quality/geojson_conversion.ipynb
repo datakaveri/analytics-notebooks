{
 "cells": [
  {
   "cell_type": "code",
   "execution_count": 32,
   "id": "2f0964ab",
   "metadata": {},
   "outputs": [],
   "source": [
    "import pandas as pd"
   ]
  },
  {
   "cell_type": "code",
   "execution_count": 33,
   "id": "191d3109",
   "metadata": {},
   "outputs": [],
   "source": [
    "df = pd.read_csv('binnedatmosphericPressure_interpolated_data.csv')"
   ]
  },
  {
   "cell_type": "code",
   "execution_count": 34,
   "id": "6d453945",
   "metadata": {},
   "outputs": [
    {
     "data": {
      "text/html": [
       "<div>\n",
       "<style scoped>\n",
       "    .dataframe tbody tr th:only-of-type {\n",
       "        vertical-align: middle;\n",
       "    }\n",
       "\n",
       "    .dataframe tbody tr th {\n",
       "        vertical-align: top;\n",
       "    }\n",
       "\n",
       "    .dataframe thead th {\n",
       "        text-align: right;\n",
       "    }\n",
       "</style>\n",
       "<table border=\"1\" class=\"dataframe\">\n",
       "  <thead>\n",
       "    <tr style=\"text-align: right;\">\n",
       "      <th></th>\n",
       "      <th>Unnamed: 0</th>\n",
       "      <th>0</th>\n",
       "      <th>1</th>\n",
       "      <th>2</th>\n",
       "      <th>3</th>\n",
       "      <th>4</th>\n",
       "      <th>5</th>\n",
       "      <th>6</th>\n",
       "      <th>7</th>\n",
       "      <th>8</th>\n",
       "      <th>...</th>\n",
       "      <th>473</th>\n",
       "      <th>474</th>\n",
       "      <th>475</th>\n",
       "      <th>476</th>\n",
       "      <th>477</th>\n",
       "      <th>478</th>\n",
       "      <th>479</th>\n",
       "      <th>latitude</th>\n",
       "      <th>longitude</th>\n",
       "      <th>hex_id</th>\n",
       "    </tr>\n",
       "  </thead>\n",
       "  <tbody>\n",
       "    <tr>\n",
       "      <th>0</th>\n",
       "      <td>0</td>\n",
       "      <td>381.297216</td>\n",
       "      <td>381.411697</td>\n",
       "      <td>381.574261</td>\n",
       "      <td>381.789055</td>\n",
       "      <td>382.056395</td>\n",
       "      <td>382.372673</td>\n",
       "      <td>382.730591</td>\n",
       "      <td>383.119720</td>\n",
       "      <td>383.527316</td>\n",
       "      <td>...</td>\n",
       "      <td>423.118559</td>\n",
       "      <td>423.172481</td>\n",
       "      <td>423.195405</td>\n",
       "      <td>423.195342</td>\n",
       "      <td>423.182973</td>\n",
       "      <td>423.170593</td>\n",
       "      <td>423.170957</td>\n",
       "      <td>18.437118</td>\n",
       "      <td>73.74385</td>\n",
       "      <td>8860885637fffff</td>\n",
       "    </tr>\n",
       "    <tr>\n",
       "      <th>1</th>\n",
       "      <td>1</td>\n",
       "      <td>380.861388</td>\n",
       "      <td>380.982039</td>\n",
       "      <td>381.149225</td>\n",
       "      <td>381.366876</td>\n",
       "      <td>381.635187</td>\n",
       "      <td>381.950530</td>\n",
       "      <td>382.305694</td>\n",
       "      <td>382.690429</td>\n",
       "      <td>383.092253</td>\n",
       "      <td>...</td>\n",
       "      <td>422.434338</td>\n",
       "      <td>422.494183</td>\n",
       "      <td>422.524263</td>\n",
       "      <td>422.532223</td>\n",
       "      <td>422.528320</td>\n",
       "      <td>422.524402</td>\n",
       "      <td>422.532773</td>\n",
       "      <td>18.437118</td>\n",
       "      <td>73.74606</td>\n",
       "      <td>8860885637fffff</td>\n",
       "    </tr>\n",
       "    <tr>\n",
       "      <th>2</th>\n",
       "      <td>2</td>\n",
       "      <td>380.736907</td>\n",
       "      <td>380.859320</td>\n",
       "      <td>381.027826</td>\n",
       "      <td>381.246293</td>\n",
       "      <td>381.514881</td>\n",
       "      <td>381.829957</td>\n",
       "      <td>382.184334</td>\n",
       "      <td>382.567814</td>\n",
       "      <td>382.967990</td>\n",
       "      <td>...</td>\n",
       "      <td>422.238910</td>\n",
       "      <td>422.300446</td>\n",
       "      <td>422.332571</td>\n",
       "      <td>422.342822</td>\n",
       "      <td>422.341338</td>\n",
       "      <td>422.339836</td>\n",
       "      <td>422.350495</td>\n",
       "      <td>18.437118</td>\n",
       "      <td>73.74827</td>\n",
       "      <td>886088544bfffff</td>\n",
       "    </tr>\n",
       "    <tr>\n",
       "      <th>3</th>\n",
       "      <td>3</td>\n",
       "      <td>380.670628</td>\n",
       "      <td>380.793979</td>\n",
       "      <td>380.963188</td>\n",
       "      <td>381.182089</td>\n",
       "      <td>381.450824</td>\n",
       "      <td>381.765758</td>\n",
       "      <td>382.119717</td>\n",
       "      <td>382.502529</td>\n",
       "      <td>382.901827</td>\n",
       "      <td>...</td>\n",
       "      <td>422.134856</td>\n",
       "      <td>422.197293</td>\n",
       "      <td>422.230506</td>\n",
       "      <td>422.241977</td>\n",
       "      <td>422.241780</td>\n",
       "      <td>422.241566</td>\n",
       "      <td>422.253442</td>\n",
       "      <td>18.437118</td>\n",
       "      <td>73.75048</td>\n",
       "      <td>886088544bfffff</td>\n",
       "    </tr>\n",
       "    <tr>\n",
       "      <th>4</th>\n",
       "      <td>4</td>\n",
       "      <td>380.368183</td>\n",
       "      <td>380.495815</td>\n",
       "      <td>380.668232</td>\n",
       "      <td>380.889116</td>\n",
       "      <td>381.158524</td>\n",
       "      <td>381.472810</td>\n",
       "      <td>381.824858</td>\n",
       "      <td>382.204620</td>\n",
       "      <td>382.599913</td>\n",
       "      <td>...</td>\n",
       "      <td>421.660038</td>\n",
       "      <td>421.726584</td>\n",
       "      <td>421.764764</td>\n",
       "      <td>421.781803</td>\n",
       "      <td>421.787481</td>\n",
       "      <td>421.793138</td>\n",
       "      <td>421.810571</td>\n",
       "      <td>18.437118</td>\n",
       "      <td>73.75269</td>\n",
       "      <td>8860885635fffff</td>\n",
       "    </tr>\n",
       "  </tbody>\n",
       "</table>\n",
       "<p>5 rows × 484 columns</p>\n",
       "</div>"
      ],
      "text/plain": [
       "   Unnamed: 0           0           1           2           3           4  \\\n",
       "0           0  381.297216  381.411697  381.574261  381.789055  382.056395   \n",
       "1           1  380.861388  380.982039  381.149225  381.366876  381.635187   \n",
       "2           2  380.736907  380.859320  381.027826  381.246293  381.514881   \n",
       "3           3  380.670628  380.793979  380.963188  381.182089  381.450824   \n",
       "4           4  380.368183  380.495815  380.668232  380.889116  381.158524   \n",
       "\n",
       "            5           6           7           8  ...         473  \\\n",
       "0  382.372673  382.730591  383.119720  383.527316  ...  423.118559   \n",
       "1  381.950530  382.305694  382.690429  383.092253  ...  422.434338   \n",
       "2  381.829957  382.184334  382.567814  382.967990  ...  422.238910   \n",
       "3  381.765758  382.119717  382.502529  382.901827  ...  422.134856   \n",
       "4  381.472810  381.824858  382.204620  382.599913  ...  421.660038   \n",
       "\n",
       "          474         475         476         477         478         479  \\\n",
       "0  423.172481  423.195405  423.195342  423.182973  423.170593  423.170957   \n",
       "1  422.494183  422.524263  422.532223  422.528320  422.524402  422.532773   \n",
       "2  422.300446  422.332571  422.342822  422.341338  422.339836  422.350495   \n",
       "3  422.197293  422.230506  422.241977  422.241780  422.241566  422.253442   \n",
       "4  421.726584  421.764764  421.781803  421.787481  421.793138  421.810571   \n",
       "\n",
       "    latitude  longitude           hex_id  \n",
       "0  18.437118   73.74385  8860885637fffff  \n",
       "1  18.437118   73.74606  8860885637fffff  \n",
       "2  18.437118   73.74827  886088544bfffff  \n",
       "3  18.437118   73.75048  886088544bfffff  \n",
       "4  18.437118   73.75269  8860885635fffff  \n",
       "\n",
       "[5 rows x 484 columns]"
      ]
     },
     "execution_count": 34,
     "metadata": {},
     "output_type": "execute_result"
    }
   ],
   "source": [
    "df.head()"
   ]
  },
  {
   "cell_type": "code",
   "execution_count": 35,
   "id": "a80e3bb4",
   "metadata": {},
   "outputs": [],
   "source": [
    "def to_geojson(longitude, latitude):\n",
    "        return '{\"type\": \"Polygon\", \"geometry\": {\"type\": \"Polygon\", \"coordinates\": [[[' + str(longitude) +str(',') + str(latitude) + ']]]}}'\n"
   ]
  },
  {
   "cell_type": "code",
   "execution_count": 36,
   "id": "09aac5c2",
   "metadata": {},
   "outputs": [],
   "source": [
    "df['geojson'] = df.apply(lambda row: to_geojson(row['longitude'], row['latitude']), axis=1)"
   ]
  },
  {
   "cell_type": "code",
   "execution_count": 37,
   "id": "3f8d60cf",
   "metadata": {},
   "outputs": [
    {
     "data": {
      "text/plain": [
       "'{\"type\": \"Polygon\", \"geometry\": {\"type\": \"Polygon\", \"coordinates\": [[[73.74385,18.437118]]]}}'"
      ]
     },
     "execution_count": 37,
     "metadata": {},
     "output_type": "execute_result"
    }
   ],
   "source": [
    "df['geojson'][0]"
   ]
  },
  {
   "cell_type": "code",
   "execution_count": 38,
   "id": "624a696f",
   "metadata": {},
   "outputs": [],
   "source": [
    "df = df.drop('hex_id', axis=1)"
   ]
  },
  {
   "cell_type": "code",
   "execution_count": 39,
   "id": "5e603565",
   "metadata": {},
   "outputs": [],
   "source": [
    "df.to_csv('Atm_Pr_geojson_data.csv')"
   ]
  },
  {
   "cell_type": "code",
   "execution_count": 40,
   "id": "074c4357",
   "metadata": {},
   "outputs": [],
   "source": [
    "import pandas as pd\n",
    "import psycopg2\n",
    "from sqlalchemy import create_engine"
   ]
  },
  {
   "cell_type": "code",
   "execution_count": 41,
   "id": "436e1c73",
   "metadata": {},
   "outputs": [],
   "source": [
    "db_config = {\n",
    "    'dbname': 'postgresdb',\n",
    "    'user': 'postgres',\n",
    "    'password': 'timescaledbpg',\n",
    "    'host': '65.2.69.78',  # Replace with your database host\n",
    "    'port': 32588          # Replace with your database port\n",
    "}"
   ]
  },
  {
   "cell_type": "code",
   "execution_count": 42,
   "id": "69f25890",
   "metadata": {},
   "outputs": [],
   "source": [
    "connection = psycopg2.connect(**db_config)"
   ]
  },
  {
   "cell_type": "code",
   "execution_count": 43,
   "id": "8d6a3348",
   "metadata": {},
   "outputs": [],
   "source": [
    "table_name = 'test_atm_press_pune_aqm_geojson'"
   ]
  },
  {
   "cell_type": "code",
   "execution_count": 44,
   "id": "6406ad35",
   "metadata": {},
   "outputs": [],
   "source": [
    "engine = create_engine(f'postgresql+psycopg2://{db_config[\"user\"]}:{db_config[\"password\"]}@{db_config[\"host\"]}:{db_config[\"port\"]}/{db_config[\"dbname\"]}')"
   ]
  },
  {
   "cell_type": "code",
   "execution_count": 45,
   "id": "9f51b172",
   "metadata": {},
   "outputs": [
    {
     "data": {
      "text/plain": [
       "50"
      ]
     },
     "execution_count": 45,
     "metadata": {},
     "output_type": "execute_result"
    }
   ],
   "source": [
    "df.to_sql(table_name, engine, if_exists='replace', index=False)"
   ]
  },
  {
   "cell_type": "code",
   "execution_count": null,
   "id": "8b02b8c7",
   "metadata": {},
   "outputs": [],
   "source": []
  }
 ],
 "metadata": {
  "kernelspec": {
   "display_name": "Python 3 (ipykernel)",
   "language": "python",
   "name": "python3"
  },
  "language_info": {
   "codemirror_mode": {
    "name": "ipython",
    "version": 3
   },
   "file_extension": ".py",
   "mimetype": "text/x-python",
   "name": "python",
   "nbconvert_exporter": "python",
   "pygments_lexer": "ipython3",
   "version": "3.8.13"
  }
 },
 "nbformat": 4,
 "nbformat_minor": 5
}
